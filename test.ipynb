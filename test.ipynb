{
 "cells": [
  {
   "cell_type": "code",
   "execution_count": 1,
   "id": "3068f9d7-9f7a-43e0-a81a-0332826856af",
   "metadata": {},
   "outputs": [],
   "source": [
    "from catppuccin_palette import catppuccin as cpc"
   ]
  },
  {
   "cell_type": "markdown",
   "id": "2fa5ba28-05d1-4615-8b01-b3f45ebdb0db",
   "metadata": {},
   "source": [
    "for colors"
   ]
  },
  {
   "cell_type": "code",
   "execution_count": 2,
   "id": "a614494a-c0a4-46e2-bde4-507b7f93009a",
   "metadata": {},
   "outputs": [
    {
     "data": {
      "text/html": [
       "<svg  width=\"550\" height=\"55\"><rect x=\"0\" y=\"0\" width=\"55\" height=\"55\" style=\"fill:#1e66f5;stroke-width:2;stroke:rgb(255,255,255)\"/><rect x=\"55\" y=\"0\" width=\"55\" height=\"55\" style=\"fill:#fb640e;stroke-width:2;stroke:rgb(255,255,255)\"/><rect x=\"110\" y=\"0\" width=\"55\" height=\"55\" style=\"fill:#449f2a;stroke-width:2;stroke:rgb(255,255,255)\"/><rect x=\"165\" y=\"0\" width=\"55\" height=\"55\" style=\"fill:#d20f39;stroke-width:2;stroke:rgb(255,255,255)\"/><rect x=\"220\" y=\"0\" width=\"55\" height=\"55\" style=\"fill:#8939ed;stroke-width:2;stroke:rgb(255,255,255)\"/><rect x=\"275\" y=\"0\" width=\"55\" height=\"55\" style=\"fill:#dd7879;stroke-width:2;stroke:rgb(255,255,255)\"/><rect x=\"330\" y=\"0\" width=\"55\" height=\"55\" style=\"fill:#ea76cb;stroke-width:2;stroke:rgb(255,255,255)\"/><rect x=\"385\" y=\"0\" width=\"55\" height=\"55\" style=\"fill:#6f7083;stroke-width:2;stroke:rgb(255,255,255)\"/><rect x=\"440\" y=\"0\" width=\"55\" height=\"55\" style=\"fill:#dd8e1f;stroke-width:2;stroke:rgb(255,255,255)\"/><rect x=\"495\" y=\"0\" width=\"55\" height=\"55\" style=\"fill:#209fb5;stroke-width:2;stroke:rgb(255,255,255)\"/></svg>"
      ],
      "text/plain": [
       "[(0.11764705882352941, 0.4, 0.9607843137254902),\n",
       " (0.9857439446366782, 0.3922491349480969, 0.053933102652825804),\n",
       " (0.2685121107266435, 0.6219146482122261, 0.16567474048442907),\n",
       " (0.8235294117647058, 0.05882352941176472, 0.2235294117647059),\n",
       " (0.5367474048442906, 0.22159169550173013, 0.9288581314878894),\n",
       " (0.8672664359861592, 0.4704959630911188, 0.47441753171856954),\n",
       " (0.9176470588235294, 0.4627450980392157, 0.796078431372549),\n",
       " (0.4341407151095735, 0.43815455594002317, 0.5119723183391001),\n",
       " (0.8656978085351785, 0.5576470588235295, 0.12073817762399097),\n",
       " (0.12549019607843137, 0.6235294117647059, 0.7098039215686275)]"
      ]
     },
     "execution_count": 2,
     "metadata": {},
     "output_type": "execute_result"
    }
   ],
   "source": [
    "cpc.color_palette(cat='latte')"
   ]
  },
  {
   "cell_type": "code",
   "execution_count": 3,
   "id": "808a6300-94b3-4dd9-9d6b-b1afad030aba",
   "metadata": {},
   "outputs": [
    {
     "data": {
      "text/html": [
       "<svg  width=\"550\" height=\"55\"><rect x=\"0\" y=\"0\" width=\"55\" height=\"55\" style=\"fill:#8caaee;stroke-width:2;stroke:rgb(255,255,255)\"/><rect x=\"55\" y=\"0\" width=\"55\" height=\"55\" style=\"fill:#ee9f77;stroke-width:2;stroke:rgb(255,255,255)\"/><rect x=\"110\" y=\"0\" width=\"55\" height=\"55\" style=\"fill:#a8d089;stroke-width:2;stroke:rgb(255,255,255)\"/><rect x=\"165\" y=\"0\" width=\"55\" height=\"55\" style=\"fill:#e78284;stroke-width:2;stroke:rgb(255,255,255)\"/><rect x=\"220\" y=\"0\" width=\"55\" height=\"55\" style=\"fill:#ca9ee5;stroke-width:2;stroke:rgb(255,255,255)\"/><rect x=\"275\" y=\"0\" width=\"55\" height=\"55\" style=\"fill:#eebebe;stroke-width:2;stroke:rgb(255,255,255)\"/><rect x=\"330\" y=\"0\" width=\"55\" height=\"55\" style=\"fill:#f4b8e4;stroke-width:2;stroke:rgb(255,255,255)\"/><rect x=\"385\" y=\"0\" width=\"55\" height=\"55\" style=\"fill:#a7aecd;stroke-width:2;stroke:rgb(255,255,255)\"/><rect x=\"440\" y=\"0\" width=\"55\" height=\"55\" style=\"fill:#e4c891;stroke-width:2;stroke:rgb(255,255,255)\"/><rect x=\"495\" y=\"0\" width=\"55\" height=\"55\" style=\"fill:#85c1dc;stroke-width:2;stroke:rgb(255,255,255)\"/></svg>"
      ],
      "text/plain": [
       "[(0.5490196078431373, 0.6666666666666666, 0.9333333333333333),\n",
       " (0.9326874279123414, 0.6240369088811996, 0.4682814302191465),\n",
       " (0.6577162629757786, 0.8149942329873126, 0.5355017301038062),\n",
       " (0.9058823529411765, 0.5098039215686274, 0.5176470588235295),\n",
       " (0.7934948096885812, 0.6183160322952711, 0.8974394463667821),\n",
       " (0.9336101499423298, 0.7448212226066898, 0.7468512110726643),\n",
       " (0.9568627450980393, 0.7215686274509804, 0.8941176470588236),\n",
       " (0.6529642445213382, 0.6809227220299886, 0.8021222606689733),\n",
       " (0.8936101499423298, 0.7839907727797001, 0.5682122260668975),\n",
       " (0.5215686274509804, 0.7568627450980392, 0.8627450980392157)]"
      ]
     },
     "execution_count": 3,
     "metadata": {},
     "output_type": "execute_result"
    }
   ],
   "source": [
    "cpc.color_palette(cat='frappe')"
   ]
  },
  {
   "cell_type": "code",
   "execution_count": 4,
   "id": "4f2d9467-0645-4045-96ab-a0b32f5ab9f2",
   "metadata": {},
   "outputs": [
    {
     "data": {
      "text/html": [
       "<svg  width=\"550\" height=\"55\"><rect x=\"0\" y=\"0\" width=\"55\" height=\"55\" style=\"fill:#8aadf4;stroke-width:2;stroke:rgb(255,255,255)\"/><rect x=\"55\" y=\"0\" width=\"55\" height=\"55\" style=\"fill:#f4a980;stroke-width:2;stroke:rgb(255,255,255)\"/><rect x=\"110\" y=\"0\" width=\"55\" height=\"55\" style=\"fill:#a8d994;stroke-width:2;stroke:rgb(255,255,255)\"/><rect x=\"165\" y=\"0\" width=\"55\" height=\"55\" style=\"fill:#ed8796;stroke-width:2;stroke:rgb(255,255,255)\"/><rect x=\"220\" y=\"0\" width=\"55\" height=\"55\" style=\"fill:#c6a0f5;stroke-width:2;stroke:rgb(255,255,255)\"/><rect x=\"275\" y=\"0\" width=\"55\" height=\"55\" style=\"fill:#f0c6c6;stroke-width:2;stroke:rgb(255,255,255)\"/><rect x=\"330\" y=\"0\" width=\"55\" height=\"55\" style=\"fill:#f5bde6;stroke-width:2;stroke:rgb(255,255,255)\"/><rect x=\"385\" y=\"0\" width=\"55\" height=\"55\" style=\"fill:#a7aeca;stroke-width:2;stroke:rgb(255,255,255)\"/><rect x=\"440\" y=\"0\" width=\"55\" height=\"55\" style=\"fill:#edd4a0;stroke-width:2;stroke:rgb(255,255,255)\"/><rect x=\"495\" y=\"0\" width=\"55\" height=\"55\" style=\"fill:#7dc4e4;stroke-width:2;stroke:rgb(255,255,255)\"/></svg>"
      ],
      "text/plain": [
       "[(0.5411764705882353, 0.6784313725490196, 0.9568627450980393),\n",
       " (0.955847750865052, 0.6629296424452134, 0.503437139561707),\n",
       " (0.6582698961937716, 0.8503806228373703, 0.5822837370242215),\n",
       " (0.9294117647058824, 0.5294117647058824, 0.5882352941176471),\n",
       " (0.7782698961937716, 0.6262975778546713, 0.9602768166089966),\n",
       " (0.9414071510957324, 0.7760553633217994, 0.7779469434832756),\n",
       " (0.9607843137254902, 0.7411764705882353, 0.9019607843137255),\n",
       " (0.6537946943483278, 0.6820299884659747, 0.7920184544405996),\n",
       " (0.9281199538638983, 0.8306343713956171, 0.6267128027681662),\n",
       " (0.49019607843137253, 0.7686274509803922, 0.8941176470588236)]"
      ]
     },
     "execution_count": 4,
     "metadata": {},
     "output_type": "execute_result"
    }
   ],
   "source": [
    "cpc.color_palette(cat='macchiato')"
   ]
  },
  {
   "cell_type": "code",
   "execution_count": 5,
   "id": "0b5307a4-a6be-47da-9eb7-80b06ff5f759",
   "metadata": {},
   "outputs": [
    {
     "data": {
      "text/html": [
       "<svg  width=\"550\" height=\"55\"><rect x=\"0\" y=\"0\" width=\"55\" height=\"55\" style=\"fill:#89b4fa;stroke-width:2;stroke:rgb(255,255,255)\"/><rect x=\"55\" y=\"0\" width=\"55\" height=\"55\" style=\"fill:#f9b388;stroke-width:2;stroke:rgb(255,255,255)\"/><rect x=\"110\" y=\"0\" width=\"55\" height=\"55\" style=\"fill:#a8e2a0;stroke-width:2;stroke:rgb(255,255,255)\"/><rect x=\"165\" y=\"0\" width=\"55\" height=\"55\" style=\"fill:#f38ba8;stroke-width:2;stroke:rgb(255,255,255)\"/><rect x=\"220\" y=\"0\" width=\"55\" height=\"55\" style=\"fill:#cba6f6;stroke-width:2;stroke:rgb(255,255,255)\"/><rect x=\"275\" y=\"0\" width=\"55\" height=\"55\" style=\"fill:#f2cdcd;stroke-width:2;stroke:rgb(255,255,255)\"/><rect x=\"330\" y=\"0\" width=\"55\" height=\"55\" style=\"fill:#f5c2e7;stroke-width:2;stroke:rgb(255,255,255)\"/><rect x=\"385\" y=\"0\" width=\"55\" height=\"55\" style=\"fill:#a8aec7;stroke-width:2;stroke:rgb(255,255,255)\"/><rect x=\"440\" y=\"0\" width=\"55\" height=\"55\" style=\"fill:#f7e2b0;stroke-width:2;stroke:rgb(255,255,255)\"/><rect x=\"495\" y=\"0\" width=\"55\" height=\"55\" style=\"fill:#74c7ec;stroke-width:2;stroke:rgb(255,255,255)\"/></svg>"
      ],
      "text/plain": [
       "[(0.5372549019607843, 0.7058823529411765, 0.9803921568627451),\n",
       " (0.9751787773933103, 0.7020069204152248, 0.534717416378316),\n",
       " (0.6587312572087658, 0.8857670126874279, 0.6289734717416378),\n",
       " (0.9529411764705882, 0.5450980392156862, 0.6588235294117647),\n",
       " (0.7979238754325259, 0.6497347174163783, 0.9649826989619378),\n",
       " (0.9491580161476355, 0.8034140715109573, 0.8051211072664359),\n",
       " (0.9607843137254902, 0.7607843137254902, 0.9058823529411765),\n",
       " (0.6586389850057672, 0.6833217993079587, 0.7820069204152248),\n",
       " (0.9703344867358706, 0.8850288350634371, 0.6890888119953865),\n",
       " (0.4549019607843137, 0.7803921568627451, 0.9254901960784314)]"
      ]
     },
     "execution_count": 5,
     "metadata": {},
     "output_type": "execute_result"
    }
   ],
   "source": [
    "cpc.color_palette(cat='mocha', n=10)  # default"
   ]
  },
  {
   "cell_type": "markdown",
   "id": "6a8e684d-ac8a-430d-96f0-ecda1aedb3ad",
   "metadata": {},
   "source": [
    "for not 10 colors (not default): result not good"
   ]
  },
  {
   "cell_type": "code",
   "execution_count": 6,
   "id": "afcd9292-5b0c-4f90-8965-445bd337a7b4",
   "metadata": {},
   "outputs": [
    {
     "data": {
      "text/html": [
       "<svg  width=\"660\" height=\"55\"><rect x=\"0\" y=\"0\" width=\"55\" height=\"55\" style=\"fill:#89b4fa;stroke-width:2;stroke:rgb(255,255,255)\"/><rect x=\"55\" y=\"0\" width=\"55\" height=\"55\" style=\"fill:#e4b39d;stroke-width:2;stroke:rgb(255,255,255)\"/><rect x=\"110\" y=\"0\" width=\"55\" height=\"55\" style=\"fill:#c6d097;stroke-width:2;stroke:rgb(255,255,255)\"/><rect x=\"165\" y=\"0\" width=\"55\" height=\"55\" style=\"fill:#c7bda4;stroke-width:2;stroke:rgb(255,255,255)\"/><rect x=\"220\" y=\"0\" width=\"55\" height=\"55\" style=\"fill:#e793bf;stroke-width:2;stroke:rgb(255,255,255)\"/><rect x=\"275\" y=\"0\" width=\"55\" height=\"55\" style=\"fill:#cfaaf3;stroke-width:2;stroke:rgb(255,255,255)\"/><rect x=\"330\" y=\"0\" width=\"55\" height=\"55\" style=\"fill:#eec9d1;stroke-width:2;stroke:rgb(255,255,255)\"/><rect x=\"385\" y=\"0\" width=\"55\" height=\"55\" style=\"fill:#f4c5df;stroke-width:2;stroke:rgb(255,255,255)\"/><rect x=\"440\" y=\"0\" width=\"55\" height=\"55\" style=\"fill:#c8b6d5;stroke-width:2;stroke:rgb(255,255,255)\"/><rect x=\"495\" y=\"0\" width=\"55\" height=\"55\" style=\"fill:#c6c1bf;stroke-width:2;stroke:rgb(255,255,255)\"/><rect x=\"550\" y=\"0\" width=\"55\" height=\"55\" style=\"fill:#dfddbb;stroke-width:2;stroke:rgb(255,255,255)\"/><rect x=\"605\" y=\"0\" width=\"55\" height=\"55\" style=\"fill:#74c7ec;stroke-width:2;stroke:rgb(255,255,255)\"/></svg>"
      ],
      "text/plain": [
       "[(0.5372549019607843, 0.7058823529411765, 0.9803921568627451),\n",
       " (0.8941567270506818, 0.7027239297102924, 0.6171734853110795),\n",
       " (0.7769077051812651, 0.8175015039464458, 0.5933216636135423),\n",
       " (0.7822473709206865, 0.7418440871158151, 0.6421374584435849),\n",
       " (0.9074954881606622, 0.5760575344324581, 0.7487308501255173),\n",
       " (0.8109597666056041, 0.6658617273899179, 0.9526013976524866),\n",
       " (0.934138272610082, 0.7890402333943958, 0.8199476219553566),\n",
       " (0.9571938394735057, 0.7731591017029649, 0.8764149535246624),\n",
       " (0.7855463735667276, 0.7152767487617885, 0.8351182576836963),\n",
       " (0.77516140850804, 0.7583984440373612, 0.747152271750684),\n",
       " (0.8749722504918925, 0.8656695840966144, 0.7328263789945043),\n",
       " (0.4549019607843137, 0.7803921568627451, 0.9254901960784314)]"
      ]
     },
     "execution_count": 6,
     "metadata": {},
     "output_type": "execute_result"
    }
   ],
   "source": [
    "cpc.color_palette(cat='mocha', n=12)  # "
   ]
  },
  {
   "cell_type": "code",
   "execution_count": null,
   "id": "e1776718-4886-4a89-9d95-c2e74cc147ab",
   "metadata": {},
   "outputs": [],
   "source": []
  },
  {
   "cell_type": "code",
   "execution_count": null,
   "id": "70206221-510f-4614-bddb-d25ea500deaa",
   "metadata": {},
   "outputs": [],
   "source": []
  },
  {
   "cell_type": "markdown",
   "id": "e37847a9-f014-46f5-8b6a-7f39bb70eb50",
   "metadata": {},
   "source": [
    "for gray scale, n=5"
   ]
  },
  {
   "cell_type": "code",
   "execution_count": 7,
   "id": "d4a96c32-cdc8-4649-9d9f-684f71d434d7",
   "metadata": {},
   "outputs": [
    {
     "data": {
      "text/html": [
       "<svg  width=\"275\" height=\"55\"><rect x=\"0\" y=\"0\" width=\"55\" height=\"55\" style=\"fill:#4c4f69;stroke-width:2;stroke:rgb(255,255,255)\"/><rect x=\"55\" y=\"0\" width=\"55\" height=\"55\" style=\"fill:#75788c;stroke-width:2;stroke:rgb(255,255,255)\"/><rect x=\"110\" y=\"0\" width=\"55\" height=\"55\" style=\"fill:#9ea1b0;stroke-width:2;stroke:rgb(255,255,255)\"/><rect x=\"165\" y=\"0\" width=\"55\" height=\"55\" style=\"fill:#c7c9d3;stroke-width:2;stroke:rgb(255,255,255)\"/><rect x=\"220\" y=\"0\" width=\"55\" height=\"55\" style=\"fill:#eff1f5;stroke-width:2;stroke:rgb(255,255,255)\"/></svg>"
      ],
      "text/plain": [
       "[(0.2980392156862745, 0.30980392156862746, 0.4117647058823529),\n",
       " (0.45909895892228475, 0.46987556822036775, 0.5500982276801532),\n",
       " (0.620158702158295, 0.629947214872108, 0.6884317494779534),\n",
       " (0.7811889544745233, 0.7899895515299544, 0.8267399416514011),\n",
       " (0.9372549019607843, 0.9450980392156862, 0.9607843137254902)]"
      ]
     },
     "execution_count": 7,
     "metadata": {},
     "output_type": "execute_result"
    }
   ],
   "source": [
    "cpc.gray_palette(cat='latte', n=5)"
   ]
  },
  {
   "cell_type": "code",
   "execution_count": 8,
   "id": "14f4f1e0-0ce5-4571-aefe-bee7b4201e81",
   "metadata": {},
   "outputs": [
    {
     "data": {
      "text/html": [
       "<svg  width=\"275\" height=\"55\"><rect x=\"0\" y=\"0\" width=\"55\" height=\"55\" style=\"fill:#c6d0f5;stroke-width:2;stroke:rgb(255,255,255)\"/><rect x=\"55\" y=\"0\" width=\"55\" height=\"55\" style=\"fill:#a0a9c9;stroke-width:2;stroke:rgb(255,255,255)\"/><rect x=\"110\" y=\"0\" width=\"55\" height=\"55\" style=\"fill:#7a819d;stroke-width:2;stroke:rgb(255,255,255)\"/><rect x=\"165\" y=\"0\" width=\"55\" height=\"55\" style=\"fill:#555a71;stroke-width:2;stroke:rgb(255,255,255)\"/><rect x=\"220\" y=\"0\" width=\"55\" height=\"55\" style=\"fill:#303446;stroke-width:2;stroke:rgb(255,255,255)\"/></svg>"
      ],
      "text/plain": [
       "[(0.7764705882352941, 0.8156862745098039, 0.9607843137254902),\n",
       " (0.6282561005947939, 0.6615432073636837, 0.7878674114782399),\n",
       " (0.4800416129542936, 0.5074001402175634, 0.6149505092309896),\n",
       " (0.3318542641970283, 0.3532852975100074, 0.44206526901418014),\n",
       " (0.18823529411764706, 0.20392156862745098, 0.27450980392156865)]"
      ]
     },
     "execution_count": 8,
     "metadata": {},
     "output_type": "execute_result"
    }
   ],
   "source": [
    "cpc.gray_palette(cat='frappe', n=5)"
   ]
  },
  {
   "cell_type": "code",
   "execution_count": 9,
   "id": "712143ba-c112-446c-99ad-7da3b061cbe1",
   "metadata": {},
   "outputs": [
    {
     "data": {
      "text/html": [
       "<svg  width=\"275\" height=\"55\"><rect x=\"0\" y=\"0\" width=\"55\" height=\"55\" style=\"fill:#cad3f5;stroke-width:2;stroke:rgb(255,255,255)\"/><rect x=\"55\" y=\"0\" width=\"55\" height=\"55\" style=\"fill:#a0a8c6;stroke-width:2;stroke:rgb(255,255,255)\"/><rect x=\"110\" y=\"0\" width=\"55\" height=\"55\" style=\"fill:#767c97;stroke-width:2;stroke:rgb(255,255,255)\"/><rect x=\"165\" y=\"0\" width=\"55\" height=\"55\" style=\"fill:#4d5168;stroke-width:2;stroke:rgb(255,255,255)\"/><rect x=\"220\" y=\"0\" width=\"55\" height=\"55\" style=\"fill:#24273a;stroke-width:2;stroke:rgb(255,255,255)\"/></svg>"
      ],
      "text/plain": [
       "[(0.792156862745098, 0.8274509803921568, 0.9607843137254902),\n",
       " (0.6281328297562777, 0.6574983678977165, 0.776010252467),\n",
       " (0.4641087967674575, 0.4875457554032762, 0.5912361912085095),\n",
       " (0.30011479747608394, 0.31762426216161205, 0.40649596309111874),\n",
       " (0.1411764705882353, 0.15294117647058825, 0.22745098039215686)]"
      ]
     },
     "execution_count": 9,
     "metadata": {},
     "output_type": "execute_result"
    }
   ],
   "source": [
    "cpc.gray_palette(cat='macchiato', n=5)"
   ]
  },
  {
   "cell_type": "code",
   "execution_count": 10,
   "id": "8c21ce28-bc43-4b9c-aa25-408882e98267",
   "metadata": {},
   "outputs": [
    {
     "data": {
      "text/html": [
       "<svg  width=\"275\" height=\"55\"><rect x=\"0\" y=\"0\" width=\"55\" height=\"55\" style=\"fill:#cdd6f4;stroke-width:2;stroke:rgb(255,255,255)\"/><rect x=\"55\" y=\"0\" width=\"55\" height=\"55\" style=\"fill:#a1a8c2;stroke-width:2;stroke:rgb(255,255,255)\"/><rect x=\"110\" y=\"0\" width=\"55\" height=\"55\" style=\"fill:#757990;stroke-width:2;stroke:rgb(255,255,255)\"/><rect x=\"165\" y=\"0\" width=\"55\" height=\"55\" style=\"fill:#494b5e;stroke-width:2;stroke:rgb(255,255,255)\"/><rect x=\"220\" y=\"0\" width=\"55\" height=\"55\" style=\"fill:#1e1e2e;stroke-width:2;stroke:rgb(255,255,255)\"/></svg>"
      ],
      "text/plain": [
       "[(0.803921568627451, 0.8392156862745098, 0.9568627450980393),\n",
       " (0.6310046663802008, 0.6574059147688295, 0.7612196214125789),\n",
       " (0.4580877641329504, 0.47559614326314914, 0.5655764977271186),\n",
       " (0.2852025239161409, 0.29381966212090377, 0.3699691973675283),\n",
       " (0.11764705882352941, 0.11764705882352941, 0.1803921568627451)]"
      ]
     },
     "execution_count": 10,
     "metadata": {},
     "output_type": "execute_result"
    }
   ],
   "source": [
    "cpc.gray_palette(cat='mocha', n=5)"
   ]
  },
  {
   "cell_type": "code",
   "execution_count": 11,
   "id": "368ef249-9948-473d-9056-192761fd242a",
   "metadata": {},
   "outputs": [
    {
     "data": {
      "text/html": [
       "<svg  width=\"110\" height=\"55\"><rect x=\"0\" y=\"0\" width=\"55\" height=\"55\" style=\"fill:#cdd6f4;stroke-width:2;stroke:rgb(255,255,255)\"/><rect x=\"55\" y=\"0\" width=\"55\" height=\"55\" style=\"fill:#1e1e2e;stroke-width:2;stroke:rgb(255,255,255)\"/></svg>"
      ],
      "text/plain": [
       "[(0.803921568627451, 0.8392156862745098, 0.9568627450980393),\n",
       " (0.11764705882352941, 0.11764705882352941, 0.1803921568627451)]"
      ]
     },
     "execution_count": 11,
     "metadata": {},
     "output_type": "execute_result"
    }
   ],
   "source": [
    "cpc.gray_palette(cat='mocha', n=2)  # default"
   ]
  },
  {
   "cell_type": "code",
   "execution_count": null,
   "id": "1cc43eeb-7921-4351-9a87-6db960a56f0a",
   "metadata": {},
   "outputs": [],
   "source": []
  },
  {
   "cell_type": "code",
   "execution_count": null,
   "id": "0363900f-120a-4786-94d7-632b72f504af",
   "metadata": {},
   "outputs": [],
   "source": []
  },
  {
   "cell_type": "code",
   "execution_count": null,
   "id": "3364047d-f83d-4076-bc1f-20b0e28bcd18",
   "metadata": {},
   "outputs": [],
   "source": []
  },
  {
   "cell_type": "markdown",
   "id": "c63c9b54-1f01-4e4a-a148-51f89cfcaaeb",
   "metadata": {},
   "source": [
    "for diverging"
   ]
  },
  {
   "cell_type": "code",
   "execution_count": 12,
   "id": "bd17e643-75f5-425b-8c5f-b8c315a41120",
   "metadata": {},
   "outputs": [
    {
     "data": {
      "text/html": [
       "<svg  width=\"385\" height=\"55\"><rect x=\"0\" y=\"0\" width=\"55\" height=\"55\" style=\"fill:#1e66f5;stroke-width:2;stroke:rgb(255,255,255)\"/><rect x=\"55\" y=\"0\" width=\"55\" height=\"55\" style=\"fill:#6293f5;stroke-width:2;stroke:rgb(255,255,255)\"/><rect x=\"110\" y=\"0\" width=\"55\" height=\"55\" style=\"fill:#a9c3f5;stroke-width:2;stroke:rgb(255,255,255)\"/><rect x=\"165\" y=\"0\" width=\"55\" height=\"55\" style=\"fill:#efeff4;stroke-width:2;stroke:rgb(255,255,255)\"/><rect x=\"220\" y=\"0\" width=\"55\" height=\"55\" style=\"fill:#e5a6b6;stroke-width:2;stroke:rgb(255,255,255)\"/><rect x=\"275\" y=\"0\" width=\"55\" height=\"55\" style=\"fill:#db5976;stroke-width:2;stroke:rgb(255,255,255)\"/><rect x=\"330\" y=\"0\" width=\"55\" height=\"55\" style=\"fill:#d20f39;stroke-width:2;stroke:rgb(255,255,255)\"/></svg>"
      ],
      "text/plain": [
       "[(0.11764705882352941, 0.4, 0.9607843137254902),\n",
       " (0.38445918990433536, 0.5774492163647467, 0.9607843137254902),\n",
       " (0.6640522875816993, 0.7633986928104575, 0.9607843137254902),\n",
       " (0.9363681841825542, 0.9381877558405138, 0.9550359364045503),\n",
       " (0.8993464052287582, 0.6496732026143791, 0.7150326797385621),\n",
       " (0.860551190718502, 0.3473380826378992, 0.4635326684306939),\n",
       " (0.8235294117647058, 0.058823529411764705, 0.2235294117647059)]"
      ]
     },
     "execution_count": 12,
     "metadata": {},
     "output_type": "execute_result"
    }
   ],
   "source": [
    "cpc.diverging_palette(cat='latte', n=7)"
   ]
  },
  {
   "cell_type": "code",
   "execution_count": 13,
   "id": "80bbb5a1-9cda-445a-a5b6-4bdcc95b1ab4",
   "metadata": {},
   "outputs": [
    {
     "data": {
      "text/html": [
       "<svg  width=\"385\" height=\"55\"><rect x=\"0\" y=\"0\" width=\"55\" height=\"55\" style=\"fill:#1e66f5;stroke-width:2;stroke:rgb(255,255,255)\"/><rect x=\"55\" y=\"0\" width=\"55\" height=\"55\" style=\"fill:#6293f5;stroke-width:2;stroke:rgb(255,255,255)\"/><rect x=\"110\" y=\"0\" width=\"55\" height=\"55\" style=\"fill:#a9c3f5;stroke-width:2;stroke:rgb(255,255,255)\"/><rect x=\"165\" y=\"0\" width=\"55\" height=\"55\" style=\"fill:#efeff4;stroke-width:2;stroke:rgb(255,255,255)\"/><rect x=\"220\" y=\"0\" width=\"55\" height=\"55\" style=\"fill:#e5a6b6;stroke-width:2;stroke:rgb(255,255,255)\"/><rect x=\"275\" y=\"0\" width=\"55\" height=\"55\" style=\"fill:#db5976;stroke-width:2;stroke:rgb(255,255,255)\"/><rect x=\"330\" y=\"0\" width=\"55\" height=\"55\" style=\"fill:#d20f39;stroke-width:2;stroke:rgb(255,255,255)\"/></svg>"
      ],
      "text/plain": [
       "[(0.11764705882352941, 0.4, 0.9607843137254902),\n",
       " (0.38445918990433536, 0.5774492163647467, 0.9607843137254902),\n",
       " (0.6640522875816993, 0.7633986928104575, 0.9607843137254902),\n",
       " (0.9363681841825542, 0.9381877558405138, 0.9550359364045503),\n",
       " (0.8993464052287582, 0.6496732026143791, 0.7150326797385621),\n",
       " (0.860551190718502, 0.3473380826378992, 0.4635326684306939),\n",
       " (0.8235294117647058, 0.058823529411764705, 0.2235294117647059)]"
      ]
     },
     "execution_count": 13,
     "metadata": {},
     "output_type": "execute_result"
    }
   ],
   "source": [
    "cpc.diverging_palette(cat='latte', n=7, clr_set=1)"
   ]
  },
  {
   "cell_type": "code",
   "execution_count": 14,
   "id": "9db657c0-84d7-4786-847f-88fd2c5fe46a",
   "metadata": {},
   "outputs": [
    {
     "data": {
      "text/html": [
       "<svg  width=\"385\" height=\"55\"><rect x=\"0\" y=\"0\" width=\"55\" height=\"55\" style=\"fill:#209fb5;stroke-width:2;stroke:rgb(255,255,255)\"/><rect x=\"55\" y=\"0\" width=\"55\" height=\"55\" style=\"fill:#63baca;stroke-width:2;stroke:rgb(255,255,255)\"/><rect x=\"110\" y=\"0\" width=\"55\" height=\"55\" style=\"fill:#aad6e0;stroke-width:2;stroke:rgb(255,255,255)\"/><rect x=\"165\" y=\"0\" width=\"55\" height=\"55\" style=\"fill:#eff0f3;stroke-width:2;stroke:rgb(255,255,255)\"/><rect x=\"220\" y=\"0\" width=\"55\" height=\"55\" style=\"fill:#f4c2a7;stroke-width:2;stroke:rgb(255,255,255)\"/><rect x=\"275\" y=\"0\" width=\"55\" height=\"55\" style=\"fill:#f99257;stroke-width:2;stroke:rgb(255,255,255)\"/><rect x=\"330\" y=\"0\" width=\"55\" height=\"55\" style=\"fill:#fe640b;stroke-width:2;stroke:rgb(255,255,255)\"/></svg>"
      ],
      "text/plain": [
       "[(0.12549019607843137, 0.6235294117647059, 0.7098039215686275),\n",
       " (0.38974910102449284, 0.7282116832892327, 0.7915071578804532),\n",
       " (0.6666666666666666, 0.837908496732026, 0.8771241830065359),\n",
       " (0.937713549087455, 0.9407867562249813, 0.9536294185494267),\n",
       " (0.9568627450980393, 0.7607843137254902, 0.6549019607843137),\n",
       " (0.976929235361965, 0.572159305244589, 0.3418647126670736),\n",
       " (0.996078431372549, 0.39215686274509803, 0.043137254901960784)]"
      ]
     },
     "execution_count": 14,
     "metadata": {},
     "output_type": "execute_result"
    }
   ],
   "source": [
    "cpc.diverging_palette(cat='latte', n=7, clr_set=2)"
   ]
  },
  {
   "cell_type": "code",
   "execution_count": 15,
   "id": "9e844b24-fde5-4b39-8218-2989a71e1584",
   "metadata": {},
   "outputs": [
    {
     "data": {
      "text/html": [
       "<svg  width=\"385\" height=\"55\"><rect x=\"0\" y=\"0\" width=\"55\" height=\"55\" style=\"fill:#89b4fa;stroke-width:2;stroke:rgb(255,255,255)\"/><rect x=\"55\" y=\"0\" width=\"55\" height=\"55\" style=\"fill:#9fbff8;stroke-width:2;stroke:rgb(255,255,255)\"/><rect x=\"110\" y=\"0\" width=\"55\" height=\"55\" style=\"fill:#b6cbf6;stroke-width:2;stroke:rgb(255,255,255)\"/><rect x=\"165\" y=\"0\" width=\"55\" height=\"55\" style=\"fill:#cdd5f3;stroke-width:2;stroke:rgb(255,255,255)\"/><rect x=\"220\" y=\"0\" width=\"55\" height=\"55\" style=\"fill:#dabddb;stroke-width:2;stroke:rgb(255,255,255)\"/><rect x=\"275\" y=\"0\" width=\"55\" height=\"55\" style=\"fill:#e7a3c1;stroke-width:2;stroke:rgb(255,255,255)\"/><rect x=\"330\" y=\"0\" width=\"55\" height=\"55\" style=\"fill:#f38ba8;stroke-width:2;stroke:rgb(255,255,255)\"/></svg>"
      ],
      "text/plain": [
       "[(0.5372549019607843, 0.7058823529411765, 0.9803921568627451),\n",
       " (0.6240645905420992, 0.749287197231834, 0.9727324784585115),\n",
       " (0.7150326797385621, 0.7947712418300654, 0.9647058823529412),\n",
       " (0.8050834746816836, 0.8369224506411561, 0.9545389329895743),\n",
       " (0.85359477124183, 0.7411764705882353, 0.8575163398692811),\n",
       " (0.9044298799104417, 0.640844019268607, 0.7558461225320577),\n",
       " (0.9529411764705882, 0.5450980392156862, 0.6588235294117647)]"
      ]
     },
     "execution_count": 15,
     "metadata": {},
     "output_type": "execute_result"
    }
   ],
   "source": [
    "cpc.diverging_palette(cat='mocha', n=7, clr_set=1)"
   ]
  },
  {
   "cell_type": "code",
   "execution_count": 16,
   "id": "addcebbe-a256-4529-bc42-5f204c3e0f8e",
   "metadata": {},
   "outputs": [
    {
     "data": {
      "text/html": [
       "<svg  width=\"385\" height=\"55\"><rect x=\"0\" y=\"0\" width=\"55\" height=\"55\" style=\"fill:#74c7ec;stroke-width:2;stroke:rgb(255,255,255)\"/><rect x=\"55\" y=\"0\" width=\"55\" height=\"55\" style=\"fill:#91ccef;stroke-width:2;stroke:rgb(255,255,255)\"/><rect x=\"110\" y=\"0\" width=\"55\" height=\"55\" style=\"fill:#afd1f1;stroke-width:2;stroke:rgb(255,255,255)\"/><rect x=\"165\" y=\"0\" width=\"55\" height=\"55\" style=\"fill:#cdd6f3;stroke-width:2;stroke:rgb(255,255,255)\"/><rect x=\"220\" y=\"0\" width=\"55\" height=\"55\" style=\"fill:#dccad0;stroke-width:2;stroke:rgb(255,255,255)\"/><rect x=\"275\" y=\"0\" width=\"55\" height=\"55\" style=\"fill:#ebbeaa;stroke-width:2;stroke:rgb(255,255,255)\"/><rect x=\"330\" y=\"0\" width=\"55\" height=\"55\" style=\"fill:#fab387;stroke-width:2;stroke:rgb(255,255,255)\"/></svg>"
      ],
      "text/plain": [
       "[(0.4549019607843137, 0.7803921568627451, 0.9254901960784314),\n",
       " (0.5685205237804464, 0.7995413528733293, 0.9357031006174096),\n",
       " (0.6875816993464052, 0.8196078431372549, 0.94640522875817),\n",
       " (0.8052975100074632, 0.8381455096456115, 0.9535299093108985),\n",
       " (0.8627450980392157, 0.7934640522875817, 0.8143790849673203),\n",
       " (0.9229445688309926, 0.7466422416717551, 0.6685625890494606),\n",
       " (0.9803921568627451, 0.7019607843137254, 0.5294117647058824)]"
      ]
     },
     "execution_count": 16,
     "metadata": {},
     "output_type": "execute_result"
    }
   ],
   "source": [
    "cpc.diverging_palette(cat='mocha', n=7, clr_set=2)"
   ]
  },
  {
   "cell_type": "code",
   "execution_count": 17,
   "id": "17326526-7117-4d52-be22-98035f9fa21a",
   "metadata": {},
   "outputs": [
    {
     "data": {
      "text/html": [
       "<svg  width=\"385\" height=\"55\"><rect x=\"0\" y=\"0\" width=\"55\" height=\"55\" style=\"fill:#fab387;stroke-width:2;stroke:rgb(255,255,255)\"/><rect x=\"55\" y=\"0\" width=\"55\" height=\"55\" style=\"fill:#ae7e64;stroke-width:2;stroke:rgb(255,255,255)\"/><rect x=\"110\" y=\"0\" width=\"55\" height=\"55\" style=\"fill:#5f473f;stroke-width:2;stroke:rgb(255,255,255)\"/><rect x=\"165\" y=\"0\" width=\"55\" height=\"55\" style=\"fill:#12131d;stroke-width:2;stroke:rgb(255,255,255)\"/><rect x=\"220\" y=\"0\" width=\"55\" height=\"55\" style=\"fill:#395560;stroke-width:2;stroke:rgb(255,255,255)\"/><rect x=\"275\" y=\"0\" width=\"55\" height=\"55\" style=\"fill:#629aa7;stroke-width:2;stroke:rgb(255,255,255)\"/><rect x=\"330\" y=\"0\" width=\"55\" height=\"55\" style=\"fill:#89dceb;stroke-width:2;stroke:rgb(255,255,255)\"/></svg>"
      ],
      "text/plain": [
       "[(0.9803921568627451, 0.7019607843137254, 0.5294117647058824),\n",
       " (0.6829413121650043, 0.49514946739941645, 0.3915375534296764),\n",
       " (0.3712418300653595, 0.2784313725490196, 0.24705882352941178),\n",
       " (0.07033584368003257, 0.07287369111427731, 0.11224225976434403),\n",
       " (0.22352941176470587, 0.33202614379084966, 0.37777777777777777),\n",
       " (0.384061333876111, 0.6035926453626435, 0.6560331094375468),\n",
       " (0.5372549019607843, 0.8627450980392157, 0.9215686274509803)]"
      ]
     },
     "execution_count": 17,
     "metadata": {},
     "output_type": "execute_result"
    }
   ],
   "source": [
    "cpc.diverging_palette(cat='mocha', n=7, clr1='peach', clr2='crust', clr3='sky')"
   ]
  },
  {
   "cell_type": "code",
   "execution_count": 18,
   "id": "56914bcd-224f-41cf-9497-1c2082fa7f2b",
   "metadata": {},
   "outputs": [
    {
     "data": {
      "text/html": [
       "<svg  width=\"385\" height=\"55\"><rect x=\"0\" y=\"0\" width=\"55\" height=\"55\" style=\"fill:#fe640b;stroke-width:2;stroke:rgb(255,255,255)\"/><rect x=\"55\" y=\"0\" width=\"55\" height=\"55\" style=\"fill:#f38c53;stroke-width:2;stroke:rgb(255,255,255)\"/><rect x=\"110\" y=\"0\" width=\"55\" height=\"55\" style=\"fill:#e7b79e;stroke-width:2;stroke:rgb(255,255,255)\"/><rect x=\"165\" y=\"0\" width=\"55\" height=\"55\" style=\"fill:#dae0e8;stroke-width:2;stroke:rgb(255,255,255)\"/><rect x=\"220\" y=\"0\" width=\"55\" height=\"55\" style=\"fill:#94cce7;stroke-width:2;stroke:rgb(255,255,255)\"/><rect x=\"275\" y=\"0\" width=\"55\" height=\"55\" style=\"fill:#4ab8e6;stroke-width:2;stroke:rgb(255,255,255)\"/><rect x=\"330\" y=\"0\" width=\"55\" height=\"55\" style=\"fill:#04a5e5;stroke-width:2;stroke:rgb(255,255,255)\"/></svg>"
      ],
      "text/plain": [
       "[(0.996078431372549, 0.39215686274509803, 0.043137254901960784),\n",
       " (0.9526735870818915, 0.5504568830992604, 0.3252687427912342),\n",
       " (0.9071895424836601, 0.7163398692810456, 0.6209150326797385),\n",
       " (0.8561405794151571, 0.876627360517448, 0.9097121921432934),\n",
       " (0.5803921568627451, 0.8013071895424837, 0.9058823529411765),\n",
       " (0.29143469706221575, 0.7223789945043761, 0.9018690548883914),\n",
       " (0.01568627450980392, 0.6470588235294118, 0.8980392156862745)]"
      ]
     },
     "execution_count": 18,
     "metadata": {},
     "output_type": "execute_result"
    }
   ],
   "source": [
    "cpc.diverging_palette(cat='latte', n=7, clr1='peach', clr2='crust', clr3='sky')"
   ]
  },
  {
   "cell_type": "code",
   "execution_count": 19,
   "id": "2b4878a1-534c-4fa7-90c3-e349a3536344",
   "metadata": {},
   "outputs": [
    {
     "data": {
      "text/html": [
       "<svg  width=\"385\" height=\"55\"><rect x=\"0\" y=\"0\" width=\"55\" height=\"55\" style=\"fill:#fab387;stroke-width:2;stroke:rgb(255,255,255)\"/><rect x=\"55\" y=\"0\" width=\"55\" height=\"55\" style=\"fill:#b2826a;stroke-width:2;stroke:rgb(255,255,255)\"/><rect x=\"110\" y=\"0\" width=\"55\" height=\"55\" style=\"fill:#67504c;stroke-width:2;stroke:rgb(255,255,255)\"/><rect x=\"165\" y=\"0\" width=\"55\" height=\"55\" style=\"fill:#1f1f2f;stroke-width:2;stroke:rgb(255,255,255)\"/><rect x=\"220\" y=\"0\" width=\"55\" height=\"55\" style=\"fill:#3b566d;stroke-width:2;stroke:rgb(255,255,255)\"/><rect x=\"275\" y=\"0\" width=\"55\" height=\"55\" style=\"fill:#5890ae;stroke-width:2;stroke:rgb(255,255,255)\"/><rect x=\"330\" y=\"0\" width=\"55\" height=\"55\" style=\"fill:#74c7ec;stroke-width:2;stroke:rgb(255,255,255)\"/></svg>"
      ],
      "text/plain": [
       "[(0.9803921568627451, 0.7019607843137254, 0.5294117647058824),\n",
       " (0.6995372820408441, 0.5117454372752561, 0.41579320170974965),\n",
       " (0.40522875816993464, 0.31241830065359477, 0.2967320261437909),\n",
       " (0.1202766356831083, 0.12281448311735306, 0.18620168713390778),\n",
       " (0.2300653594771242, 0.338562091503268, 0.42875816993464055),\n",
       " (0.34511323699029794, 0.5646445484768303, 0.6829337132776988),\n",
       " (0.4549019607843137, 0.7803921568627451, 0.9254901960784314)]"
      ]
     },
     "execution_count": 19,
     "metadata": {},
     "output_type": "execute_result"
    }
   ],
   "source": [
    "cpc.diverging_palette(cat='mocha', n=7, clr1='peach', clr2='base', clr3='sapphire')"
   ]
  },
  {
   "cell_type": "code",
   "execution_count": 20,
   "id": "54a5555e-9477-4317-9c99-9930c4f543cf",
   "metadata": {},
   "outputs": [
    {
     "data": {
      "text/html": [
       "<svg  width=\"385\" height=\"55\"><rect x=\"0\" y=\"0\" width=\"55\" height=\"55\" style=\"fill:#7287fd;stroke-width:2;stroke:rgb(255,255,255)\"/><rect x=\"55\" y=\"0\" width=\"55\" height=\"55\" style=\"fill:#9baafa;stroke-width:2;stroke:rgb(255,255,255)\"/><rect x=\"110\" y=\"0\" width=\"55\" height=\"55\" style=\"fill:#c5cef8;stroke-width:2;stroke:rgb(255,255,255)\"/><rect x=\"165\" y=\"0\" width=\"55\" height=\"55\" style=\"fill:#eff0f4;stroke-width:2;stroke:rgb(255,255,255)\"/><rect x=\"220\" y=\"0\" width=\"55\" height=\"55\" style=\"fill:#e9cfcb;stroke-width:2;stroke:rgb(255,255,255)\"/><rect x=\"275\" y=\"0\" width=\"55\" height=\"55\" style=\"fill:#e2aca1;stroke-width:2;stroke:rgb(255,255,255)\"/><rect x=\"330\" y=\"0\" width=\"55\" height=\"55\" style=\"fill:#dc8a78;stroke-width:2;stroke:rgb(255,255,255)\"/></svg>"
      ],
      "text/plain": [
       "[(0.4470588235294118, 0.5294117647058824, 0.9921568627450981),\n",
       " (0.6066354569509466, 0.6647327498473439, 0.9819439582061199),\n",
       " (0.7738562091503267, 0.8065359477124183, 0.9712418300653595),\n",
       " (0.9366739489336681, 0.9419486622792138, 0.9569622543365675),\n",
       " (0.9124183006535947, 0.8104575163398693, 0.7973856209150327),\n",
       " (0.8870007463192889, 0.6726676165275798, 0.6301648687156522),\n",
       " (0.8627450980392157, 0.5411764705882353, 0.47058823529411764)]"
      ]
     },
     "execution_count": 20,
     "metadata": {},
     "output_type": "execute_result"
    }
   ],
   "source": [
    "cpc.diverging_palette(cat='latte', n=7, clr1='lavender', clr2='base', clr3='rosewater')"
   ]
  },
  {
   "cell_type": "code",
   "execution_count": 21,
   "id": "c9cbcf8a-5b51-4edc-8569-2a02009ad6ac",
   "metadata": {},
   "outputs": [
    {
     "data": {
      "text/html": [
       "<svg  width=\"165\" height=\"55\"><rect x=\"0\" y=\"0\" width=\"55\" height=\"55\" style=\"fill:#b4befe;stroke-width:2;stroke:rgb(255,255,255)\"/><rect x=\"55\" y=\"0\" width=\"55\" height=\"55\" style=\"fill:#bac2de;stroke-width:2;stroke:rgb(255,255,255)\"/><rect x=\"110\" y=\"0\" width=\"55\" height=\"55\" style=\"fill:#eba0ac;stroke-width:2;stroke:rgb(255,255,255)\"/></svg>"
      ],
      "text/plain": [
       "[(0.7058823529411765, 0.7450980392156863, 0.996078431372549),\n",
       " (0.7301653210303729, 0.7602614379084967, 0.8698193002691272),\n",
       " (0.9215686274509803, 0.6274509803921569, 0.6745098039215687)]"
      ]
     },
     "execution_count": 21,
     "metadata": {},
     "output_type": "execute_result"
    }
   ],
   "source": [
    "cpc.diverging_palette(cat='mocha', n=3, clr1='lavender', clr2='subtext1', clr3='maroon')"
   ]
  },
  {
   "cell_type": "code",
   "execution_count": null,
   "id": "7d929cca-d82d-451d-99ab-028bf72bc023",
   "metadata": {},
   "outputs": [],
   "source": []
  },
  {
   "cell_type": "code",
   "execution_count": null,
   "id": "7233c8f4-698d-4781-a41d-0cefeee890f6",
   "metadata": {},
   "outputs": [],
   "source": []
  },
  {
   "cell_type": "markdown",
   "id": "e6896365-3792-4cac-84d7-cc931e680332",
   "metadata": {},
   "source": [
    "for sequential colorcpc.catppuccin_cmap_sequential(cat='frappe', clr_base='crust', clr='red')"
   ]
  },
  {
   "cell_type": "code",
   "execution_count": 27,
   "id": "c07bd5c7-fb4b-48d1-8475-5702f9d9b513",
   "metadata": {},
   "outputs": [
    {
     "data": {
      "image/png": "[encoded data removed]",
      "text/html": [
       "<div style=\"vertical-align: middle;\"><strong>latte</strong> </div><div class=\"cmap\"><img alt=\"latte colormap\" title=\"latte\" style=\"border: 1px solid #555;\" src=\"data:image/png;base64,iVBORw0KGgoAAAANSUhEUgAAAgAAAABACAYAAABsv8+/AAAAFHRFWHRUaXRsZQBsYXR0ZSBjb2xvcm1hcBll4+wAAAAadEVYdERlc2NyaXB0aW9uAGxhdHRlIGNvbG9ybWFw5zpKCgAAADB0RVh0QXV0aG9yAE1hdHBsb3RsaWIgdjMuNi4yLCBodHRwczovL21hdHBsb3RsaWIub3Jncc5VXwAAADJ0RVh0U29mdHdhcmUATWF0cGxvdGxpYiB2My42LjIsIGh0dHBzOi8vbWF0cGxvdGxpYi5vcmdfaMp4AAABUUlEQVR4nO3WsQrCQBRFwaf//69iYb1pJCAoYumemSaEbG65nMvt/lgzM2vNvDzn/ft8+f7xvN0td9f5g92dd8/zdrfe/fW+sPunu0/XAQByBAAABAkAAAgSAAAQJAAAIEgAAECQAACAIAEAAEECAACCBAAABAkAAAgSAAAQJAAAIEgAAECQAACAIAEAAEECAACCBAAABAkAAAgSAAAQJAAAIEgAAECQAACAIAEAAEECAACCBAAABAkAAAgSAAAQJAAAIEgAAECQAACAIAEAAEECAACCBAAABAkAAAgSAAAQJAAAIEgAAECQAACAIAEAAEECAACCBAAABAkAAAgSAAAQJAAAIEgAAECQAACAIAEAAEECAACCBAAABAkAAAgSAAAQJAAAIEgAAECQAACAIAEAAEECAACCBAAABAkAAAgSAAAQJAAAIEgAAECQAACAoAPnzl8HCx7j2AAAAABJRU5ErkJggg==\"></div><div style=\"vertical-align: middle; max-width: 514px; display: flex; justify-content: space-between;\"><div style=\"float: left;\"><div title=\"#eff1f5ff\" style=\"display: inline-block; width: 1em; height: 1em; margin: 0; vertical-align: middle; border: 1px solid #555; background-color: #eff1f5ff;\"></div> under</div><div style=\"margin: 0 auto; display: inline-block;\">bad <div title=\"#00000000\" style=\"display: inline-block; width: 1em; height: 1em; margin: 0; vertical-align: middle; border: 1px solid #555; background-color: #00000000;\"></div></div><div style=\"float: right;\">over <div title=\"#1e66f5ff\" style=\"display: inline-block; width: 1em; height: 1em; margin: 0; vertical-align: middle; border: 1px solid #555; background-color: #1e66f5ff;\"></div></div>"
      ],
      "text/plain": [
       "<matplotlib.colors.LinearSegmentedColormap at 0x7ff2fcfff820>"
      ]
     },
     "execution_count": 27,
     "metadata": {},
     "output_type": "execute_result"
    }
   ],
   "source": [
    "cpc.catppuccin_cmap_sequential()"
   ]
  },
  {
   "cell_type": "code",
   "execution_count": 28,
   "id": "2c4bd94f-11d4-4708-8bbe-0680d8b9c883",
   "metadata": {},
   "outputs": [
    {
     "data": {
      "image/png": "[encoded data removed]",
      "text/html": [
       "<div style=\"vertical-align: middle;\"><strong>frappe</strong> </div><div class=\"cmap\"><img alt=\"frappe colormap\" title=\"frappe\" style=\"border: 1px solid #555;\" src=\"data:image/png;base64,iVBORw0KGgoAAAANSUhEUgAAAgAAAABACAYAAABsv8+/AAAAFXRFWHRUaXRsZQBmcmFwcGUgY29sb3JtYXCWZzdLAAAAG3RFWHREZXNjcmlwdGlvbgBmcmFwcGUgY29sb3JtYXDf8C+vAAAAMHRFWHRBdXRob3IATWF0cGxvdGxpYiB2My42LjIsIGh0dHBzOi8vbWF0cGxvdGxpYi5vcmdxzlVfAAAAMnRFWHRTb2Z0d2FyZQBNYXRwbG90bGliIHYzLjYuMiwgaHR0cHM6Ly9tYXRwbG90bGliLm9yZ19oyngAAAHRSURBVHic7dZBUsJAFEDBxKtY5Qm8/9V0FYGBqRADq9e9sRxI5uME662fX98/y5V1+7luv6/LzevD+t+rk/V1eMPl+uH9t9tcXT/sM1m/2+f0vI/nu1w/XHd03tl9dv/uj+c6O+8yWb+fd9hnmG/vnJedz3GZZnKfJ895mawfvs/J5/X/53zseX3VOS+T9f3PMXyeNz+vz8+7s8/h/0vveV7f9/3arn/VOb/q+zXZZ5hrmayfn3d4fef898/56Pdr2GdYP37Ox57Xba6PBQDIEQAAECQAACBIAABAkAAAgCABAABBAgAAggQAAAQJAAAIEgAAECQAACBIAABAkAAAgCABAABBAgAAggQAAAQJAAAIEgAAECQAACBIAABAkAAAgCABAABBAgAAggQAAAQJAAAIEgAAECQAACBIAABAkAAAgCABAABBAgAAggQAAAQJAAAIEgAAECQAACBIAABAkAAAgCABAABBAgAAggQAAAQJAAAIEgAAECQAACBIAABAkAAAgCABAABBAgAAggQAAAQJAAAIEgAAECQAACBIAABAkAAAgCABAABBAgAAggQAAAQJAAAIEgAAECQAACBIAABAkAAAgCABAABBAgAAgn4BVvADbNF2KF4AAAAASUVORK5CYII=\"></div><div style=\"vertical-align: middle; max-width: 514px; display: flex; justify-content: space-between;\"><div style=\"float: left;\"><div title=\"#232634ff\" style=\"display: inline-block; width: 1em; height: 1em; margin: 0; vertical-align: middle; border: 1px solid #555; background-color: #232634ff;\"></div> under</div><div style=\"margin: 0 auto; display: inline-block;\">bad <div title=\"#00000000\" style=\"display: inline-block; width: 1em; height: 1em; margin: 0; vertical-align: middle; border: 1px solid #555; background-color: #00000000;\"></div></div><div style=\"float: right;\">over <div title=\"#e78284ff\" style=\"display: inline-block; width: 1em; height: 1em; margin: 0; vertical-align: middle; border: 1px solid #555; background-color: #e78284ff;\"></div></div>"
      ],
      "text/plain": [
       "<matplotlib.colors.LinearSegmentedColormap at 0x7ff2fcfffaf0>"
      ]
     },
     "execution_count": 28,
     "metadata": {},
     "output_type": "execute_result"
    }
   ],
   "source": [
    "cpc.catppuccin_cmap_sequential(cat='frappe', clr_base='crust', clr='red')"
   ]
  },
  {
   "cell_type": "code",
   "execution_count": 29,
   "id": "b5975dc1-e7f4-43f9-a7f3-3e6157fbb05e",
   "metadata": {},
   "outputs": [
    {
     "data": {
      "text/html": [
       "<svg  width=\"275\" height=\"55\"><rect x=\"0\" y=\"0\" width=\"55\" height=\"55\" style=\"fill:#eff1f5;stroke-width:2;stroke:rgb(255,255,255)\"/><rect x=\"55\" y=\"0\" width=\"55\" height=\"55\" style=\"fill:#bacef5;stroke-width:2;stroke:rgb(255,255,255)\"/><rect x=\"110\" y=\"0\" width=\"55\" height=\"55\" style=\"fill:#86abf5;stroke-width:2;stroke:rgb(255,255,255)\"/><rect x=\"165\" y=\"0\" width=\"55\" height=\"55\" style=\"fill:#5188f5;stroke-width:2;stroke:rgb(255,255,255)\"/><rect x=\"220\" y=\"0\" width=\"55\" height=\"55\" style=\"fill:#1e66f5;stroke-width:2;stroke:rgb(255,255,255)\"/></svg>"
      ],
      "text/plain": [
       "[(0.9372549019607843, 0.9450980392156862, 0.9607843137254902),\n",
       " (0.7307427158483539, 0.807752614002156, 0.9607843137254902),\n",
       " (0.5242305297359235, 0.6704071887886258, 0.9607843137254902),\n",
       " (0.3177561571341339, 0.53308691227356, 0.9607843137254902),\n",
       " (0.11764705882352941, 0.4, 0.9607843137254902)]"
      ]
     },
     "execution_count": 29,
     "metadata": {},
     "output_type": "execute_result"
    }
   ],
   "source": [
    "cpc.sequential_palette()"
   ]
  },
  {
   "cell_type": "code",
   "execution_count": 30,
   "id": "4760f183-e283-47dc-8bc0-9631578dfdf9",
   "metadata": {},
   "outputs": [
    {
     "data": {
      "text/html": [
       "<svg  width=\"440\" height=\"55\"><rect x=\"0\" y=\"0\" width=\"55\" height=\"55\" style=\"fill:#dce0e8;stroke-width:2;stroke:rgb(255,255,255)\"/><rect x=\"55\" y=\"0\" width=\"55\" height=\"55\" style=\"fill:#dbc3d0;stroke-width:2;stroke:rgb(255,255,255)\"/><rect x=\"110\" y=\"0\" width=\"55\" height=\"55\" style=\"fill:#d9a4b6;stroke-width:2;stroke:rgb(255,255,255)\"/><rect x=\"165\" y=\"0\" width=\"55\" height=\"55\" style=\"fill:#d8879d;stroke-width:2;stroke:rgb(255,255,255)\"/><rect x=\"220\" y=\"0\" width=\"55\" height=\"55\" style=\"fill:#d66884;stroke-width:2;stroke:rgb(255,255,255)\"/><rect x=\"275\" y=\"0\" width=\"55\" height=\"55\" style=\"fill:#d54b6b;stroke-width:2;stroke:rgb(255,255,255)\"/><rect x=\"330\" y=\"0\" width=\"55\" height=\"55\" style=\"fill:#d32c51;stroke-width:2;stroke:rgb(255,255,255)\"/><rect x=\"385\" y=\"0\" width=\"55\" height=\"55\" style=\"fill:#d20f39;stroke-width:2;stroke:rgb(255,255,255)\"/></svg>"
      ],
      "text/plain": [
       "[(0.8627450980392157, 0.8784313725490196, 0.9098039215686274),\n",
       " (0.8572738991790488, 0.7640833163715313, 0.8140579415157065),\n",
       " (0.8514969355677681, 0.6433447768957641, 0.7129610783182938),\n",
       " (0.8460257367076011, 0.5289967207182757, 0.6172150982653731),\n",
       " (0.8402487730963205, 0.4082581812425085, 0.5161182350679603),\n",
       " (0.8347775742361535, 0.2939101250650201, 0.42037225501503933),\n",
       " (0.8290006106248727, 0.173171585589253, 0.3192753918176267),\n",
       " (0.8235294117647058, 0.058823529411764705, 0.2235294117647059)]"
      ]
     },
     "execution_count": 30,
     "metadata": {},
     "output_type": "execute_result"
    }
   ],
   "source": [
    "cpc.sequential_palette(cat='latte', n=8, clr_base='crust', clr='red')"
   ]
  },
  {
   "cell_type": "code",
   "execution_count": 32,
   "id": "08c67cfc-5b43-40e3-958a-68b630959a38",
   "metadata": {},
   "outputs": [
    {
     "data": {
      "text/html": [
       "<svg  width=\"440\" height=\"55\"><rect x=\"0\" y=\"0\" width=\"55\" height=\"55\" style=\"fill:#4c4f69;stroke-width:2;stroke:rgb(255,255,255)\"/><rect x=\"55\" y=\"0\" width=\"55\" height=\"55\" style=\"fill:#60576b;stroke-width:2;stroke:rgb(255,255,255)\"/><rect x=\"110\" y=\"0\" width=\"55\" height=\"55\" style=\"fill:#75606d;stroke-width:2;stroke:rgb(255,255,255)\"/><rect x=\"165\" y=\"0\" width=\"55\" height=\"55\" style=\"fill:#89686f;stroke-width:2;stroke:rgb(255,255,255)\"/><rect x=\"220\" y=\"0\" width=\"55\" height=\"55\" style=\"fill:#9f7172;stroke-width:2;stroke:rgb(255,255,255)\"/><rect x=\"275\" y=\"0\" width=\"55\" height=\"55\" style=\"fill:#b37974;stroke-width:2;stroke:rgb(255,255,255)\"/><rect x=\"330\" y=\"0\" width=\"55\" height=\"55\" style=\"fill:#c88276;stroke-width:2;stroke:rgb(255,255,255)\"/><rect x=\"385\" y=\"0\" width=\"55\" height=\"55\" style=\"fill:#dc8a78;stroke-width:2;stroke:rgb(255,255,255)\"/></svg>"
      ],
      "text/plain": [
       "[(0.2980392156862745, 0.30980392156862746, 0.4117647058823529),\n",
       " (0.3768244792726779, 0.3420839948436122, 0.4199715041726033),\n",
       " (0.4600127552751204, 0.3761680801501685, 0.42863694958952436),\n",
       " (0.5387980188615238, 0.4084481534251532, 0.43684374787977476),\n",
       " (0.6219862948639664, 0.44253223873170955, 0.4455091932966958),\n",
       " (0.7007715584503699, 0.47481231200669427, 0.4537159915869462),\n",
       " (0.7839598344528124, 0.5088963973132505, 0.46238143700386725),\n",
       " (0.8627450980392157, 0.5411764705882353, 0.47058823529411764)]"
      ]
     },
     "execution_count": 32,
     "metadata": {},
     "output_type": "execute_result"
    }
   ],
   "source": [
    "cpc.sequential_palette(cat='latte', n=8, clr_base='text', clr='rosewater')"
   ]
  },
  {
   "cell_type": "code",
   "execution_count": 33,
   "id": "cee109bc-c711-443a-a7fd-5f053140ec23",
   "metadata": {},
   "outputs": [
    {
     "data": {
      "text/html": [
       "<svg  width=\"440\" height=\"55\"><rect x=\"0\" y=\"0\" width=\"55\" height=\"55\" style=\"fill:#eff1f5;stroke-width:2;stroke:rgb(255,255,255)\"/><rect x=\"55\" y=\"0\" width=\"55\" height=\"55\" style=\"fill:#ece3e4;stroke-width:2;stroke:rgb(255,255,255)\"/><rect x=\"110\" y=\"0\" width=\"55\" height=\"55\" style=\"fill:#ead3d1;stroke-width:2;stroke:rgb(255,255,255)\"/><rect x=\"165\" y=\"0\" width=\"55\" height=\"55\" style=\"fill:#e7c5c0;stroke-width:2;stroke:rgb(255,255,255)\"/><rect x=\"220\" y=\"0\" width=\"55\" height=\"55\" style=\"fill:#e4b6ad;stroke-width:2;stroke:rgb(255,255,255)\"/><rect x=\"275\" y=\"0\" width=\"55\" height=\"55\" style=\"fill:#e1a89c;stroke-width:2;stroke:rgb(255,255,255)\"/><rect x=\"330\" y=\"0\" width=\"55\" height=\"55\" style=\"fill:#df9889;stroke-width:2;stroke:rgb(255,255,255)\"/><rect x=\"385\" y=\"0\" width=\"55\" height=\"55\" style=\"fill:#dc8a78;stroke-width:2;stroke:rgb(255,255,255)\"/></svg>"
      ],
      "text/plain": [
       "[(0.9372549019607843, 0.9450980392156862, 0.9607843137254902),\n",
       " (0.9268596241264673, 0.8887446909559671, 0.8923943279734039),\n",
       " (0.9158833932650338, 0.8292419657597756, 0.8201822828323948),\n",
       " (0.9054881154307167, 0.7728886175000564, 0.7517922970803086),\n",
       " (0.8945118845692833, 0.713385892303865, 0.6795802519392994),\n",
       " (0.8841166067349662, 0.6570325440441458, 0.611190266187213),\n",
       " (0.8731403758735328, 0.5975298188479544, 0.538978221046204),\n",
       " (0.8627450980392157, 0.5411764705882353, 0.47058823529411764)]"
      ]
     },
     "execution_count": 33,
     "metadata": {},
     "output_type": "execute_result"
    }
   ],
   "source": [
    "cpc.sequential_palette(cat='latte', n=8, clr_base='base', clr='rosewater')"
   ]
  },
  {
   "cell_type": "code",
   "execution_count": 35,
   "id": "9fc7bbae-e890-46c7-8e13-a0ea5a80e4ea",
   "metadata": {},
   "outputs": [
    {
     "data": {
      "text/html": [
       "<svg  width=\"440\" height=\"55\"><rect x=\"0\" y=\"0\" width=\"55\" height=\"55\" style=\"fill:#eff1f5;stroke-width:2;stroke:rgb(255,255,255)\"/><rect x=\"55\" y=\"0\" width=\"55\" height=\"55\" style=\"fill:#ece3e4;stroke-width:2;stroke:rgb(255,255,255)\"/><rect x=\"110\" y=\"0\" width=\"55\" height=\"55\" style=\"fill:#ead3d1;stroke-width:2;stroke:rgb(255,255,255)\"/><rect x=\"165\" y=\"0\" width=\"55\" height=\"55\" style=\"fill:#e7c5c0;stroke-width:2;stroke:rgb(255,255,255)\"/><rect x=\"220\" y=\"0\" width=\"55\" height=\"55\" style=\"fill:#e4b6ad;stroke-width:2;stroke:rgb(255,255,255)\"/><rect x=\"275\" y=\"0\" width=\"55\" height=\"55\" style=\"fill:#e1a89c;stroke-width:2;stroke:rgb(255,255,255)\"/><rect x=\"330\" y=\"0\" width=\"55\" height=\"55\" style=\"fill:#df9889;stroke-width:2;stroke:rgb(255,255,255)\"/><rect x=\"385\" y=\"0\" width=\"55\" height=\"55\" style=\"fill:#dc8a78;stroke-width:2;stroke:rgb(255,255,255)\"/></svg>"
      ],
      "text/plain": [
       "[(0.9372549019607843, 0.9450980392156862, 0.9607843137254902),\n",
       " (0.9268596241264673, 0.8887446909559671, 0.8923943279734039),\n",
       " (0.9158833932650338, 0.8292419657597756, 0.8201822828323948),\n",
       " (0.9054881154307167, 0.7728886175000564, 0.7517922970803086),\n",
       " (0.8945118845692833, 0.713385892303865, 0.6795802519392994),\n",
       " (0.8841166067349662, 0.6570325440441458, 0.611190266187213),\n",
       " (0.8731403758735328, 0.5975298188479544, 0.538978221046204),\n",
       " (0.8627450980392157, 0.5411764705882353, 0.47058823529411764)]"
      ]
     },
     "execution_count": 35,
     "metadata": {},
     "output_type": "execute_result"
    }
   ],
   "source": [
    "cpc.sequential_palette(cat='latte', n=8, clr='rosewater')"
   ]
  },
  {
   "cell_type": "code",
   "execution_count": 37,
   "id": "c260efca-8c74-4775-9284-bbd8ab504502",
   "metadata": {},
   "outputs": [
    {
     "data": {
      "text/html": [
       "<svg  width=\"330\" height=\"55\"><rect x=\"0\" y=\"0\" width=\"55\" height=\"55\" style=\"fill:#dce0e8;stroke-width:2;stroke:rgb(255,255,255)\"/><rect x=\"55\" y=\"0\" width=\"55\" height=\"55\" style=\"fill:#dab6c5;stroke-width:2;stroke:rgb(255,255,255)\"/><rect x=\"110\" y=\"0\" width=\"55\" height=\"55\" style=\"fill:#d88ca2;stroke-width:2;stroke:rgb(255,255,255)\"/><rect x=\"165\" y=\"0\" width=\"55\" height=\"55\" style=\"fill:#d6637f;stroke-width:2;stroke:rgb(255,255,255)\"/><rect x=\"220\" y=\"0\" width=\"55\" height=\"55\" style=\"fill:#d4395c;stroke-width:2;stroke:rgb(255,255,255)\"/><rect x=\"275\" y=\"0\" width=\"55\" height=\"55\" style=\"fill:#d20f39;stroke-width:2;stroke:rgb(255,255,255)\"/></svg>"
      ],
      "text/plain": [
       "[(0.8627450980392157, 0.8784313725490196, 0.9098039215686274),\n",
       " (0.8549019607843138, 0.7145098039215686, 0.7725490196078431),\n",
       " (0.8470588235294118, 0.5505882352941176, 0.6352941176470588),\n",
       " (0.8392156862745098, 0.3866666666666668, 0.49803921568627463),\n",
       " (0.8313725490196078, 0.2227450980392156, 0.36078431372549014),\n",
       " (0.8235294117647058, 0.058823529411764705, 0.2235294117647059)]"
      ]
     },
     "execution_count": 37,
     "metadata": {},
     "output_type": "execute_result"
    }
   ],
   "source": [
    "cpc.sequential_palette(cat='latte', n=6, clr_base='crust', clr='red')"
   ]
  },
  {
   "cell_type": "code",
   "execution_count": null,
   "id": "6aec0799-04b4-4dd5-b9c2-488b940534d5",
   "metadata": {},
   "outputs": [],
   "source": []
  },
  {
   "cell_type": "code",
   "execution_count": null,
   "id": "6bd2ff11-7867-42c9-a135-f4c92a212b9d",
   "metadata": {},
   "outputs": [],
   "source": []
  },
  {
   "cell_type": "code",
   "execution_count": null,
   "id": "21f95d84-36a9-4595-9295-d069e7de8b55",
   "metadata": {},
   "outputs": [],
   "source": []
  },
  {
   "cell_type": "code",
   "execution_count": null,
   "id": "07dcbf4f-8a84-4431-b2e9-6ecdbf0a7618",
   "metadata": {},
   "outputs": [],
   "source": []
  },
  {
   "cell_type": "code",
   "execution_count": 1,
   "id": "fc6c2ebe-fcdc-4984-ab47-2daf552ccb34",
   "metadata": {},
   "outputs": [],
   "source": [
    "from catppuccin_palette import catppuccin as cpc"
   ]
  },
  {
   "cell_type": "code",
   "execution_count": 2,
   "id": "bd7d89a9-1feb-4b2a-acb6-5d910f54860b",
   "metadata": {},
   "outputs": [
    {
     "name": "stdout",
     "output_type": "stream",
     "text": [
      "Color map name not found, please check\n",
      "Current available named colormap: Oranges, Yellows, Blues, Reds, Maroons, Flamingos, Greens, PuBu, Purples, YrOr, Rosewaters, YlOrRd, YlGnBu, YlGn\n",
      "Returning None\n"
     ]
    }
   ],
   "source": [
    "cpc.get_catppuccin_named_sequential(name='')"
   ]
  },
  {
   "cell_type": "code",
   "execution_count": 2,
   "id": "0dc7d33c-6c0f-47c3-b717-75a7528e0044",
   "metadata": {},
   "outputs": [
    {
     "data": {
      "text/html": [
       "<svg  width=\"550\" height=\"55\"><rect x=\"0\" y=\"0\" width=\"55\" height=\"55\" style=\"fill:#f0e4e0;stroke-width:2;stroke:rgb(255,255,255)\"/><rect x=\"55\" y=\"0\" width=\"55\" height=\"55\" style=\"fill:#f2d8cb;stroke-width:2;stroke:rgb(255,255,255)\"/><rect x=\"110\" y=\"0\" width=\"55\" height=\"55\" style=\"fill:#f3cbb6;stroke-width:2;stroke:rgb(255,255,255)\"/><rect x=\"165\" y=\"0\" width=\"55\" height=\"55\" style=\"fill:#f4bea0;stroke-width:2;stroke:rgb(255,255,255)\"/><rect x=\"220\" y=\"0\" width=\"55\" height=\"55\" style=\"fill:#f6b18b;stroke-width:2;stroke:rgb(255,255,255)\"/><rect x=\"275\" y=\"0\" width=\"55\" height=\"55\" style=\"fill:#f7a475;stroke-width:2;stroke:rgb(255,255,255)\"/><rect x=\"330\" y=\"0\" width=\"55\" height=\"55\" style=\"fill:#f99760;stroke-width:2;stroke:rgb(255,255,255)\"/><rect x=\"385\" y=\"0\" width=\"55\" height=\"55\" style=\"fill:#fa8a4a;stroke-width:2;stroke:rgb(255,255,255)\"/><rect x=\"440\" y=\"0\" width=\"55\" height=\"55\" style=\"fill:#fb7d35;stroke-width:2;stroke:rgb(255,255,255)\"/><rect x=\"495\" y=\"0\" width=\"55\" height=\"55\" style=\"fill:#fd7120;stroke-width:2;stroke:rgb(255,255,255)\"/></svg>"
      ],
      "text/plain": [
       "[(0.942560553633218, 0.8952249134948097, 0.8780161476355248),\n",
       " (0.9478037858742113, 0.8459385304294728, 0.7962217246760296),\n",
       " (0.9530470181152045, 0.7966521473641359, 0.7144273017165343),\n",
       " (0.9587081891580161, 0.743437139561707, 0.6261130334486735),\n",
       " (0.9639514213990095, 0.69415075649637, 0.5443186104891784),\n",
       " (0.9693819119343239, 0.6431041454644142, 0.45960295813827273),\n",
       " (0.9746251441753172, 0.5938177623990772, 0.37780853517877744),\n",
       " (0.9802863152181288, 0.5406027545966482, 0.2894942669109165),\n",
       " (0.985529547459122, 0.4913163715313114, 0.20769984395142133),\n",
       " (0.9907727797001153, 0.4420299884659745, 0.12590542099192614)]"
      ]
     },
     "execution_count": 2,
     "metadata": {},
     "output_type": "execute_result"
    }
   ],
   "source": [
    "cpc.get_catppuccin_named_sequential(name='Oranges')"
   ]
  },
  {
   "cell_type": "code",
   "execution_count": 3,
   "id": "0de932ef-884a-42e0-93bc-e9c8c98742a1",
   "metadata": {},
   "outputs": [
    {
     "data": {
      "text/html": [
       "<svg  width=\"275\" height=\"55\"><rect x=\"0\" y=\"0\" width=\"55\" height=\"55\" style=\"fill:#eacfd2;stroke-width:2;stroke:rgb(255,255,255)\"/><rect x=\"55\" y=\"0\" width=\"55\" height=\"55\" style=\"fill:#e5acad;stroke-width:2;stroke:rgb(255,255,255)\"/><rect x=\"110\" y=\"0\" width=\"55\" height=\"55\" style=\"fill:#e0898a;stroke-width:2;stroke:rgb(255,255,255)\"/><rect x=\"165\" y=\"0\" width=\"55\" height=\"55\" style=\"fill:#db686f;stroke-width:2;stroke:rgb(255,255,255)\"/><rect x=\"220\" y=\"0\" width=\"55\" height=\"55\" style=\"fill:#d84b5d;stroke-width:2;stroke:rgb(255,255,255)\"/></svg>"
      ],
      "text/plain": [
       "[(0.9173241061130335, 0.811118800461361, 0.8223760092272203),\n",
       " (0.8967615170635729, 0.6728925074066535, 0.6795802519392994),\n",
       " (0.8767794588808226, 0.5384300759134872, 0.5408757114533627),\n",
       " (0.8602642422597644, 0.4094741841373227, 0.4339198046000407),\n",
       " (0.8482276047673971, 0.29457900807381776, 0.3649826989619377)]"
      ]
     },
     "execution_count": 3,
     "metadata": {},
     "output_type": "execute_result"
    }
   ],
   "source": [
    "cpc.get_catppuccin_named_sequential(name='Flamingos', n=5)"
   ]
  },
  {
   "cell_type": "code",
   "execution_count": 5,
   "id": "83322154-3cd1-43bb-ade1-9db0aadbf2fe",
   "metadata": {},
   "outputs": [
    {
     "data": {
      "image/png": "[encoded data removed]",
      "text/html": [
       "<div style=\"vertical-align: middle;\"><strong>frappe</strong> </div><div class=\"cmap\"><img alt=\"frappe colormap\" title=\"frappe\" style=\"border: 1px solid #555;\" src=\"data:image/png;base64,iVBORw0KGgoAAAANSUhEUgAAAgAAAABACAYAAABsv8+/AAAAFXRFWHRUaXRsZQBmcmFwcGUgY29sb3JtYXCWZzdLAAAAG3RFWHREZXNjcmlwdGlvbgBmcmFwcGUgY29sb3JtYXDf8C+vAAAAMHRFWHRBdXRob3IATWF0cGxvdGxpYiB2My42LjIsIGh0dHBzOi8vbWF0cGxvdGxpYi5vcmdxzlVfAAAAMnRFWHRTb2Z0d2FyZQBNYXRwbG90bGliIHYzLjYuMiwgaHR0cHM6Ly9tYXRwbG90bGliLm9yZ19oyngAAAG4SURBVHic7dY7TsNAFEDRZ/a/Lmo2QwmhIBHiY8WYkSjuOY01iZ4zY6e42+PT82VmZub9ss3NX9dzXV+Orbe979fs5/Dctvhch9dffm/7sj64/+Xvb1t8rpPr2/O4XG5/199dP+bmn+d/d5/98/51/vN7Oj1/Zx/H39ecnFs1//k+p+evXq7r12/X+fHzlzvff5ufc3OH9zUn546eZ9Y8h9197dx/2Xlm0XPY29cseg53nv/DAAA5AgAAggQAAAQJAAAIEgAAECQAACBIAABAkAAAgCABAABBAgAAggQAAAQJAAAIEgAAECQAACBIAABAkAAAgCABAABBAgAAggQAAAQJAAAIEgAAECQAACBIAABAkAAAgCABAABBAgAAggQAAAQJAAAIEgAAECQAACBIAABAkAAAgCABAABBAgAAggQAAAQJAAAIEgAAECQAACBIAABAkAAAgCABAABBAgAAggQAAAQJAAAIEgAAECQAACBIAABAkAAAgCABAABBAgAAggQAAAQJAAAIEgAAECQAACBIAABAkAAAgCABAABBAgAAggQAAAQJAAAIEgAAECQAACBIAABA0Bsu2bI4jykqxwAAAABJRU5ErkJggg==\"></div><div style=\"vertical-align: middle; max-width: 514px; display: flex; justify-content: space-between;\"><div style=\"float: left;\"><div title=\"#c6d0f5ff\" style=\"display: inline-block; width: 1em; height: 1em; margin: 0; vertical-align: middle; border: 1px solid #555; background-color: #c6d0f5ff;\"></div> under</div><div style=\"margin: 0 auto; display: inline-block;\">bad <div title=\"#00000000\" style=\"display: inline-block; width: 1em; height: 1em; margin: 0; vertical-align: middle; border: 1px solid #555; background-color: #00000000;\"></div></div><div style=\"float: right;\">over <div title=\"#303446ff\" style=\"display: inline-block; width: 1em; height: 1em; margin: 0; vertical-align: middle; border: 1px solid #555; background-color: #303446ff;\"></div></div>"
      ],
      "text/plain": [
       "<matplotlib.colors.LinearSegmentedColormap at 0x7f6743e66340>"
      ]
     },
     "execution_count": 5,
     "metadata": {},
     "output_type": "execute_result"
    }
   ],
   "source": [
    "cpc.get_catppuccin_named_sequential(name='Rosewaters', cmap=True)"
   ]
  },
  {
   "cell_type": "code",
   "execution_count": 6,
   "id": "ed691a60-ff86-445d-b5fd-38c31b298d44",
   "metadata": {},
   "outputs": [
    {
     "data": {
      "text/html": [
       "<svg  width=\"385\" height=\"55\"><rect x=\"0\" y=\"0\" width=\"55\" height=\"55\" style=\"fill:#edd4d3;stroke-width:2;stroke:rgb(255,255,255)\"/><rect x=\"55\" y=\"0\" width=\"55\" height=\"55\" style=\"fill:#f0c5c0;stroke-width:2;stroke:rgb(255,255,255)\"/><rect x=\"110\" y=\"0\" width=\"55\" height=\"55\" style=\"fill:#ecaba9;stroke-width:2;stroke:rgb(255,255,255)\"/><rect x=\"165\" y=\"0\" width=\"55\" height=\"55\" style=\"fill:#e99293;stroke-width:2;stroke:rgb(255,255,255)\"/><rect x=\"220\" y=\"0\" width=\"55\" height=\"55\" style=\"fill:#d47a7d;stroke-width:2;stroke:rgb(255,255,255)\"/><rect x=\"275\" y=\"0\" width=\"55\" height=\"55\" style=\"fill:#9d636b;stroke-width:2;stroke:rgb(255,255,255)\"/><rect x=\"330\" y=\"0\" width=\"55\" height=\"55\" style=\"fill:#664b58;stroke-width:2;stroke:rgb(255,255,255)\"/></svg>"
      ],
      "text/plain": [
       "[(0.9307497116493656, 0.8332179930795848, 0.8275432525951557),\n",
       " (0.9402787163308229, 0.7709375127213516, 0.7538188479544067),\n",
       " (0.92719723183391, 0.6706343713956171, 0.6629757785467129),\n",
       " (0.9135143496845105, 0.5737550715788046, 0.5754756767759007),\n",
       " (0.8298961937716263, 0.4774163783160323, 0.49190311418685123),\n",
       " (0.6162409932831263, 0.38635022728814705, 0.4195171992672501),\n",
       " (0.39930795847750866, 0.2938869665513264, 0.34602076124567477)]"
      ]
     },
     "execution_count": 6,
     "metadata": {},
     "output_type": "execute_result"
    }
   ],
   "source": [
    "cpc.get_catppuccin_named_sequential(name='Rosewaters', n=7)"
   ]
  },
  {
   "cell_type": "code",
   "execution_count": 7,
   "id": "b767860a-c974-484f-9e8c-9f3d7bc0dd4d",
   "metadata": {},
   "outputs": [
    {
     "data": {
      "text/html": [
       "<svg  width=\"385\" height=\"55\"><rect x=\"0\" y=\"0\" width=\"55\" height=\"55\" style=\"fill:#d0d6f7;stroke-width:2;stroke:rgb(255,255,255)\"/><rect x=\"55\" y=\"0\" width=\"55\" height=\"55\" style=\"fill:#b1bcf9;stroke-width:2;stroke:rgb(255,255,255)\"/><rect x=\"110\" y=\"0\" width=\"55\" height=\"55\" style=\"fill:#91a1fb;stroke-width:2;stroke:rgb(255,255,255)\"/><rect x=\"165\" y=\"0\" width=\"55\" height=\"55\" style=\"fill:#7287fc;stroke-width:2;stroke:rgb(255,255,255)\"/><rect x=\"220\" y=\"0\" width=\"55\" height=\"55\" style=\"fill:#6879d7;stroke-width:2;stroke:rgb(255,255,255)\"/><rect x=\"275\" y=\"0\" width=\"55\" height=\"55\" style=\"fill:#5f6bb2;stroke-width:2;stroke:rgb(255,255,255)\"/><rect x=\"330\" y=\"0\" width=\"55\" height=\"55\" style=\"fill:#555d8d;stroke-width:2;stroke:rgb(255,255,255)\"/></svg>"
      ],
      "text/plain": [
       "[(0.8142252979623222, 0.8407689350249904, 0.9686582083813918),\n",
       " (0.6926431010697243, 0.7376672320600675, 0.976439468982518),\n",
       " (0.568166089965398, 0.6321107266435986, 0.9844059976931949),\n",
       " (0.4460344211502364, 0.5279021190944659, 0.9881670850577832),\n",
       " (0.4090734332948866, 0.4734332948865821, 0.8442137639369474),\n",
       " (0.37123242191917133, 0.4176675939118438, 0.6968329827894248),\n",
       " (0.3342714340638216, 0.36319876970396003, 0.5528796616685889)]"
      ]
     },
     "execution_count": 7,
     "metadata": {},
     "output_type": "execute_result"
    }
   ],
   "source": [
    "cpc.get_catppuccin_named_sequential(name='Blues', n=7)"
   ]
  },
  {
   "cell_type": "code",
   "execution_count": 8,
   "id": "407efc87-3827-4a09-8f10-2a66d2498b7e",
   "metadata": {},
   "outputs": [
    {
     "data": {
      "text/html": [
       "<svg  width=\"385\" height=\"55\"><rect x=\"0\" y=\"0\" width=\"55\" height=\"55\" style=\"fill:#d0c9c3;stroke-width:2;stroke:rgb(255,255,255)\"/><rect x=\"55\" y=\"0\" width=\"55\" height=\"55\" style=\"fill:#e7d1a7;stroke-width:2;stroke:rgb(255,255,255)\"/><rect x=\"110\" y=\"0\" width=\"55\" height=\"55\" style=\"fill:#f0c694;stroke-width:2;stroke:rgb(255,255,255)\"/><rect x=\"165\" y=\"0\" width=\"55\" height=\"55\" style=\"fill:#f3b386;stroke-width:2;stroke:rgb(255,255,255)\"/><rect x=\"220\" y=\"0\" width=\"55\" height=\"55\" style=\"fill:#f3a184;stroke-width:2;stroke:rgb(255,255,255)\"/><rect x=\"275\" y=\"0\" width=\"55\" height=\"55\" style=\"fill:#ef928e;stroke-width:2;stroke:rgb(255,255,255)\"/><rect x=\"330\" y=\"0\" width=\"55\" height=\"55\" style=\"fill:#d98090;stroke-width:2;stroke:rgb(255,255,255)\"/></svg>"
      ],
      "text/plain": [
       "[(0.8145790080738178, 0.7873894655901577, 0.7664744329104191),\n",
       " (0.9064951489246218, 0.8214324807200851, 0.655834633738155),\n",
       " (0.9424836601307189, 0.7751633986928105, 0.5816993464052288),\n",
       " (0.9545300676210507, 0.7002915620688875, 0.5264876405002601),\n",
       " (0.9536485966935794, 0.6324183006535947, 0.5185544021530181),\n",
       " (0.9388264242259764, 0.5730080285862903, 0.5582432096252573),\n",
       " (0.8512264513648597, 0.501760861207228, 0.564398308342945)]"
      ]
     },
     "execution_count": 8,
     "metadata": {},
     "output_type": "execute_result"
    }
   ],
   "source": [
    "cpc.get_catppuccin_named_sequential(name='YlOrRd', n=7)"
   ]
  },
  {
   "cell_type": "code",
   "execution_count": null,
   "id": "7e5f1c96-f4bb-4004-9e4c-9326e30d4c6b",
   "metadata": {},
   "outputs": [],
   "source": []
  },
  {
   "cell_type": "code",
   "execution_count": null,
   "id": "31bf1873-2a10-4cf6-a38b-774fba4a5565",
   "metadata": {},
   "outputs": [],
   "source": []
  },
  {
   "cell_type": "markdown",
   "id": "4c7aa85f-749b-4a76-90e4-2a070b6850a4",
   "metadata": {},
   "source": [
    "testing and writing diverging area"
   ]
  },
  {
   "cell_type": "code",
   "execution_count": 7,
   "id": "331c020c-96f1-44bf-8e4b-163f3b4006b5",
   "metadata": {},
   "outputs": [],
   "source": [
    "import seaborn as sns\n",
    "import mplcatppuccin\n",
    "from mplcatppuccin.palette import load_color\n",
    "from mplcatppuccin.colormaps import get_colormap_from_list"
   ]
  },
  {
   "cell_type": "code",
   "execution_count": 4,
   "id": "6230d90d-19a5-4132-8744-d7b377594443",
   "metadata": {},
   "outputs": [
    {
     "data": {
      "image/png": "[encoded data removed]",
      "text/html": [
       "<div style=\"vertical-align: middle;\"><strong>latte</strong> </div><div class=\"cmap\"><img alt=\"latte colormap\" title=\"latte\" style=\"border: 1px solid #555;\" src=\"data:image/png;base64,iVBORw0KGgoAAAANSUhEUgAAAgAAAABACAYAAABsv8+/AAAAFHRFWHRUaXRsZQBsYXR0ZSBjb2xvcm1hcBll4+wAAAAadEVYdERlc2NyaXB0aW9uAGxhdHRlIGNvbG9ybWFw5zpKCgAAADB0RVh0QXV0aG9yAE1hdHBsb3RsaWIgdjMuNi4yLCBodHRwczovL21hdHBsb3RsaWIub3Jncc5VXwAAADJ0RVh0U29mdHdhcmUATWF0cGxvdGxpYiB2My42LjIsIGh0dHBzOi8vbWF0cGxvdGxpYi5vcmdfaMp4AAABh0lEQVR4nO3WQU4CQRBA0RoO4vG8/8Yt7cJxIQmGkHGi/vc2naFJdWgC+dvL69uamdm2mZmZy77ePj/9+uVvz733fnOfPO+Xzr173j+fO7M+lut1X78+r/X9/ufzWrf7R805dv+4OY99rsf3f/ac4+73nHOOur+zvsejfgen3e9+zv53AQCUCAAACBIAABAkAAAgSAAAQJAAAIAgAQAAQQIAAIIEAAAECQAACBIAABAkAAAgSAAAQJAAAIAgAQAAQQIAAIIEAAAECQAACBIAABAkAAAgSAAAQJAAAIAgAQAAQQIAAIIEAAAECQAACBIAABAkAAAgSAAAQJAAAIAgAQAAQQIAAIIEAAAECQAACBIAABAkAAAgSAAAQJAAAIAgAQAAQQIAAIIEAAAECQAACBIAABAkAAAgSAAAQJAAAIAgAQAAQQIAAIIEAAAECQAACBIAABAkAAAgSAAAQJAAAIAgAQAAQQIAAIIEAAAECQAACBIAABAkAAAgSAAAQJAAAIAgAQAAQe+UWB2oOzcQAgAAAABJRU5ErkJggg==\"></div><div style=\"vertical-align: middle; max-width: 514px; display: flex; justify-content: space-between;\"><div style=\"float: left;\"><div title=\"#1e66f5ff\" style=\"display: inline-block; width: 1em; height: 1em; margin: 0; vertical-align: middle; border: 1px solid #555; background-color: #1e66f5ff;\"></div> under</div><div style=\"margin: 0 auto; display: inline-block;\">bad <div title=\"#00000000\" style=\"display: inline-block; width: 1em; height: 1em; margin: 0; vertical-align: middle; border: 1px solid #555; background-color: #00000000;\"></div></div><div style=\"float: right;\">over <div title=\"#d20f39ff\" style=\"display: inline-block; width: 1em; height: 1em; margin: 0; vertical-align: middle; border: 1px solid #555; background-color: #d20f39ff;\"></div></div>"
      ],
      "text/plain": [
       "<matplotlib.colors.LinearSegmentedColormap at 0x7f3cacfd6040>"
      ]
     },
     "execution_count": 4,
     "metadata": {},
     "output_type": "execute_result"
    }
   ],
   "source": [
    "cmap = get_colormap_from_list('latte', ['blue', 'base', 'red'])\n",
    "cmap"
   ]
  },
  {
   "cell_type": "code",
   "execution_count": 75,
   "id": "ef884dbc-345f-4bf1-bba6-d28c044b9ece",
   "metadata": {},
   "outputs": [],
   "source": [
    "\n",
    "def catppuccin_diverging(cat, clr_set=None, clr1=None, clr2=None, clr3=None):\n",
    "    if not(clr_set is None) or (clr1 is None) or (clr2 is None) or (clr3 is None):\n",
    "        if clr_set==1:\n",
    "            clr1 = 'blue'\n",
    "            clr3 = 'red'\n",
    "            if cat=='latte':\n",
    "                clr2 = 'base'\n",
    "            else:\n",
    "                clr2 = 'text'\n",
    "        elif clr_set==2:\n",
    "            clr1 = 'sapphire'\n",
    "            clr3 = 'peach'\n",
    "            if cat=='latte':\n",
    "                clr2 = 'base'\n",
    "            else:\n",
    "                clr2 = 'text'\n",
    "        else:\n",
    "            clr1 = 'blue'\n",
    "            clr3 = 'red'\n",
    "            if cat=='latte':\n",
    "                clr2 = 'base'\n",
    "            else:\n",
    "                clr2 = 'text'\n",
    "        return [clr1, clr2, clr3]\n",
    "    else:\n",
    "        return [clr1, clr2, clr3]\n",
    "\n",
    "\n",
    "def catppuccin_cmap_diverging(cat=\"mocha\", clr_set=None, clr1=None, clr2=None, clr3=None):\n",
    "    if not(clr_set is None):\n",
    "        cmap = get_colormap_from_list(cat, catppuccin_diverging(cat, clr_set=clr_set))\n",
    "    elif (clr1 is not None) and (clr2 is not None) and (clr3 is not None):\n",
    "        cmap = get_colormap_from_list(cat, catppuccin_diverging(cat, clr_set=None, clr1=clr1, clr2=clr2, clr3=clr3))\n",
    "    else:\n",
    "        clr_set = 1\n",
    "        cmap = get_colormap_from_list(cat, catppuccin_diverging(cat, clr_set=clr_set))\n",
    "    return cmap\n",
    "\n",
    "\n",
    "def diverging_palette(cat=\"mocha\", n=None, clr_set=None, clr1=None, clr2=None, clr3=None):\n",
    "    if n is None or n==3:\n",
    "        cat_colors = catppuccin_diverging(cat, clr_set=clr_set, clr1=clr1, clr2=clr2, clr3=clr3)\n",
    "        clrs = [load_color(cat, cl) for cl in cat_colors]\n",
    "        colors = sns.blend_palette(clrs, n_colors=len(cat_colors))\n",
    "    else:\n",
    "        cmap = catppuccin_cmap_diverging(cat=cat, clr_set=clr_set, clr1=clr1, clr2=clr2, clr3=clr3)\n",
    "        colors = []\n",
    "        for i in range(n):\n",
    "            j = i/(n-1)\n",
    "            rgba = cmap(j)\n",
    "            colors.append(rgba)\n",
    "        colors = sns.blend_palette(colors, n_colors=n)\n",
    "    return colors\n"
   ]
  },
  {
   "cell_type": "raw",
   "id": "2b760544-e7f6-48a1-8d9b-940053ebff87",
   "metadata": {},
   "source": [
    "diverging_palette(cat='mocha', n=7, clr1='blue', clr2='base', clr3='peach')"
   ]
  },
  {
   "cell_type": "code",
   "execution_count": 76,
   "id": "5d2e1075-2342-4b25-b542-0ac83130d880",
   "metadata": {},
   "outputs": [
    {
     "data": {
      "text/html": [
       "<svg  width=\"385\" height=\"55\"><rect x=\"0\" y=\"0\" width=\"55\" height=\"55\" style=\"fill:#1e66f5;stroke-width:2;stroke:rgb(255,255,255)\"/><rect x=\"55\" y=\"0\" width=\"55\" height=\"55\" style=\"fill:#6293f5;stroke-width:2;stroke:rgb(255,255,255)\"/><rect x=\"110\" y=\"0\" width=\"55\" height=\"55\" style=\"fill:#a9c3f5;stroke-width:2;stroke:rgb(255,255,255)\"/><rect x=\"165\" y=\"0\" width=\"55\" height=\"55\" style=\"fill:#efeff4;stroke-width:2;stroke:rgb(255,255,255)\"/><rect x=\"220\" y=\"0\" width=\"55\" height=\"55\" style=\"fill:#e5a6b6;stroke-width:2;stroke:rgb(255,255,255)\"/><rect x=\"275\" y=\"0\" width=\"55\" height=\"55\" style=\"fill:#db5976;stroke-width:2;stroke:rgb(255,255,255)\"/><rect x=\"330\" y=\"0\" width=\"55\" height=\"55\" style=\"fill:#d20f39;stroke-width:2;stroke:rgb(255,255,255)\"/></svg>"
      ],
      "text/plain": [
       "[(0.11764705882352941, 0.4, 0.9607843137254902),\n",
       " (0.38445918990433536, 0.5774492163647467, 0.9607843137254902),\n",
       " (0.6640522875816993, 0.7633986928104575, 0.9607843137254902),\n",
       " (0.9363681841825542, 0.9381877558405138, 0.9550359364045503),\n",
       " (0.8993464052287582, 0.6496732026143791, 0.7150326797385621),\n",
       " (0.860551190718502, 0.3473380826378992, 0.4635326684306939),\n",
       " (0.8235294117647058, 0.058823529411764705, 0.2235294117647059)]"
      ]
     },
     "execution_count": 76,
     "metadata": {},
     "output_type": "execute_result"
    }
   ],
   "source": [
    "diverging_palette(cat='latte', n=7)"
   ]
  },
  {
   "cell_type": "code",
   "execution_count": 77,
   "id": "0eb5201b-70b8-40e4-a63b-29b4e74a36e2",
   "metadata": {},
   "outputs": [
    {
     "data": {
      "text/html": [
       "<svg  width=\"385\" height=\"55\"><rect x=\"0\" y=\"0\" width=\"55\" height=\"55\" style=\"fill:#209fb5;stroke-width:2;stroke:rgb(255,255,255)\"/><rect x=\"55\" y=\"0\" width=\"55\" height=\"55\" style=\"fill:#63baca;stroke-width:2;stroke:rgb(255,255,255)\"/><rect x=\"110\" y=\"0\" width=\"55\" height=\"55\" style=\"fill:#aad6e0;stroke-width:2;stroke:rgb(255,255,255)\"/><rect x=\"165\" y=\"0\" width=\"55\" height=\"55\" style=\"fill:#eff0f3;stroke-width:2;stroke:rgb(255,255,255)\"/><rect x=\"220\" y=\"0\" width=\"55\" height=\"55\" style=\"fill:#f4c2a7;stroke-width:2;stroke:rgb(255,255,255)\"/><rect x=\"275\" y=\"0\" width=\"55\" height=\"55\" style=\"fill:#f99257;stroke-width:2;stroke:rgb(255,255,255)\"/><rect x=\"330\" y=\"0\" width=\"55\" height=\"55\" style=\"fill:#fe640b;stroke-width:2;stroke:rgb(255,255,255)\"/></svg>"
      ],
      "text/plain": [
       "[(0.12549019607843137, 0.6235294117647059, 0.7098039215686275),\n",
       " (0.38974910102449284, 0.7282116832892327, 0.7915071578804532),\n",
       " (0.6666666666666666, 0.837908496732026, 0.8771241830065359),\n",
       " (0.937713549087455, 0.9407867562249813, 0.9536294185494267),\n",
       " (0.9568627450980393, 0.7607843137254902, 0.6549019607843137),\n",
       " (0.976929235361965, 0.572159305244589, 0.3418647126670736),\n",
       " (0.996078431372549, 0.39215686274509803, 0.043137254901960784)]"
      ]
     },
     "execution_count": 77,
     "metadata": {},
     "output_type": "execute_result"
    }
   ],
   "source": [
    "diverging_palette(cat='latte', n=7, clr_set=2)"
   ]
  },
  {
   "cell_type": "code",
   "execution_count": 78,
   "id": "18e3fde7-a5b6-4f01-b460-5738fc06aec9",
   "metadata": {},
   "outputs": [
    {
     "data": {
      "text/html": [
       "<svg  width=\"385\" height=\"55\"><rect x=\"0\" y=\"0\" width=\"55\" height=\"55\" style=\"fill:#89b4fa;stroke-width:2;stroke:rgb(255,255,255)\"/><rect x=\"55\" y=\"0\" width=\"55\" height=\"55\" style=\"fill:#9fbff8;stroke-width:2;stroke:rgb(255,255,255)\"/><rect x=\"110\" y=\"0\" width=\"55\" height=\"55\" style=\"fill:#b6cbf6;stroke-width:2;stroke:rgb(255,255,255)\"/><rect x=\"165\" y=\"0\" width=\"55\" height=\"55\" style=\"fill:#cdd5f3;stroke-width:2;stroke:rgb(255,255,255)\"/><rect x=\"220\" y=\"0\" width=\"55\" height=\"55\" style=\"fill:#dabddb;stroke-width:2;stroke:rgb(255,255,255)\"/><rect x=\"275\" y=\"0\" width=\"55\" height=\"55\" style=\"fill:#e7a3c1;stroke-width:2;stroke:rgb(255,255,255)\"/><rect x=\"330\" y=\"0\" width=\"55\" height=\"55\" style=\"fill:#f38ba8;stroke-width:2;stroke:rgb(255,255,255)\"/></svg>"
      ],
      "text/plain": [
       "[(0.5372549019607843, 0.7058823529411765, 0.9803921568627451),\n",
       " (0.6240645905420992, 0.749287197231834, 0.9727324784585115),\n",
       " (0.7150326797385621, 0.7947712418300654, 0.9647058823529412),\n",
       " (0.8050834746816836, 0.8369224506411561, 0.9545389329895743),\n",
       " (0.85359477124183, 0.7411764705882353, 0.8575163398692811),\n",
       " (0.9044298799104417, 0.640844019268607, 0.7558461225320577),\n",
       " (0.9529411764705882, 0.5450980392156862, 0.6588235294117647)]"
      ]
     },
     "execution_count": 78,
     "metadata": {},
     "output_type": "execute_result"
    }
   ],
   "source": [
    "diverging_palette(cat='mocha', n=7, clr_set=1)"
   ]
  },
  {
   "cell_type": "code",
   "execution_count": 79,
   "id": "b6ab9d05-d39f-4a8c-83ab-c497e1b182db",
   "metadata": {},
   "outputs": [
    {
     "data": {
      "text/html": [
       "<svg  width=\"385\" height=\"55\"><rect x=\"0\" y=\"0\" width=\"55\" height=\"55\" style=\"fill:#74c7ec;stroke-width:2;stroke:rgb(255,255,255)\"/><rect x=\"55\" y=\"0\" width=\"55\" height=\"55\" style=\"fill:#91ccef;stroke-width:2;stroke:rgb(255,255,255)\"/><rect x=\"110\" y=\"0\" width=\"55\" height=\"55\" style=\"fill:#afd1f1;stroke-width:2;stroke:rgb(255,255,255)\"/><rect x=\"165\" y=\"0\" width=\"55\" height=\"55\" style=\"fill:#cdd6f3;stroke-width:2;stroke:rgb(255,255,255)\"/><rect x=\"220\" y=\"0\" width=\"55\" height=\"55\" style=\"fill:#dccad0;stroke-width:2;stroke:rgb(255,255,255)\"/><rect x=\"275\" y=\"0\" width=\"55\" height=\"55\" style=\"fill:#ebbeaa;stroke-width:2;stroke:rgb(255,255,255)\"/><rect x=\"330\" y=\"0\" width=\"55\" height=\"55\" style=\"fill:#fab387;stroke-width:2;stroke:rgb(255,255,255)\"/></svg>"
      ],
      "text/plain": [
       "[(0.4549019607843137, 0.7803921568627451, 0.9254901960784314),\n",
       " (0.5685205237804464, 0.7995413528733293, 0.9357031006174096),\n",
       " (0.6875816993464052, 0.8196078431372549, 0.94640522875817),\n",
       " (0.8052975100074632, 0.8381455096456115, 0.9535299093108985),\n",
       " (0.8627450980392157, 0.7934640522875817, 0.8143790849673203),\n",
       " (0.9229445688309926, 0.7466422416717551, 0.6685625890494606),\n",
       " (0.9803921568627451, 0.7019607843137254, 0.5294117647058824)]"
      ]
     },
     "execution_count": 79,
     "metadata": {},
     "output_type": "execute_result"
    }
   ],
   "source": [
    "diverging_palette(cat='mocha', n=7, clr_set=2)"
   ]
  },
  {
   "cell_type": "code",
   "execution_count": 80,
   "id": "17f3547e-1f69-4404-871b-19af75d34e54",
   "metadata": {},
   "outputs": [
    {
     "data": {
      "text/html": [
       "<svg  width=\"385\" height=\"55\"><rect x=\"0\" y=\"0\" width=\"55\" height=\"55\" style=\"fill:#89b4fa;stroke-width:2;stroke:rgb(255,255,255)\"/><rect x=\"55\" y=\"0\" width=\"55\" height=\"55\" style=\"fill:#9fbff8;stroke-width:2;stroke:rgb(255,255,255)\"/><rect x=\"110\" y=\"0\" width=\"55\" height=\"55\" style=\"fill:#b6cbf6;stroke-width:2;stroke:rgb(255,255,255)\"/><rect x=\"165\" y=\"0\" width=\"55\" height=\"55\" style=\"fill:#cdd5f3;stroke-width:2;stroke:rgb(255,255,255)\"/><rect x=\"220\" y=\"0\" width=\"55\" height=\"55\" style=\"fill:#dabddb;stroke-width:2;stroke:rgb(255,255,255)\"/><rect x=\"275\" y=\"0\" width=\"55\" height=\"55\" style=\"fill:#e7a3c1;stroke-width:2;stroke:rgb(255,255,255)\"/><rect x=\"330\" y=\"0\" width=\"55\" height=\"55\" style=\"fill:#f38ba8;stroke-width:2;stroke:rgb(255,255,255)\"/></svg>"
      ],
      "text/plain": [
       "[(0.5372549019607843, 0.7058823529411765, 0.9803921568627451),\n",
       " (0.6240645905420992, 0.749287197231834, 0.9727324784585115),\n",
       " (0.7150326797385621, 0.7947712418300654, 0.9647058823529412),\n",
       " (0.8050834746816836, 0.8369224506411561, 0.9545389329895743),\n",
       " (0.85359477124183, 0.7411764705882353, 0.8575163398692811),\n",
       " (0.9044298799104417, 0.640844019268607, 0.7558461225320577),\n",
       " (0.9529411764705882, 0.5450980392156862, 0.6588235294117647)]"
      ]
     },
     "execution_count": 80,
     "metadata": {},
     "output_type": "execute_result"
    }
   ],
   "source": [
    "diverging_palette(cat='mocha', n=7)"
   ]
  },
  {
   "cell_type": "code",
   "execution_count": 85,
   "id": "8a81f7ca-653b-4daf-ac27-a6c496b7d1d6",
   "metadata": {},
   "outputs": [
    {
     "data": {
      "text/html": [
       "<svg  width=\"385\" height=\"55\"><rect x=\"0\" y=\"0\" width=\"55\" height=\"55\" style=\"fill:#fab387;stroke-width:2;stroke:rgb(255,255,255)\"/><rect x=\"55\" y=\"0\" width=\"55\" height=\"55\" style=\"fill:#ae7e64;stroke-width:2;stroke:rgb(255,255,255)\"/><rect x=\"110\" y=\"0\" width=\"55\" height=\"55\" style=\"fill:#5f473f;stroke-width:2;stroke:rgb(255,255,255)\"/><rect x=\"165\" y=\"0\" width=\"55\" height=\"55\" style=\"fill:#12131d;stroke-width:2;stroke:rgb(255,255,255)\"/><rect x=\"220\" y=\"0\" width=\"55\" height=\"55\" style=\"fill:#395560;stroke-width:2;stroke:rgb(255,255,255)\"/><rect x=\"275\" y=\"0\" width=\"55\" height=\"55\" style=\"fill:#629aa7;stroke-width:2;stroke:rgb(255,255,255)\"/><rect x=\"330\" y=\"0\" width=\"55\" height=\"55\" style=\"fill:#89dceb;stroke-width:2;stroke:rgb(255,255,255)\"/></svg>"
      ],
      "text/plain": [
       "[(0.9803921568627451, 0.7019607843137254, 0.5294117647058824),\n",
       " (0.6829413121650043, 0.49514946739941645, 0.3915375534296764),\n",
       " (0.3712418300653595, 0.2784313725490196, 0.24705882352941178),\n",
       " (0.07033584368003257, 0.07287369111427731, 0.11224225976434403),\n",
       " (0.22352941176470587, 0.33202614379084966, 0.37777777777777777),\n",
       " (0.384061333876111, 0.6035926453626435, 0.6560331094375468),\n",
       " (0.5372549019607843, 0.8627450980392157, 0.9215686274509803)]"
      ]
     },
     "execution_count": 85,
     "metadata": {},
     "output_type": "execute_result"
    }
   ],
   "source": [
    "diverging_palette(cat='mocha', n=7, clr1='peach', clr2='crust', clr3='sky')"
   ]
  },
  {
   "cell_type": "code",
   "execution_count": 86,
   "id": "4fcbf495-4450-4bf0-b839-79aeee96037c",
   "metadata": {},
   "outputs": [
    {
     "data": {
      "text/html": [
       "<svg  width=\"385\" height=\"55\"><rect x=\"0\" y=\"0\" width=\"55\" height=\"55\" style=\"fill:#fe640b;stroke-width:2;stroke:rgb(255,255,255)\"/><rect x=\"55\" y=\"0\" width=\"55\" height=\"55\" style=\"fill:#f38c53;stroke-width:2;stroke:rgb(255,255,255)\"/><rect x=\"110\" y=\"0\" width=\"55\" height=\"55\" style=\"fill:#e7b79e;stroke-width:2;stroke:rgb(255,255,255)\"/><rect x=\"165\" y=\"0\" width=\"55\" height=\"55\" style=\"fill:#dae0e8;stroke-width:2;stroke:rgb(255,255,255)\"/><rect x=\"220\" y=\"0\" width=\"55\" height=\"55\" style=\"fill:#94cce7;stroke-width:2;stroke:rgb(255,255,255)\"/><rect x=\"275\" y=\"0\" width=\"55\" height=\"55\" style=\"fill:#4ab8e6;stroke-width:2;stroke:rgb(255,255,255)\"/><rect x=\"330\" y=\"0\" width=\"55\" height=\"55\" style=\"fill:#04a5e5;stroke-width:2;stroke:rgb(255,255,255)\"/></svg>"
      ],
      "text/plain": [
       "[(0.996078431372549, 0.39215686274509803, 0.043137254901960784),\n",
       " (0.9526735870818915, 0.5504568830992604, 0.3252687427912342),\n",
       " (0.9071895424836601, 0.7163398692810456, 0.6209150326797385),\n",
       " (0.8561405794151571, 0.876627360517448, 0.9097121921432934),\n",
       " (0.5803921568627451, 0.8013071895424837, 0.9058823529411765),\n",
       " (0.29143469706221575, 0.7223789945043761, 0.9018690548883914),\n",
       " (0.01568627450980392, 0.6470588235294118, 0.8980392156862745)]"
      ]
     },
     "execution_count": 86,
     "metadata": {},
     "output_type": "execute_result"
    }
   ],
   "source": [
    "diverging_palette(cat='latte', n=7, clr1='peach', clr2='crust', clr3='sky')"
   ]
  },
  {
   "cell_type": "code",
   "execution_count": null,
   "id": "d83d0ec2-a882-4fb2-825e-35c0f98c38d8",
   "metadata": {},
   "outputs": [],
   "source": []
  },
  {
   "cell_type": "code",
   "execution_count": null,
   "id": "598d0a7a-2921-4f33-bb8b-4c483278dc22",
   "metadata": {},
   "outputs": [],
   "source": []
  },
  {
   "cell_type": "code",
   "execution_count": null,
   "id": "2003431a-27b5-462c-9d92-c402e90a4b46",
   "metadata": {},
   "outputs": [],
   "source": []
  },
  {
   "cell_type": "code",
   "execution_count": 2,
   "id": "a5bde9d1-98a4-4baa-bd56-6ff6bc58200c",
   "metadata": {},
   "outputs": [],
   "source": [
    "import seaborn as sns\n",
    "import mplcatppuccin\n",
    "from mplcatppuccin.palette import load_color\n",
    "from mplcatppuccin.colormaps import get_colormap_from_list"
   ]
  },
  {
   "cell_type": "code",
   "execution_count": 59,
   "id": "346b0d87-8708-4a29-9cc1-bc518d711a35",
   "metadata": {},
   "outputs": [],
   "source": [
    "\n",
    "def catppuccin_sequential(cat, clr_base=None, clr=None):\n",
    "    if (clr_base is None):\n",
    "        if cat=='latte':\n",
    "            clr_base = 'base'\n",
    "        else:\n",
    "            clr_base = 'text'\n",
    "    if (clr is None):\n",
    "        clr = 'blue'\n",
    "    return [clr_base, clr]\n",
    "\n",
    "\n",
    "def catppuccin_cmap_sequential(cat=\"latte\", clr_base=None, clr=None):\n",
    "    cmap = get_colormap_from_list(cat, catppuccin_sequential(cat, clr_base=clr_base, clr=clr))\n",
    "    return cmap\n",
    "\n",
    "\n",
    "def sequential_palette(cat=\"latte\", n=None, clr_base=None, clr=None):\n",
    "    if n is None:\n",
    "        n = 5\n",
    "    if n==2:\n",
    "        cat_colors = catppuccin_sequential(cat, clr_base=clr_base, clr=clr)\n",
    "        clrs = [load_color(cat, cl) for cl in cat_colors]\n",
    "        colors = sns.blend_palette(clrs, n_colors=len(cat_colors))\n",
    "    else:\n",
    "        cmap = catppuccin_cmap_sequential(cat=cat, clr_base=clr_base, clr=clr)\n",
    "        colors = []\n",
    "        for i in range(n):\n",
    "            j = i/(n-1)\n",
    "            rgba = cmap(j)\n",
    "            colors.append(rgba)\n",
    "        colors = sns.blend_palette(colors, n_colors=n)\n",
    "    return colors\n"
   ]
  },
  {
   "cell_type": "code",
   "execution_count": 60,
   "id": "35f73c26-5aeb-4e35-a073-c98a361420b4",
   "metadata": {},
   "outputs": [
    {
     "data": {
      "image/png": "[encoded data removed]",
      "text/html": [
       "<div style=\"vertical-align: middle;\"><strong>latte</strong> </div><div class=\"cmap\"><img alt=\"latte colormap\" title=\"latte\" style=\"border: 1px solid #555;\" src=\"data:image/png;base64,iVBORw0KGgoAAAANSUhEUgAAAgAAAABACAYAAABsv8+/AAAAFHRFWHRUaXRsZQBsYXR0ZSBjb2xvcm1hcBll4+wAAAAadEVYdERlc2NyaXB0aW9uAGxhdHRlIGNvbG9ybWFw5zpKCgAAADB0RVh0QXV0aG9yAE1hdHBsb3RsaWIgdjMuNi4yLCBodHRwczovL21hdHBsb3RsaWIub3Jncc5VXwAAADJ0RVh0U29mdHdhcmUATWF0cGxvdGxpYiB2My42LjIsIGh0dHBzOi8vbWF0cGxvdGxpYi5vcmdfaMp4AAABk0lEQVR4nO3WzUoDMRhA0ej7v2tx4TouahGV1poxWLjnbPozTKYfCfQ+nV5e5xhjzDnHOL/58jqufP/5+hzH7r98/r7Otftvr3u5fO9z/26u1XluX/9YZ3Wu1Xl2z7U6z+59Xp3n6D79NNfv1j0616Ps877ze+x37Tu/q/PsPr/3rfso/wf/v8+r82ye693zAAByBAAABAkAAAgSAAAQJAAAIEgAAECQAACAIAEAAEECAACCBAAABAkAAAgSAAAQJAAAIEgAAECQAACAIAEAAEECAACCBAAABAkAAAgSAAAQJAAAIEgAAECQAACAIAEAAEECAACCBAAABAkAAAgSAAAQJAAAIEgAAECQAACAIAEAAEECAACCBAAABAkAAAgSAAAQJAAAIEgAAECQAACAIAEAAEECAACCBAAABAkAAAgSAAAQJAAAIEgAAECQAACAIAEAAEECAACCBAAABAkAAAgSAAAQJAAAIEgAAECQAACAIAEAAEECAACCBAAABAkAAAgSAAAQJAAAIEgAAECQAACAoDfXGL2o/Vu+ywAAAABJRU5ErkJggg==\"></div><div style=\"vertical-align: middle; max-width: 514px; display: flex; justify-content: space-between;\"><div style=\"float: left;\"><div title=\"#eff1f5ff\" style=\"display: inline-block; width: 1em; height: 1em; margin: 0; vertical-align: middle; border: 1px solid #555; background-color: #eff1f5ff;\"></div> under</div><div style=\"margin: 0 auto; display: inline-block;\">bad <div title=\"#00000000\" style=\"display: inline-block; width: 1em; height: 1em; margin: 0; vertical-align: middle; border: 1px solid #555; background-color: #00000000;\"></div></div><div style=\"float: right;\">over <div title=\"#d20f39ff\" style=\"display: inline-block; width: 1em; height: 1em; margin: 0; vertical-align: middle; border: 1px solid #555; background-color: #d20f39ff;\"></div></div>"
      ],
      "text/plain": [
       "<matplotlib.colors.LinearSegmentedColormap at 0x7fb806de95b0>"
      ]
     },
     "execution_count": 60,
     "metadata": {},
     "output_type": "execute_result"
    }
   ],
   "source": [
    "catppuccin_cmap_sequential(cat='latte', clr='red')"
   ]
  },
  {
   "cell_type": "code",
   "execution_count": 61,
   "id": "2678db65-23c7-4cbc-a08e-080c48c5b4ef",
   "metadata": {},
   "outputs": [
    {
     "data": {
      "text/html": [
       "<svg  width=\"275\" height=\"55\"><rect x=\"0\" y=\"0\" width=\"55\" height=\"55\" style=\"fill:#eff1f5;stroke-width:2;stroke:rgb(255,255,255)\"/><rect x=\"55\" y=\"0\" width=\"55\" height=\"55\" style=\"fill:#bacef5;stroke-width:2;stroke:rgb(255,255,255)\"/><rect x=\"110\" y=\"0\" width=\"55\" height=\"55\" style=\"fill:#86abf5;stroke-width:2;stroke:rgb(255,255,255)\"/><rect x=\"165\" y=\"0\" width=\"55\" height=\"55\" style=\"fill:#5188f5;stroke-width:2;stroke:rgb(255,255,255)\"/><rect x=\"220\" y=\"0\" width=\"55\" height=\"55\" style=\"fill:#1e66f5;stroke-width:2;stroke:rgb(255,255,255)\"/></svg>"
      ],
      "text/plain": [
       "[(0.9372549019607843, 0.9450980392156862, 0.9607843137254902),\n",
       " (0.7307427158483539, 0.807752614002156, 0.9607843137254902),\n",
       " (0.5242305297359235, 0.6704071887886258, 0.9607843137254902),\n",
       " (0.3177561571341339, 0.53308691227356, 0.9607843137254902),\n",
       " (0.11764705882352941, 0.4, 0.9607843137254902)]"
      ]
     },
     "execution_count": 61,
     "metadata": {},
     "output_type": "execute_result"
    }
   ],
   "source": [
    "sequential_palette(cat='latte',)"
   ]
  },
  {
   "cell_type": "code",
   "execution_count": 62,
   "id": "169fde42-86b8-4163-9cb8-a36eced40a10",
   "metadata": {},
   "outputs": [
    {
     "data": {
      "text/html": [
       "<svg  width=\"440\" height=\"55\"><rect x=\"0\" y=\"0\" width=\"55\" height=\"55\" style=\"fill:#cdd6f4;stroke-width:2;stroke:rgb(255,255,255)\"/><rect x=\"55\" y=\"0\" width=\"55\" height=\"55\" style=\"fill:#c1d4f3;stroke-width:2;stroke:rgb(255,255,255)\"/><rect x=\"110\" y=\"0\" width=\"55\" height=\"55\" style=\"fill:#b3d2f2;stroke-width:2;stroke:rgb(255,255,255)\"/><rect x=\"165\" y=\"0\" width=\"55\" height=\"55\" style=\"fill:#a7d0f1;stroke-width:2;stroke:rgb(255,255,255)\"/><rect x=\"220\" y=\"0\" width=\"55\" height=\"55\" style=\"fill:#9acdef;stroke-width:2;stroke:rgb(255,255,255)\"/><rect x=\"275\" y=\"0\" width=\"55\" height=\"55\" style=\"fill:#8ecbee;stroke-width:2;stroke:rgb(255,255,255)\"/><rect x=\"330\" y=\"0\" width=\"55\" height=\"55\" style=\"fill:#80c9ed;stroke-width:2;stroke:rgb(255,255,255)\"/><rect x=\"385\" y=\"0\" width=\"55\" height=\"55\" style=\"fill:#74c7ec;stroke-width:2;stroke:rgb(255,255,255)\"/></svg>"
      ],
      "text/plain": [
       "[(0.803921568627451, 0.8392156862745098, 0.9568627450980393),\n",
       " (0.7552278987719656, 0.8310088879842594, 0.9524857860099057),\n",
       " (0.703812922631567, 0.8223434425673384, 0.9478642151208811),\n",
       " (0.6551192527760816, 0.814136644277088, 0.9434872560327476),\n",
       " (0.6037042766356832, 0.8054711988601669, 0.938865685143723),\n",
       " (0.5550106067801976, 0.7972644005699165, 0.9344887260555895),\n",
       " (0.5035956306397991, 0.7885989551529955, 0.9298671551665649),\n",
       " (0.4549019607843137, 0.7803921568627451, 0.9254901960784314)]"
      ]
     },
     "execution_count": 62,
     "metadata": {},
     "output_type": "execute_result"
    }
   ],
   "source": [
    "sequential_palette(cat='mocha', n=8, clr='sapphire')"
   ]
  },
  {
   "cell_type": "code",
   "execution_count": 63,
   "id": "39f5363c-9d0e-4751-9b86-7c0c3e32a1ce",
   "metadata": {},
   "outputs": [
    {
     "data": {
      "text/html": [
       "<svg  width=\"440\" height=\"55\"><rect x=\"0\" y=\"0\" width=\"55\" height=\"55\" style=\"fill:#eff1f5;stroke-width:2;stroke:rgb(255,255,255)\"/><rect x=\"55\" y=\"0\" width=\"55\" height=\"55\" style=\"fill:#d2e6ec;stroke-width:2;stroke:rgb(255,255,255)\"/><rect x=\"110\" y=\"0\" width=\"55\" height=\"55\" style=\"fill:#b4d9e3;stroke-width:2;stroke:rgb(255,255,255)\"/><rect x=\"165\" y=\"0\" width=\"55\" height=\"55\" style=\"fill:#97ceda;stroke-width:2;stroke:rgb(255,255,255)\"/><rect x=\"220\" y=\"0\" width=\"55\" height=\"55\" style=\"fill:#78c2d0;stroke-width:2;stroke:rgb(255,255,255)\"/><rect x=\"275\" y=\"0\" width=\"55\" height=\"55\" style=\"fill:#5bb7c7;stroke-width:2;stroke:rgb(255,255,255)\"/><rect x=\"330\" y=\"0\" width=\"55\" height=\"55\" style=\"fill:#3daabe;stroke-width:2;stroke:rgb(255,255,255)\"/><rect x=\"385\" y=\"0\" width=\"55\" height=\"55\" style=\"fill:#209fb5;stroke-width:2;stroke:rgb(255,255,255)\"/></svg>"
      ],
      "text/plain": [
       "[(0.9372549019607843, 0.9450980392156862, 0.9607843137254902),\n",
       " (0.8240010855553294, 0.9002342085623176, 0.925768641020422),\n",
       " (0.7044179388018182, 0.8528631069498156, 0.8887960739082253),\n",
       " (0.5911641223963633, 0.8079992762964471, 0.8537804012031571),\n",
       " (0.4715809756428523, 0.7606281746839451, 0.8168078340909605),\n",
       " (0.3583271592373973, 0.7157643440305764, 0.7817921613858922),\n",
       " (0.23874401248388627, 0.6683932424180745, 0.7448195942736957),\n",
       " (0.12549019607843137, 0.6235294117647059, 0.7098039215686275)]"
      ]
     },
     "execution_count": 63,
     "metadata": {},
     "output_type": "execute_result"
    }
   ],
   "source": [
    "sequential_palette(cat='latte', n=8, clr='sapphire')"
   ]
  },
  {
   "cell_type": "code",
   "execution_count": 64,
   "id": "d7bd6b29-0f69-4f0c-bb60-e2174b8661c2",
   "metadata": {},
   "outputs": [
    {
     "data": {
      "text/html": [
       "<svg  width=\"440\" height=\"55\"><rect x=\"0\" y=\"0\" width=\"55\" height=\"55\" style=\"fill:#eff1f5;stroke-width:2;stroke:rgb(255,255,255)\"/><rect x=\"55\" y=\"0\" width=\"55\" height=\"55\" style=\"fill:#ece3e4;stroke-width:2;stroke:rgb(255,255,255)\"/><rect x=\"110\" y=\"0\" width=\"55\" height=\"55\" style=\"fill:#ead3d1;stroke-width:2;stroke:rgb(255,255,255)\"/><rect x=\"165\" y=\"0\" width=\"55\" height=\"55\" style=\"fill:#e7c5c0;stroke-width:2;stroke:rgb(255,255,255)\"/><rect x=\"220\" y=\"0\" width=\"55\" height=\"55\" style=\"fill:#e4b6ad;stroke-width:2;stroke:rgb(255,255,255)\"/><rect x=\"275\" y=\"0\" width=\"55\" height=\"55\" style=\"fill:#e1a89c;stroke-width:2;stroke:rgb(255,255,255)\"/><rect x=\"330\" y=\"0\" width=\"55\" height=\"55\" style=\"fill:#df9889;stroke-width:2;stroke:rgb(255,255,255)\"/><rect x=\"385\" y=\"0\" width=\"55\" height=\"55\" style=\"fill:#dc8a78;stroke-width:2;stroke:rgb(255,255,255)\"/></svg>"
      ],
      "text/plain": [
       "[(0.9372549019607843, 0.9450980392156862, 0.9607843137254902),\n",
       " (0.9268596241264673, 0.8887446909559671, 0.8923943279734039),\n",
       " (0.9158833932650338, 0.8292419657597756, 0.8201822828323948),\n",
       " (0.9054881154307167, 0.7728886175000564, 0.7517922970803086),\n",
       " (0.8945118845692833, 0.713385892303865, 0.6795802519392994),\n",
       " (0.8841166067349662, 0.6570325440441458, 0.611190266187213),\n",
       " (0.8731403758735328, 0.5975298188479544, 0.538978221046204),\n",
       " (0.8627450980392157, 0.5411764705882353, 0.47058823529411764)]"
      ]
     },
     "execution_count": 64,
     "metadata": {},
     "output_type": "execute_result"
    }
   ],
   "source": [
    "sequential_palette(cat='latte', n=8, clr='rosewater')"
   ]
  },
  {
   "cell_type": "code",
   "execution_count": 65,
   "id": "ad4c5742-3480-4b2d-975d-9ee6eda58ce3",
   "metadata": {},
   "outputs": [
    {
     "data": {
      "text/html": [
       "<svg  width=\"440\" height=\"55\"><rect x=\"0\" y=\"0\" width=\"55\" height=\"55\" style=\"fill:#11111b;stroke-width:2;stroke:rgb(255,255,255)\"/><rect x=\"55\" y=\"0\" width=\"55\" height=\"55\" style=\"fill:#312e36;stroke-width:2;stroke:rgb(255,255,255)\"/><rect x=\"110\" y=\"0\" width=\"55\" height=\"55\" style=\"fill:#524c52;stroke-width:2;stroke:rgb(255,255,255)\"/><rect x=\"165\" y=\"0\" width=\"55\" height=\"55\" style=\"fill:#72696d;stroke-width:2;stroke:rgb(255,255,255)\"/><rect x=\"220\" y=\"0\" width=\"55\" height=\"55\" style=\"fill:#94888a;stroke-width:2;stroke:rgb(255,255,255)\"/><rect x=\"275\" y=\"0\" width=\"55\" height=\"55\" style=\"fill:#b4a5a5;stroke-width:2;stroke:rgb(255,255,255)\"/><rect x=\"330\" y=\"0\" width=\"55\" height=\"55\" style=\"fill:#d5c3c1;stroke-width:2;stroke:rgb(255,255,255)\"/><rect x=\"385\" y=\"0\" width=\"55\" height=\"55\" style=\"fill:#f5e0dc;stroke-width:2;stroke:rgb(255,255,255)\"/></svg>"
      ],
      "text/plain": [
       "[(0.06666666666666667, 0.06666666666666667, 0.10588235294117647),\n",
       " (0.19141000067847214, 0.1799204830721216, 0.21147649094239776),\n",
       " (0.3231247710156727, 0.29950362982563267, 0.32297188864011583),\n",
       " (0.44786810502747815, 0.41275744623108757, 0.4285660266413371),\n",
       " (0.5795828753646788, 0.5323405929845987, 0.5400614243390552),\n",
       " (0.7043262093764844, 0.6455944093900537, 0.6456555623402765),\n",
       " (0.8360409797136847, 0.7651775561435646, 0.7571509600379945),\n",
       " (0.9607843137254902, 0.8784313725490196, 0.8627450980392157)]"
      ]
     },
     "execution_count": 65,
     "metadata": {},
     "output_type": "execute_result"
    }
   ],
   "source": [
    "sequential_palette(cat='mocha', n=8, clr_base='crust', clr='rosewater')"
   ]
  },
  {
   "cell_type": "code",
   "execution_count": 66,
   "id": "6faf5d9c-9676-4e82-a010-3a7552cb63a1",
   "metadata": {},
   "outputs": [
    {
     "data": {
      "text/html": [
       "<svg  width=\"440\" height=\"55\"><rect x=\"0\" y=\"0\" width=\"55\" height=\"55\" style=\"fill:#dce0e8;stroke-width:2;stroke:rgb(255,255,255)\"/><rect x=\"55\" y=\"0\" width=\"55\" height=\"55\" style=\"fill:#dbc3d0;stroke-width:2;stroke:rgb(255,255,255)\"/><rect x=\"110\" y=\"0\" width=\"55\" height=\"55\" style=\"fill:#d9a4b6;stroke-width:2;stroke:rgb(255,255,255)\"/><rect x=\"165\" y=\"0\" width=\"55\" height=\"55\" style=\"fill:#d8879d;stroke-width:2;stroke:rgb(255,255,255)\"/><rect x=\"220\" y=\"0\" width=\"55\" height=\"55\" style=\"fill:#d66884;stroke-width:2;stroke:rgb(255,255,255)\"/><rect x=\"275\" y=\"0\" width=\"55\" height=\"55\" style=\"fill:#d54b6b;stroke-width:2;stroke:rgb(255,255,255)\"/><rect x=\"330\" y=\"0\" width=\"55\" height=\"55\" style=\"fill:#d32c51;stroke-width:2;stroke:rgb(255,255,255)\"/><rect x=\"385\" y=\"0\" width=\"55\" height=\"55\" style=\"fill:#d20f39;stroke-width:2;stroke:rgb(255,255,255)\"/></svg>"
      ],
      "text/plain": [
       "[(0.8627450980392157, 0.8784313725490196, 0.9098039215686274),\n",
       " (0.8572738991790488, 0.7640833163715313, 0.8140579415157065),\n",
       " (0.8514969355677681, 0.6433447768957641, 0.7129610783182938),\n",
       " (0.8460257367076011, 0.5289967207182757, 0.6172150982653731),\n",
       " (0.8402487730963205, 0.4082581812425085, 0.5161182350679603),\n",
       " (0.8347775742361535, 0.2939101250650201, 0.42037225501503933),\n",
       " (0.8290006106248727, 0.173171585589253, 0.3192753918176267),\n",
       " (0.8235294117647058, 0.058823529411764705, 0.2235294117647059)]"
      ]
     },
     "execution_count": 66,
     "metadata": {},
     "output_type": "execute_result"
    }
   ],
   "source": [
    "sequential_palette(cat='latte', n=8, clr_base='crust', clr='red')"
   ]
  },
  {
   "cell_type": "code",
   "execution_count": null,
   "id": "1cee4742-302d-44f1-a3a6-976f71b70b01",
   "metadata": {},
   "outputs": [],
   "source": []
  },
  {
   "cell_type": "code",
   "execution_count": null,
   "id": "2df39e57-e95c-4ebb-8691-f5170f3e428e",
   "metadata": {},
   "outputs": [],
   "source": []
  },
  {
   "cell_type": "code",
   "execution_count": null,
   "id": "73c2b64c-d0b4-4039-acec-b821a5cff990",
   "metadata": {},
   "outputs": [],
   "source": []
  },
  {
   "cell_type": "code",
   "execution_count": null,
   "id": "e9f45079-e695-496a-b48b-711296cc9acb",
   "metadata": {},
   "outputs": [],
   "source": []
  },
  {
   "cell_type": "code",
   "execution_count": 2,
   "id": "b1a392b4-96c4-4fc7-a64c-185b8e26f927",
   "metadata": {},
   "outputs": [],
   "source": [
    "import seaborn as sns\n",
    "import mplcatppuccin\n",
    "from mplcatppuccin.palette import load_color\n",
    "from mplcatppuccin.colormaps import get_colormap_from_list"
   ]
  },
  {
   "cell_type": "markdown",
   "id": "bb63eaa0-7f40-497e-8cd2-8ca1ab7031a2",
   "metadata": {},
   "source": [
    "latte single color"
   ]
  },
  {
   "cell_type": "code",
   "execution_count": 83,
   "id": "735a17f9-2d83-4a60-be76-ac6c30d783d4",
   "metadata": {},
   "outputs": [
    {
     "data": {
      "text/html": [
       "<svg  width=\"550\" height=\"55\"><rect x=\"0\" y=\"0\" width=\"55\" height=\"55\" style=\"fill:#f0e4e0;stroke-width:2;stroke:rgb(255,255,255)\"/><rect x=\"55\" y=\"0\" width=\"55\" height=\"55\" style=\"fill:#f2d8cb;stroke-width:2;stroke:rgb(255,255,255)\"/><rect x=\"110\" y=\"0\" width=\"55\" height=\"55\" style=\"fill:#f3cbb6;stroke-width:2;stroke:rgb(255,255,255)\"/><rect x=\"165\" y=\"0\" width=\"55\" height=\"55\" style=\"fill:#f4bea0;stroke-width:2;stroke:rgb(255,255,255)\"/><rect x=\"220\" y=\"0\" width=\"55\" height=\"55\" style=\"fill:#f6b18b;stroke-width:2;stroke:rgb(255,255,255)\"/><rect x=\"275\" y=\"0\" width=\"55\" height=\"55\" style=\"fill:#f7a475;stroke-width:2;stroke:rgb(255,255,255)\"/><rect x=\"330\" y=\"0\" width=\"55\" height=\"55\" style=\"fill:#f99760;stroke-width:2;stroke:rgb(255,255,255)\"/><rect x=\"385\" y=\"0\" width=\"55\" height=\"55\" style=\"fill:#fa8a4a;stroke-width:2;stroke:rgb(255,255,255)\"/><rect x=\"440\" y=\"0\" width=\"55\" height=\"55\" style=\"fill:#fb7d35;stroke-width:2;stroke:rgb(255,255,255)\"/><rect x=\"495\" y=\"0\" width=\"55\" height=\"55\" style=\"fill:#fd7120;stroke-width:2;stroke:rgb(255,255,255)\"/></svg>"
      ],
      "text/plain": [
       "[(0.942560553633218, 0.8952249134948097, 0.8780161476355248),\n",
       " (0.9478037858742113, 0.8459385304294728, 0.7962217246760296),\n",
       " (0.9530470181152045, 0.7966521473641359, 0.7144273017165343),\n",
       " (0.9587081891580161, 0.743437139561707, 0.6261130334486735),\n",
       " (0.9639514213990095, 0.69415075649637, 0.5443186104891784),\n",
       " (0.9693819119343239, 0.6431041454644142, 0.45960295813827273),\n",
       " (0.9746251441753172, 0.5938177623990772, 0.37780853517877744),\n",
       " (0.9802863152181288, 0.5406027545966482, 0.2894942669109165),\n",
       " (0.985529547459122, 0.4913163715313114, 0.20769984395142133),\n",
       " (0.9907727797001153, 0.4420299884659745, 0.12590542099192614)]"
      ]
     },
     "execution_count": 83,
     "metadata": {},
     "output_type": "execute_result"
    }
   ],
   "source": [
    "Oranges = ['base', 'peach']\n",
    "cmap = get_colormap_from_list('latte', Oranges)\n",
    "\n",
    "n = 10\n",
    "m = n+2\n",
    "colors = []\n",
    "for i in range(m):\n",
    "    j = i/(m-1)\n",
    "    rgba = cmap(j)\n",
    "    colors.append(rgba)\n",
    "colors = colors[1:-1]\n",
    "colors = sns.blend_palette(colors, n_colors=n)\n",
    "colors"
   ]
  },
  {
   "cell_type": "code",
   "execution_count": 106,
   "id": "65cea86f-7df1-494f-931a-5b2f2638409a",
   "metadata": {},
   "outputs": [
    {
     "data": {
      "text/html": [
       "<svg  width=\"550\" height=\"55\"><rect x=\"0\" y=\"0\" width=\"55\" height=\"55\" style=\"fill:#ecdfce;stroke-width:2;stroke:rgb(255,255,255)\"/><rect x=\"55\" y=\"0\" width=\"55\" height=\"55\" style=\"fill:#e9cda8;stroke-width:2;stroke:rgb(255,255,255)\"/><rect x=\"110\" y=\"0\" width=\"55\" height=\"55\" style=\"fill:#e6bc81;stroke-width:2;stroke:rgb(255,255,255)\"/><rect x=\"165\" y=\"0\" width=\"55\" height=\"55\" style=\"fill:#e3a957;stroke-width:2;stroke:rgb(255,255,255)\"/><rect x=\"220\" y=\"0\" width=\"55\" height=\"55\" style=\"fill:#e09731;stroke-width:2;stroke:rgb(255,255,255)\"/><rect x=\"275\" y=\"0\" width=\"55\" height=\"55\" style=\"fill:#d18824;stroke-width:2;stroke:rgb(255,255,255)\"/><rect x=\"330\" y=\"0\" width=\"55\" height=\"55\" style=\"fill:#b77d32;stroke-width:2;stroke:rgb(255,255,255)\"/><rect x=\"385\" y=\"0\" width=\"55\" height=\"55\" style=\"fill:#9b7140;stroke-width:2;stroke:rgb(255,255,255)\"/><rect x=\"440\" y=\"0\" width=\"55\" height=\"55\" style=\"fill:#81664e;stroke-width:2;stroke:rgb(255,255,255)\"/><rect x=\"495\" y=\"0\" width=\"55\" height=\"55\" style=\"fill:#675a5b;stroke-width:2;stroke:rgb(255,255,255)\"/></svg>"
      ],
      "text/plain": [
       "[(0.9259361783929257, 0.8750634371395617, 0.8079815455594003),\n",
       " (0.9147506162788068, 0.8058527715584504, 0.6569764570187937),\n",
       " (0.9035650541646878, 0.736642105977339, 0.5059713684781872),\n",
       " (0.8914878892733564, 0.661914648212226, 0.3429296424452134),\n",
       " (0.8803023271592374, 0.5927039826311148, 0.19192455390460683),\n",
       " (0.8212909966754869, 0.5340546848497184, 0.14123997557500503),\n",
       " (0.7185236447520185, 0.4900115340253749, 0.19437139561707034),\n",
       " (0.6075646923129113, 0.4424576972657575, 0.25173792885089447),\n",
       " (0.504797340389443, 0.39841454644141394, 0.30486934889295975),\n",
       " (0.4020299884659747, 0.3543713956170704, 0.35800076893502497)]"
      ]
     },
     "execution_count": 106,
     "metadata": {},
     "output_type": "execute_result"
    }
   ],
   "source": [
    "Yellows = ['base', 'yellow', 'text']\n",
    "cmap = get_colormap_from_list('latte', Yellows)\n",
    "\n",
    "n = 10\n",
    "m = n+2\n",
    "colors = []\n",
    "for i in range(m):\n",
    "    j = i/(m-1)\n",
    "    rgba = cmap(j)\n",
    "    colors.append(rgba)\n",
    "colors = colors[1:-1]\n",
    "colors = sns.blend_palette(colors, n_colors=n)\n",
    "colors"
   ]
  },
  {
   "cell_type": "code",
   "execution_count": 100,
   "id": "38643429-c1d8-4919-a1a3-bea755824237",
   "metadata": {},
   "outputs": [
    {
     "data": {
      "text/html": [
       "<svg  width=\"550\" height=\"55\"><rect x=\"0\" y=\"0\" width=\"55\" height=\"55\" style=\"fill:#d8def6;stroke-width:2;stroke:rgb(255,255,255)\"/><rect x=\"55\" y=\"0\" width=\"55\" height=\"55\" style=\"fill:#c2cbf8;stroke-width:2;stroke:rgb(255,255,255)\"/><rect x=\"110\" y=\"0\" width=\"55\" height=\"55\" style=\"fill:#acb8f9;stroke-width:2;stroke:rgb(255,255,255)\"/><rect x=\"165\" y=\"0\" width=\"55\" height=\"55\" style=\"fill:#94a4fb;stroke-width:2;stroke:rgb(255,255,255)\"/><rect x=\"220\" y=\"0\" width=\"55\" height=\"55\" style=\"fill:#7e91fc;stroke-width:2;stroke:rgb(255,255,255)\"/><rect x=\"275\" y=\"0\" width=\"55\" height=\"55\" style=\"fill:#6e82ef;stroke-width:2;stroke:rgb(255,255,255)\"/><rect x=\"330\" y=\"0\" width=\"55\" height=\"55\" style=\"fill:#6878d5;stroke-width:2;stroke:rgb(255,255,255)\"/><rect x=\"385\" y=\"0\" width=\"55\" height=\"55\" style=\"fill:#606db8;stroke-width:2;stroke:rgb(255,255,255)\"/><rect x=\"440\" y=\"0\" width=\"55\" height=\"55\" style=\"fill:#5a639e;stroke-width:2;stroke:rgb(255,255,255)\"/><rect x=\"495\" y=\"0\" width=\"55\" height=\"55\" style=\"fill:#535984;stroke-width:2;stroke:rgb(255,255,255)\"/></svg>"
      ],
      "text/plain": [
       "[(0.8488273740868897, 0.8701114955786236, 0.9664436755094195),\n",
       " (0.761440170070335, 0.7960071465725852, 0.9720364565664791),\n",
       " (0.6740529660537803, 0.7219027975665468, 0.9776292376235385),\n",
       " (0.5797001153402538, 0.6418915801614764, 0.9836678200692042),\n",
       " (0.49231291132369903, 0.5677872311554379, 0.9892606011262637),\n",
       " (0.43330158083994846, 0.5091379333740418, 0.938576022796662),\n",
       " (0.4067358708189158, 0.4699884659746252, 0.8351095732410612),\n",
       " (0.3780526042020037, 0.42771838885496527, 0.7233957979962458),\n",
       " (0.3514868941809711, 0.3885689214555488, 0.619929348440645),\n",
       " (0.3249211841599385, 0.3494194540561323, 0.5164628988850442)]"
      ]
     },
     "execution_count": 100,
     "metadata": {},
     "output_type": "execute_result"
    }
   ],
   "source": [
    "Blues = ['base', 'lavender', 'text']\n",
    "cmap = get_colormap_from_list('latte', Blues)\n",
    "\n",
    "n = 10\n",
    "m = n+2\n",
    "colors = []\n",
    "for i in range(m):\n",
    "    j = i/(m-1)\n",
    "    rgba = cmap(j)\n",
    "    colors.append(rgba)\n",
    "colors = colors[1:-1]\n",
    "colors = sns.blend_palette(colors, n_colors=n)\n",
    "colors"
   ]
  },
  {
   "cell_type": "code",
   "execution_count": 95,
   "id": "d7a1cad0-c6c8-4fd1-9a35-196f7a6b6020",
   "metadata": {},
   "outputs": [
    {
     "data": {
      "text/html": [
       "<svg  width=\"550\" height=\"55\"><rect x=\"0\" y=\"0\" width=\"55\" height=\"55\" style=\"fill:#ecdde4;stroke-width:2;stroke:rgb(255,255,255)\"/><rect x=\"55\" y=\"0\" width=\"55\" height=\"55\" style=\"fill:#eac8d3;stroke-width:2;stroke:rgb(255,255,255)\"/><rect x=\"110\" y=\"0\" width=\"55\" height=\"55\" style=\"fill:#e7b4c3;stroke-width:2;stroke:rgb(255,255,255)\"/><rect x=\"165\" y=\"0\" width=\"55\" height=\"55\" style=\"fill:#e49fb0;stroke-width:2;stroke:rgb(255,255,255)\"/><rect x=\"220\" y=\"0\" width=\"55\" height=\"55\" style=\"fill:#e28aa0;stroke-width:2;stroke:rgb(255,255,255)\"/><rect x=\"275\" y=\"0\" width=\"55\" height=\"55\" style=\"fill:#df768e;stroke-width:2;stroke:rgb(255,255,255)\"/><rect x=\"330\" y=\"0\" width=\"55\" height=\"55\" style=\"fill:#dd617e;stroke-width:2;stroke:rgb(255,255,255)\"/><rect x=\"385\" y=\"0\" width=\"55\" height=\"55\" style=\"fill:#da4c6b;stroke-width:2;stroke:rgb(255,255,255)\"/><rect x=\"440\" y=\"0\" width=\"55\" height=\"55\" style=\"fill:#d7385b;stroke-width:2;stroke:rgb(255,255,255)\"/><rect x=\"495\" y=\"0\" width=\"55\" height=\"55\" style=\"fill:#d5234a;stroke-width:2;stroke:rgb(255,255,255)\"/></svg>"
      ],
      "text/plain": [
       "[(0.9269973087274125, 0.8651595540176855, 0.8942868127643214),\n",
       " (0.9168603930614921, 0.7861615215867201, 0.8285716353438722),\n",
       " (0.9067234773955718, 0.7071634891557546, 0.7628564579234232),\n",
       " (0.8957785467128028, 0.6218685121107266, 0.6919031141868512),\n",
       " (0.8856416310468823, 0.5428704796797611, 0.626187936766402),\n",
       " (0.8751426826786078, 0.46105108894768987, 0.558125788723794),\n",
       " (0.8650057670126874, 0.3820530565167244, 0.4924106113033449),\n",
       " (0.8540608363299184, 0.29675807947169636, 0.42145726756677293),\n",
       " (0.8439239206639979, 0.21776004704073096, 0.3557420901463238),\n",
       " (0.8337870049980777, 0.13876201460976545, 0.29002691272587466)]"
      ]
     },
     "execution_count": 95,
     "metadata": {},
     "output_type": "execute_result"
    }
   ],
   "source": [
    "Reds = ['base', 'red']\n",
    "cmap = get_colormap_from_list('latte', Reds)\n",
    "\n",
    "n = 10\n",
    "m = n+2\n",
    "colors = []\n",
    "for i in range(m):\n",
    "    j = i/(m-1)\n",
    "    rgba = cmap(j)\n",
    "    colors.append(rgba)\n",
    "colors = colors[1:-1]\n",
    "colors = sns.blend_palette(colors, n_colors=n)\n",
    "colors"
   ]
  },
  {
   "cell_type": "code",
   "execution_count": 115,
   "id": "063e8075-a23c-4ee9-be70-0f05dbc90afa",
   "metadata": {},
   "outputs": [
    {
     "data": {
      "text/html": [
       "<svg  width=\"550\" height=\"55\"><rect x=\"0\" y=\"0\" width=\"55\" height=\"55\" style=\"fill:#edd2d8;stroke-width:2;stroke:rgb(255,255,255)\"/><rect x=\"55\" y=\"0\" width=\"55\" height=\"55\" style=\"fill:#ecb3bb;stroke-width:2;stroke:rgb(255,255,255)\"/><rect x=\"110\" y=\"0\" width=\"55\" height=\"55\" style=\"fill:#ea959e;stroke-width:2;stroke:rgb(255,255,255)\"/><rect x=\"165\" y=\"0\" width=\"55\" height=\"55\" style=\"fill:#e8747f;stroke-width:2;stroke:rgb(255,255,255)\"/><rect x=\"220\" y=\"0\" width=\"55\" height=\"55\" style=\"fill:#e75562;stroke-width:2;stroke:rgb(255,255,255)\"/><rect x=\"275\" y=\"0\" width=\"55\" height=\"55\" style=\"fill:#d84655;stroke-width:2;stroke:rgb(255,255,255)\"/><rect x=\"330\" y=\"0\" width=\"55\" height=\"55\" style=\"fill:#bc4859;stroke-width:2;stroke:rgb(255,255,255)\"/><rect x=\"385\" y=\"0\" width=\"55\" height=\"55\" style=\"fill:#9f4a5d;stroke-width:2;stroke:rgb(255,255,255)\"/><rect x=\"440\" y=\"0\" width=\"55\" height=\"55\" style=\"fill:#834b61;stroke-width:2;stroke:rgb(255,255,255)\"/><rect x=\"495\" y=\"0\" width=\"55\" height=\"55\" style=\"fill:#684d65;stroke-width:2;stroke:rgb(255,255,255)\"/></svg>"
      ],
      "text/plain": [
       "[(0.9308881199538639, 0.8234217608612072, 0.8461822376009227),\n",
       " (0.924596241264672, 0.703176968134428, 0.7329284211954679),\n",
       " (0.91830436257548, 0.5829321754076485, 0.619674604790013),\n",
       " (0.9115109573241061, 0.45310265282583617, 0.49739331026528266),\n",
       " (0.9052190786349142, 0.3328578600990569, 0.3841394938598277),\n",
       " (0.8462077481511636, 0.2742085623176606, 0.3334549155302259),\n",
       " (0.7385467128027682, 0.281199538638985, 0.34883506343713955),\n",
       " (0.6223040007237035, 0.2887477666960671, 0.3654411651627202),\n",
       " (0.5146429653753081, 0.2957387430173915, 0.38082131306963385),\n",
       " (0.4069819300269127, 0.3027297193387159, 0.39620146097654746)]"
      ]
     },
     "execution_count": 115,
     "metadata": {},
     "output_type": "execute_result"
    }
   ],
   "source": [
    "Maroons = ['base', 'maroon', 'text']\n",
    "cmap = get_colormap_from_list('latte', Maroons)\n",
    "\n",
    "n = 10\n",
    "m = n+2\n",
    "colors = []\n",
    "for i in range(m):\n",
    "    j = i/(m-1)\n",
    "    rgba = cmap(j)\n",
    "    colors.append(rgba)\n",
    "colors = colors[1:-1]\n",
    "colors = sns.blend_palette(colors, n_colors=n)\n",
    "colors"
   ]
  },
  {
   "cell_type": "code",
   "execution_count": 171,
   "id": "20b3d62a-6c7e-44cf-91e7-73b7646ee88a",
   "metadata": {},
   "outputs": [
    {
     "data": {
      "text/html": [
       "<svg  width=\"550\" height=\"55\"><rect x=\"0\" y=\"0\" width=\"55\" height=\"55\" style=\"fill:#ecdde0;stroke-width:2;stroke:rgb(255,255,255)\"/><rect x=\"55\" y=\"0\" width=\"55\" height=\"55\" style=\"fill:#e9c9cc;stroke-width:2;stroke:rgb(255,255,255)\"/><rect x=\"110\" y=\"0\" width=\"55\" height=\"55\" style=\"fill:#e6b5b7;stroke-width:2;stroke:rgb(255,255,255)\"/><rect x=\"165\" y=\"0\" width=\"55\" height=\"55\" style=\"fill:#e3a0a2;stroke-width:2;stroke:rgb(255,255,255)\"/><rect x=\"220\" y=\"0\" width=\"55\" height=\"55\" style=\"fill:#e08d8d;stroke-width:2;stroke:rgb(255,255,255)\"/><rect x=\"275\" y=\"0\" width=\"55\" height=\"55\" style=\"fill:#dd7778;stroke-width:2;stroke:rgb(255,255,255)\"/><rect x=\"330\" y=\"0\" width=\"55\" height=\"55\" style=\"fill:#db666d;stroke-width:2;stroke:rgb(255,255,255)\"/><rect x=\"385\" y=\"0\" width=\"55\" height=\"55\" style=\"fill:#d95563;stroke-width:2;stroke:rgb(255,255,255)\"/><rect x=\"440\" y=\"0\" width=\"55\" height=\"55\" style=\"fill:#d74358;stroke-width:2;stroke:rgb(255,255,255)\"/><rect x=\"495\" y=\"0\" width=\"55\" height=\"55\" style=\"fill:#d6324e;stroke-width:2;stroke:rgb(255,255,255)\"/></svg>"
      ],
      "text/plain": [
       "[(0.9256286043829296, 0.8669434832756632, 0.8800461361014994),\n",
       " (0.9141390867765792, 0.7897083926996403, 0.8002578193907322),\n",
       " (0.9021089626161883, 0.7088392247325689, 0.7167152904991293),\n",
       " (0.8901960784313726, 0.6287581699346405, 0.6339869281045751),\n",
       " (0.8787065608250221, 0.5515230793586178, 0.5541986113938078),\n",
       " (0.8664139132008052, 0.46817558857453023, 0.46914064726236515),\n",
       " (0.8593925413302577, 0.40115340253748555, 0.4289273356401384),\n",
       " (0.8521124454395368, 0.3316615781260601, 0.3872322409932831),\n",
       " (0.8447607028970758, 0.26148585385711376, 0.34512680643191535),\n",
       " (0.8377393310265282, 0.19446366782006924, 0.3049134948096886)]"
      ]
     },
     "execution_count": 171,
     "metadata": {},
     "output_type": "execute_result"
    }
   ],
   "source": [
    "Flamingos = ['base', 'flamingo', 'red']\n",
    "cmap = get_colormap_from_list('latte', Flamingos)\n",
    "\n",
    "n = 10\n",
    "m = n+3\n",
    "colors = []\n",
    "for i in range(m):\n",
    "    j = i/(m-1)\n",
    "    rgba = cmap(j)\n",
    "    colors.append(rgba)\n",
    "colors = colors[1:-2]\n",
    "colors = sns.blend_palette(colors, n_colors=n)\n",
    "colors"
   ]
  },
  {
   "cell_type": "code",
   "execution_count": 109,
   "id": "a329362d-3387-425c-a54d-134afe13d6f6",
   "metadata": {},
   "outputs": [
    {
     "data": {
      "text/html": [
       "<svg  width=\"550\" height=\"55\"><rect x=\"0\" y=\"0\" width=\"55\" height=\"55\" style=\"fill:#cfe2d1;stroke-width:2;stroke:rgb(255,255,255)\"/><rect x=\"55\" y=\"0\" width=\"55\" height=\"55\" style=\"fill:#b0d4ad;stroke-width:2;stroke:rgb(255,255,255)\"/><rect x=\"110\" y=\"0\" width=\"55\" height=\"55\" style=\"fill:#91c689;stroke-width:2;stroke:rgb(255,255,255)\"/><rect x=\"165\" y=\"0\" width=\"55\" height=\"55\" style=\"fill:#6fb662;stroke-width:2;stroke:rgb(255,255,255)\"/><rect x=\"220\" y=\"0\" width=\"55\" height=\"55\" style=\"fill:#50a73e;stroke-width:2;stroke:rgb(255,255,255)\"/><rect x=\"275\" y=\"0\" width=\"55\" height=\"55\" style=\"fill:#419931;stroke-width:2;stroke:rgb(255,255,255)\"/><rect x=\"330\" y=\"0\" width=\"55\" height=\"55\" style=\"fill:#438a3c;stroke-width:2;stroke:rgb(255,255,255)\"/><rect x=\"385\" y=\"0\" width=\"55\" height=\"55\" style=\"fill:#467a48;stroke-width:2;stroke:rgb(255,255,255)\"/><rect x=\"440\" y=\"0\" width=\"55\" height=\"55\" style=\"fill:#486c53;stroke-width:2;stroke:rgb(255,255,255)\"/><rect x=\"495\" y=\"0\" width=\"55\" height=\"55\" style=\"fill:#4a5e5e;stroke-width:2;stroke:rgb(255,255,255)\"/></svg>"
      ],
      "text/plain": [
       "[(0.8134563629373318, 0.8877970011534025, 0.8178854286812764),\n",
       " (0.6911142773141552, 0.8311700929506751, 0.676667706990524),\n",
       " (0.5687721916909786, 0.7745431847479476, 0.5354499852997716),\n",
       " (0.43667820069204155, 0.7134025374855825, 0.38297577854671283),\n",
       " (0.31433611506886494, 0.656775629282855, 0.24175805685596038),\n",
       " (0.2553247845851143, 0.5981263315014587, 0.19107347852635864),\n",
       " (0.2637139561707036, 0.5414994232987312, 0.23441753171856977),\n",
       " (0.2727718298392021, 0.48035877603636606, 0.28121654567247895),\n",
       " (0.28116100142479133, 0.4237318678336387, 0.3245605988646901),\n",
       " (0.2895501730103806, 0.3671049596309112, 0.36790465205690115)]"
      ]
     },
     "execution_count": 109,
     "metadata": {},
     "output_type": "execute_result"
    }
   ],
   "source": [
    "Greens = ['base', 'green', 'text']\n",
    "cmap = get_colormap_from_list('latte', Greens)\n",
    "\n",
    "n = 10\n",
    "m = n+2\n",
    "colors = []\n",
    "for i in range(m):\n",
    "    j = i/(m-1)\n",
    "    rgba = cmap(j)\n",
    "    colors.append(rgba)\n",
    "colors = colors[1:-1]\n",
    "colors = sns.blend_palette(colors, n_colors=n)\n",
    "colors"
   ]
  },
  {
   "cell_type": "code",
   "execution_count": 199,
   "id": "3f326639-0430-41e7-8123-78eab61ebd52",
   "metadata": {},
   "outputs": [
    {
     "data": {
      "text/html": [
       "<svg  width=\"550\" height=\"55\"><rect x=\"0\" y=\"0\" width=\"55\" height=\"55\" style=\"fill:#eed3eb;stroke-width:2;stroke:rgb(255,255,255)\"/><rect x=\"55\" y=\"0\" width=\"55\" height=\"55\" style=\"fill:#edb5e0;stroke-width:2;stroke:rgb(255,255,255)\"/><rect x=\"110\" y=\"0\" width=\"55\" height=\"55\" style=\"fill:#eb95d6;stroke-width:2;stroke:rgb(255,255,255)\"/><rect x=\"165\" y=\"0\" width=\"55\" height=\"55\" style=\"fill:#ea76cb;stroke-width:2;stroke:rgb(255,255,255)\"/><rect x=\"220\" y=\"0\" width=\"55\" height=\"55\" style=\"fill:#cd7ad7;stroke-width:2;stroke:rgb(255,255,255)\"/><rect x=\"275\" y=\"0\" width=\"55\" height=\"55\" style=\"fill:#ad7fe4;stroke-width:2;stroke:rgb(255,255,255)\"/><rect x=\"330\" y=\"0\" width=\"55\" height=\"55\" style=\"fill:#9083f1;stroke-width:2;stroke:rgb(255,255,255)\"/><rect x=\"385\" y=\"0\" width=\"55\" height=\"55\" style=\"fill:#7287fc;stroke-width:2;stroke:rgb(255,255,255)\"/><rect x=\"440\" y=\"0\" width=\"55\" height=\"55\" style=\"fill:#6878d6;stroke-width:2;stroke:rgb(255,255,255)\"/><rect x=\"495\" y=\"0\" width=\"55\" height=\"55\" style=\"fill:#5f6bb2;stroke-width:2;stroke:rgb(255,255,255)\"/></svg>"
      ],
      "text/plain": [
       "[(0.9324106113033449, 0.8259284890426759, 0.9200922722029988),\n",
       " (0.9276233123006988, 0.7081609335775834, 0.8798789605807722),\n",
       " (0.9226107605672026, 0.5848521609335777, 0.8377735260194042),\n",
       " (0.9176470588235294, 0.4627450980392157, 0.796078431372549),\n",
       " (0.8027518827600245, 0.47902191464821225, 0.8439514213990094),\n",
       " (0.6782169753714635, 0.4966643598615917, 0.8958409661442431),\n",
       " (0.5633217993079584, 0.5129411764705882, 0.9437139561707035),\n",
       " (0.44615129927403485, 0.5280743605400637, 0.9886222945925774),\n",
       " (0.408055906099464, 0.47193378112490664, 0.8402507632810909),\n",
       " (0.3716724336793541, 0.41831603229527103, 0.6985467128027683)]"
      ]
     },
     "execution_count": 199,
     "metadata": {},
     "output_type": "execute_result"
    }
   ],
   "source": [
    "PuBu = ['base', 'pink', 'lavender', 'text']\n",
    "cmap = get_colormap_from_list('latte', PuBu)\n",
    "\n",
    "n = 10\n",
    "m = n+3\n",
    "colors = []\n",
    "for i in range(m):\n",
    "    j = i/(m-1)\n",
    "    rgba = cmap(j)\n",
    "    colors.append(rgba)\n",
    "colors = colors[1:-2]\n",
    "colors = sns.blend_palette(colors, n_colors=n)\n",
    "colors"
   ]
  },
  {
   "cell_type": "code",
   "execution_count": 114,
   "id": "1c69a757-5137-4397-a195-ada832d93627",
   "metadata": {},
   "outputs": [
    {
     "data": {
      "text/html": [
       "<svg  width=\"550\" height=\"55\"><rect x=\"0\" y=\"0\" width=\"55\" height=\"55\" style=\"fill:#eed3eb;stroke-width:2;stroke:rgb(255,255,255)\"/><rect x=\"55\" y=\"0\" width=\"55\" height=\"55\" style=\"fill:#edb5e0;stroke-width:2;stroke:rgb(255,255,255)\"/><rect x=\"110\" y=\"0\" width=\"55\" height=\"55\" style=\"fill:#eb95d6;stroke-width:2;stroke:rgb(255,255,255)\"/><rect x=\"165\" y=\"0\" width=\"55\" height=\"55\" style=\"fill:#ea76cb;stroke-width:2;stroke:rgb(255,255,255)\"/><rect x=\"220\" y=\"0\" width=\"55\" height=\"55\" style=\"fill:#d267d4;stroke-width:2;stroke:rgb(255,255,255)\"/><rect x=\"275\" y=\"0\" width=\"55\" height=\"55\" style=\"fill:#b857dd;stroke-width:2;stroke:rgb(255,255,255)\"/><rect x=\"330\" y=\"0\" width=\"55\" height=\"55\" style=\"fill:#a048e6;stroke-width:2;stroke:rgb(255,255,255)\"/><rect x=\"385\" y=\"0\" width=\"55\" height=\"55\" style=\"fill:#8839ee;stroke-width:2;stroke:rgb(255,255,255)\"/><rect x=\"440\" y=\"0\" width=\"55\" height=\"55\" style=\"fill:#783fcc;stroke-width:2;stroke:rgb(255,255,255)\"/><rect x=\"495\" y=\"0\" width=\"55\" height=\"55\" style=\"fill:#6a44ab;stroke-width:2;stroke:rgb(255,255,255)\"/></svg>"
      ],
      "text/plain": [
       "[(0.9324106113033449, 0.8259284890426759, 0.9200922722029988),\n",
       " (0.9276233123006988, 0.7081609335775834, 0.8798789605807722),\n",
       " (0.9226107605672026, 0.5848521609335777, 0.8377735260194042),\n",
       " (0.9176470588235294, 0.4627450980392157, 0.796078431372549),\n",
       " (0.8238159983716671, 0.40434005020693403, 0.8305469841916004),\n",
       " (0.7221124906710089, 0.34103480561774885, 0.8679074564081687),\n",
       " (0.6282814302191464, 0.2826297577854672, 0.9023760092272203),\n",
       " (0.5319004002985277, 0.22405482054413464, 0.9340546848497183),\n",
       " (0.4717497794965737, 0.24611004817151777, 0.799718298392021),\n",
       " (0.4143021914648212, 0.26717416378316033, 0.6714186851211073)]"
      ]
     },
     "execution_count": 114,
     "metadata": {},
     "output_type": "execute_result"
    }
   ],
   "source": [
    "Purples = ['base', 'pink', 'mauve', 'text']\n",
    "cmap = get_colormap_from_list('latte', Purples)\n",
    "\n",
    "n = 10\n",
    "m = n+3\n",
    "colors = []\n",
    "for i in range(m):\n",
    "    j = i/(m-1)\n",
    "    rgba = cmap(j)\n",
    "    colors.append(rgba)\n",
    "colors = colors[1:-2]\n",
    "colors = sns.blend_palette(colors, n_colors=n)\n",
    "colors"
   ]
  },
  {
   "cell_type": "code",
   "execution_count": null,
   "id": "235b1b80-7c6e-4d44-a3c5-e11df9c5212f",
   "metadata": {},
   "outputs": [],
   "source": []
  },
  {
   "cell_type": "code",
   "execution_count": null,
   "id": "a0af5229-2b3c-47ca-b6d4-92bc68e1b783",
   "metadata": {},
   "outputs": [],
   "source": []
  },
  {
   "cell_type": "code",
   "execution_count": null,
   "id": "7e73074b-dead-47a6-9288-f24c24496b46",
   "metadata": {},
   "outputs": [],
   "source": []
  },
  {
   "cell_type": "code",
   "execution_count": null,
   "id": "9c986ac8-dff0-4f6d-b2c8-0b1ae9ca9f35",
   "metadata": {},
   "outputs": [],
   "source": []
  },
  {
   "cell_type": "code",
   "execution_count": 63,
   "id": "6f66be23-71aa-4364-9077-c8d8dcfc2102",
   "metadata": {},
   "outputs": [
    {
     "data": {
      "image/png": "[encoded data removed]",
      "text/html": [
       "<div style=\"vertical-align: middle;\"><strong>mocha</strong> </div><div class=\"cmap\"><img alt=\"mocha colormap\" title=\"mocha\" style=\"border: 1px solid #555;\" src=\"data:image/png;base64,iVBORw0KGgoAAAANSUhEUgAAAgAAAABACAYAAABsv8+/AAAAFHRFWHRUaXRsZQBtb2NoYSBjb2xvcm1hcKsL/C8AAAAadEVYdERlc2NyaXB0aW9uAG1vY2hhIGNvbG9ybWFwVVRVyQAAADB0RVh0QXV0aG9yAE1hdHBsb3RsaWIgdjMuNi4yLCBodHRwczovL21hdHBsb3RsaWIub3Jncc5VXwAAADJ0RVh0U29mdHdhcmUATWF0cGxvdGxpYiB2My42LjIsIGh0dHBzOi8vbWF0cGxvdGxpYi5vcmdfaMp4AAABx0lEQVR4nO3WsVarQBRA0eH9/6/Z+iW2DyyMujDBYECbs3eDswKXASnO9PT8sowxxhhvh+ly3F6P9XraOn98P2/amHfv/tPe89f3P77Pnecf3Of1/Xbe/9f3+eX/dXCfm9/TxryPfS6rz/Xzj0fXy3q/99dnzdlY736Os+YcfV9nzTn6vs6ac2z9/pn+n+fL8e2H+XL8WC/r9dV5y+3rtq5/fP58+7w787f2d9b+r6+fb87f+/yP7v/n73c+5fn/6vv4NwCAHAEAAEECAACCBAAABAkAAAgSAAAQJAAAIEgAAECQAACAIAEAAEECAACCBAAABAkAAAgSAAAQJAAAIEgAAECQAACAIAEAAEECAACCBAAABAkAAAgSAAAQJAAAIEgAAECQAACAIAEAAEECAACCBAAABAkAAAgSAAAQJAAAIEgAAECQAACAIAEAAEECAACCBAAABAkAAAgSAAAQJAAAIEgAAECQAACAIAEAAEECAACCBAAABAkAAAgSAAAQJAAAIEgAAECQAACAIAEAAEECAACCBAAABAkAAAgSAAAQJAAAIEgAAECQAACAIAEAAEECAACCBAAABAkAAAgSAAAQJAAAIOgVgTKc+H2LhE8AAAAASUVORK5CYII=\"></div><div style=\"vertical-align: middle; max-width: 514px; display: flex; justify-content: space-between;\"><div style=\"float: left;\"><div title=\"#cdd6f4ff\" style=\"display: inline-block; width: 1em; height: 1em; margin: 0; vertical-align: middle; border: 1px solid #555; background-color: #cdd6f4ff;\"></div> under</div><div style=\"margin: 0 auto; display: inline-block;\">bad <div title=\"#00000000\" style=\"display: inline-block; width: 1em; height: 1em; margin: 0; vertical-align: middle; border: 1px solid #555; background-color: #00000000;\"></div></div><div style=\"float: right;\">over <div title=\"#1e1e2eff\" style=\"display: inline-block; width: 1em; height: 1em; margin: 0; vertical-align: middle; border: 1px solid #555; background-color: #1e1e2eff;\"></div></div>"
      ],
      "text/plain": [
       "<matplotlib.colors.LinearSegmentedColormap at 0x7f695854abb0>"
      ]
     },
     "execution_count": 63,
     "metadata": {},
     "output_type": "execute_result"
    }
   ],
   "source": [
    "YrOr = ['text', 'yellow', 'peach', 'base']\n",
    "cmap = get_colormap_from_list('mocha', YrOr)\n",
    "cmap"
   ]
  },
  {
   "cell_type": "code",
   "execution_count": 66,
   "id": "30e87b17-fc7d-40d5-84b7-170cf5c306ee",
   "metadata": {},
   "outputs": [
    {
     "data": {
      "text/html": [
       "<svg  width=\"550\" height=\"55\"><rect x=\"0\" y=\"0\" width=\"55\" height=\"55\" style=\"fill:#d9d9e1;stroke-width:2;stroke:rgb(255,255,255)\"/><rect x=\"55\" y=\"0\" width=\"55\" height=\"55\" style=\"fill:#e5dccf;stroke-width:2;stroke:rgb(255,255,255)\"/><rect x=\"110\" y=\"0\" width=\"55\" height=\"55\" style=\"fill:#f0e0bc;stroke-width:2;stroke:rgb(255,255,255)\"/><rect x=\"165\" y=\"0\" width=\"55\" height=\"55\" style=\"fill:#f9deab;stroke-width:2;stroke:rgb(255,255,255)\"/><rect x=\"220\" y=\"0\" width=\"55\" height=\"55\" style=\"fill:#f9d1a1;stroke-width:2;stroke:rgb(255,255,255)\"/><rect x=\"275\" y=\"0\" width=\"55\" height=\"55\" style=\"fill:#fac495;stroke-width:2;stroke:rgb(255,255,255)\"/><rect x=\"330\" y=\"0\" width=\"55\" height=\"55\" style=\"fill:#fab78b;stroke-width:2;stroke:rgb(255,255,255)\"/><rect x=\"385\" y=\"0\" width=\"55\" height=\"55\" style=\"fill:#cf9676;stroke-width:2;stroke:rgb(255,255,255)\"/><rect x=\"440\" y=\"0\" width=\"55\" height=\"55\" style=\"fill:#946e5e;stroke-width:2;stroke:rgb(255,255,255)\"/><rect x=\"495\" y=\"0\" width=\"55\" height=\"55\" style=\"fill:#5a4646;stroke-width:2;stroke:rgb(255,255,255)\"/></svg>"
      ],
      "text/plain": [
       "[(0.8506113033448673, 0.8519492502883507, 0.8836447520184545),\n",
       " (0.8967517470656082, 0.8645330076667345, 0.8112881470927472),\n",
       " (0.9428921907863491, 0.8771167650451184, 0.7389315421670399),\n",
       " (0.9768396770472895, 0.8689273356401384, 0.6715109573241062),\n",
       " (0.9778883234954882, 0.8196409525748015, 0.6295650993961598),\n",
       " (0.978974421602551, 0.7685943415428454, 0.5861211751136441),\n",
       " (0.9800230680507497, 0.7193079584775086, 0.5441753171856978),\n",
       " (0.8125001696180201, 0.5882521202252526, 0.46149182441142544),\n",
       " (0.5817979510143156, 0.43200379944365286, 0.36816229052174504),\n",
       " (0.3510957324106113, 0.2757554786620531, 0.27483275663206463)]"
      ]
     },
     "execution_count": 66,
     "metadata": {},
     "output_type": "execute_result"
    }
   ],
   "source": [
    "YrOr = ['text', 'yellow', 'peach', 'base']\n",
    "cmap = get_colormap_from_list('mocha', YrOr)\n",
    "\n",
    "n = 10\n",
    "m = n+2\n",
    "colors = []\n",
    "for i in range(m):\n",
    "    j = i/(m-1)\n",
    "    rgba = cmap(j)\n",
    "    colors.append(rgba)\n",
    "colors = colors[1:-1]\n",
    "colors = sns.blend_palette(colors, n_colors=n)\n",
    "colors"
   ]
  },
  {
   "cell_type": "code",
   "execution_count": 67,
   "id": "1da2001a-808e-4c70-b40a-20792a2efc4f",
   "metadata": {},
   "outputs": [
    {
     "data": {
      "text/html": [
       "<svg  width=\"550\" height=\"55\"><rect x=\"0\" y=\"0\" width=\"55\" height=\"55\" style=\"fill:#ceceda;stroke-width:2;stroke:rgb(255,255,255)\"/><rect x=\"55\" y=\"0\" width=\"55\" height=\"55\" style=\"fill:#d7ccbf;stroke-width:2;stroke:rgb(255,255,255)\"/><rect x=\"110\" y=\"0\" width=\"55\" height=\"55\" style=\"fill:#dfcaa4;stroke-width:2;stroke:rgb(255,255,255)\"/><rect x=\"165\" y=\"0\" width=\"55\" height=\"55\" style=\"fill:#e6c48e;stroke-width:2;stroke:rgb(255,255,255)\"/><rect x=\"220\" y=\"0\" width=\"55\" height=\"55\" style=\"fill:#e9b987;stroke-width:2;stroke:rgb(255,255,255)\"/><rect x=\"275\" y=\"0\" width=\"55\" height=\"55\" style=\"fill:#ebae7f;stroke-width:2;stroke:rgb(255,255,255)\"/><rect x=\"330\" y=\"0\" width=\"55\" height=\"55\" style=\"fill:#eea378;stroke-width:2;stroke:rgb(255,255,255)\"/><rect x=\"385\" y=\"0\" width=\"55\" height=\"55\" style=\"fill:#ca8a6d;stroke-width:2;stroke:rgb(255,255,255)\"/><rect x=\"440\" y=\"0\" width=\"55\" height=\"55\" style=\"fill:#976e60;stroke-width:2;stroke:rgb(255,255,255)\"/><rect x=\"495\" y=\"0\" width=\"55\" height=\"55\" style=\"fill:#645153;stroke-width:2;stroke:rgb(255,255,255)\"/></svg>"
      ],
      "text/plain": [
       "[(0.809365628604383, 0.80719723183391, 0.8536101499423299),\n",
       " (0.8418736684985413, 0.7988080602483207, 0.7476968586742656),\n",
       " (0.8743817083926997, 0.7904188886627315, 0.6417835674062011),\n",
       " (0.9017301038062284, 0.7691810841983853, 0.5551095732410611),\n",
       " (0.912216568288215, 0.7261865798222403, 0.5278447655878961),\n",
       " (0.9230775493588439, 0.6816565574326617, 0.4996062148042609),\n",
       " (0.9335640138408304, 0.6386620530565167, 0.47234140715109574),\n",
       " (0.7914941312165003, 0.5418728543320441, 0.426114119004003),\n",
       " (0.591202659610557, 0.429667684374788, 0.3757790894904675),\n",
       " (0.39091118800461366, 0.31746251441753176, 0.325444059976932)]"
      ]
     },
     "execution_count": 67,
     "metadata": {},
     "output_type": "execute_result"
    }
   ],
   "source": [
    "YrOr = ['text', 'yellow', 'peach', 'base']\n",
    "cmap = get_colormap_from_list('frappe', YrOr)\n",
    "\n",
    "n = 10\n",
    "m = n+2\n",
    "colors = []\n",
    "for i in range(m):\n",
    "    j = i/(m-1)\n",
    "    rgba = cmap(j)\n",
    "    colors.append(rgba)\n",
    "colors = colors[1:-1]\n",
    "colors = sns.blend_palette(colors, n_colors=n)\n",
    "colors"
   ]
  },
  {
   "cell_type": "code",
   "execution_count": 68,
   "id": "fe5bce45-7efa-46ed-b859-67c712d433ad",
   "metadata": {},
   "outputs": [
    {
     "data": {
      "text/html": [
       "<svg  width=\"550\" height=\"55\"><rect x=\"0\" y=\"0\" width=\"55\" height=\"55\" style=\"fill:#d4d3de;stroke-width:2;stroke:rgb(255,255,255)\"/><rect x=\"55\" y=\"0\" width=\"55\" height=\"55\" style=\"fill:#ddd4c7;stroke-width:2;stroke:rgb(255,255,255)\"/><rect x=\"110\" y=\"0\" width=\"55\" height=\"55\" style=\"fill:#e7d4b0;stroke-width:2;stroke:rgb(255,255,255)\"/><rect x=\"165\" y=\"0\" width=\"55\" height=\"55\" style=\"fill:#efd09c;stroke-width:2;stroke:rgb(255,255,255)\"/><rect x=\"220\" y=\"0\" width=\"55\" height=\"55\" style=\"fill:#f1c493;stroke-width:2;stroke:rgb(255,255,255)\"/><rect x=\"275\" y=\"0\" width=\"55\" height=\"55\" style=\"fill:#f2b98b;stroke-width:2;stroke:rgb(255,255,255)\"/><rect x=\"330\" y=\"0\" width=\"55\" height=\"55\" style=\"fill:#f4ad82;stroke-width:2;stroke:rgb(255,255,255)\"/><rect x=\"385\" y=\"0\" width=\"55\" height=\"55\" style=\"fill:#cc9072;stroke-width:2;stroke:rgb(255,255,255)\"/><rect x=\"440\" y=\"0\" width=\"55\" height=\"55\" style=\"fill:#946d5f;stroke-width:2;stroke:rgb(255,255,255)\"/><rect x=\"495\" y=\"0\" width=\"55\" height=\"55\" style=\"fill:#5d4a4d;stroke-width:2;stroke:rgb(255,255,255)\"/></svg>"
      ],
      "text/plain": [
       "[(0.8303575547866205, 0.8285121107266435, 0.8695271049596309),\n",
       " (0.8681088269217722, 0.8295607571748422, 0.7793435104145464),\n",
       " (0.9058600990569238, 0.8306094036230409, 0.6891599158694619),\n",
       " (0.9359169550173011, 0.8155017301038062, 0.6117185697808535),\n",
       " (0.9432574801546917, 0.770409932831264, 0.5781618834384965),\n",
       " (0.9508601669041319, 0.7237077142275595, 0.5434067440124839),\n",
       " (0.9582006920415225, 0.6786159169550172, 0.5098500576701269),\n",
       " (0.8012869258430014, 0.5635361964855146, 0.4453821833231562),\n",
       " (0.5821198181694823, 0.4272121582196892, 0.37302557839744893),\n",
       " (0.3629527104959631, 0.29088811995386393, 0.3006689734717416)]"
      ]
     },
     "execution_count": 68,
     "metadata": {},
     "output_type": "execute_result"
    }
   ],
   "source": [
    "YrOr = ['text', 'yellow', 'peach', 'base']\n",
    "cmap = get_colormap_from_list('macchiato', YrOr)\n",
    "\n",
    "n = 10\n",
    "m = n+2\n",
    "colors = []\n",
    "for i in range(m):\n",
    "    j = i/(m-1)\n",
    "    rgba = cmap(j)\n",
    "    colors.append(rgba)\n",
    "colors = colors[1:-1]\n",
    "colors = sns.blend_palette(colors, n_colors=n)\n",
    "colors"
   ]
  },
  {
   "cell_type": "code",
   "execution_count": null,
   "id": "ac015229-810e-4a3b-9642-def232f78145",
   "metadata": {},
   "outputs": [],
   "source": []
  },
  {
   "cell_type": "code",
   "execution_count": null,
   "id": "7c4c2d03-7f71-48ab-93ae-6c9c4b9d6c20",
   "metadata": {},
   "outputs": [],
   "source": []
  },
  {
   "cell_type": "markdown",
   "id": "3edf4996-eab1-411b-838f-9a9f682316de",
   "metadata": {},
   "source": [
    "for frappe, macchiato, mocha, the colors are slightly different"
   ]
  },
  {
   "cell_type": "code",
   "execution_count": 120,
   "id": "cc7d3f7a-c0fd-4709-8ecb-8d74d6192d4c",
   "metadata": {},
   "outputs": [
    {
     "data": {
      "text/html": [
       "<svg  width=\"550\" height=\"55\"><rect x=\"0\" y=\"0\" width=\"55\" height=\"55\" style=\"fill:#ceceda;stroke-width:2;stroke:rgb(255,255,255)\"/><rect x=\"55\" y=\"0\" width=\"55\" height=\"55\" style=\"fill:#d7ccbf;stroke-width:2;stroke:rgb(255,255,255)\"/><rect x=\"110\" y=\"0\" width=\"55\" height=\"55\" style=\"fill:#dfcaa4;stroke-width:2;stroke:rgb(255,255,255)\"/><rect x=\"165\" y=\"0\" width=\"55\" height=\"55\" style=\"fill:#e6c48e;stroke-width:2;stroke:rgb(255,255,255)\"/><rect x=\"220\" y=\"0\" width=\"55\" height=\"55\" style=\"fill:#e9b987;stroke-width:2;stroke:rgb(255,255,255)\"/><rect x=\"275\" y=\"0\" width=\"55\" height=\"55\" style=\"fill:#ebae7f;stroke-width:2;stroke:rgb(255,255,255)\"/><rect x=\"330\" y=\"0\" width=\"55\" height=\"55\" style=\"fill:#eea378;stroke-width:2;stroke:rgb(255,255,255)\"/><rect x=\"385\" y=\"0\" width=\"55\" height=\"55\" style=\"fill:#ca8a6d;stroke-width:2;stroke:rgb(255,255,255)\"/><rect x=\"440\" y=\"0\" width=\"55\" height=\"55\" style=\"fill:#976e60;stroke-width:2;stroke:rgb(255,255,255)\"/><rect x=\"495\" y=\"0\" width=\"55\" height=\"55\" style=\"fill:#645153;stroke-width:2;stroke:rgb(255,255,255)\"/></svg>"
      ],
      "text/plain": [
       "[(0.809365628604383, 0.80719723183391, 0.8536101499423299),\n",
       " (0.8418736684985413, 0.7988080602483207, 0.7476968586742656),\n",
       " (0.8743817083926997, 0.7904188886627315, 0.6417835674062011),\n",
       " (0.9017301038062284, 0.7691810841983853, 0.5551095732410611),\n",
       " (0.912216568288215, 0.7261865798222403, 0.5278447655878961),\n",
       " (0.9230775493588439, 0.6816565574326617, 0.4996062148042609),\n",
       " (0.9335640138408304, 0.6386620530565167, 0.47234140715109574),\n",
       " (0.7914941312165003, 0.5418728543320441, 0.426114119004003),\n",
       " (0.591202659610557, 0.429667684374788, 0.3757790894904675),\n",
       " (0.39091118800461366, 0.31746251441753176, 0.325444059976932)]"
      ]
     },
     "execution_count": 120,
     "metadata": {},
     "output_type": "execute_result"
    }
   ],
   "source": [
    "YrOr = ['text', 'yellow', 'peach', 'base']\n",
    "cmap = get_colormap_from_list('frappe', YrOr)\n",
    "\n",
    "n = 10\n",
    "m = n+2\n",
    "colors = []\n",
    "for i in range(m):\n",
    "    j = i/(m-1)\n",
    "    rgba = cmap(j)\n",
    "    colors.append(rgba)\n",
    "colors = colors[1:-1]\n",
    "colors = sns.blend_palette(colors, n_colors=n)\n",
    "colors"
   ]
  },
  {
   "cell_type": "code",
   "execution_count": 129,
   "id": "0fd5e669-3373-42cc-8f87-37ce0fa66d85",
   "metadata": {},
   "outputs": [
    {
     "data": {
      "text/html": [
       "<svg  width=\"550\" height=\"55\"><rect x=\"0\" y=\"0\" width=\"55\" height=\"55\" style=\"fill:#e5d3db;stroke-width:2;stroke:rgb(255,255,255)\"/><rect x=\"55\" y=\"0\" width=\"55\" height=\"55\" style=\"fill:#eed5d2;stroke-width:2;stroke:rgb(255,255,255)\"/><rect x=\"110\" y=\"0\" width=\"55\" height=\"55\" style=\"fill:#f0c9c4;stroke-width:2;stroke:rgb(255,255,255)\"/><rect x=\"165\" y=\"0\" width=\"55\" height=\"55\" style=\"fill:#eeb5b2;stroke-width:2;stroke:rgb(255,255,255)\"/><rect x=\"220\" y=\"0\" width=\"55\" height=\"55\" style=\"fill:#eba2a1;stroke-width:2;stroke:rgb(255,255,255)\"/><rect x=\"275\" y=\"0\" width=\"55\" height=\"55\" style=\"fill:#e88e8f;stroke-width:2;stroke:rgb(255,255,255)\"/><rect x=\"330\" y=\"0\" width=\"55\" height=\"55\" style=\"fill:#d87c7f;stroke-width:2;stroke:rgb(255,255,255)\"/><rect x=\"385\" y=\"0\" width=\"55\" height=\"55\" style=\"fill:#ae6a71;stroke-width:2;stroke:rgb(255,255,255)\"/><rect x=\"440\" y=\"0\" width=\"55\" height=\"55\" style=\"fill:#835862;stroke-width:2;stroke:rgb(255,255,255)\"/><rect x=\"495\" y=\"0\" width=\"55\" height=\"55\" style=\"fill:#594554;stroke-width:2;stroke:rgb(255,255,255)\"/></svg>"
      ],
      "text/plain": [
       "[(0.8962399077277969, 0.8292964244521338, 0.8573471741637831),\n",
       " (0.9343559264536264, 0.8336277902164326, 0.8244287943551123),\n",
       " (0.942243028699369, 0.7866465838930728, 0.7681291810841985),\n",
       " (0.9322722029988466, 0.7089273356401384, 0.6975778546712803),\n",
       " (0.9227431983173892, 0.6370266639527783, 0.6326073682067983),\n",
       " (0.9117069000610625, 0.5587027613813692, 0.5618649840559062),\n",
       " (0.8467820069204153, 0.4846136101499423, 0.49762399077277975),\n",
       " (0.6823936495013231, 0.4145464414139358, 0.44192957459800536),\n",
       " (0.5155220842662324, 0.343420856231766, 0.3853938530429473),\n",
       " (0.34865051903114186, 0.2722952710495963, 0.32885813148788934)]"
      ]
     },
     "execution_count": 129,
     "metadata": {},
     "output_type": "execute_result"
    }
   ],
   "source": [
    "Rosewaters = ['text', 'rosewater', 'red', 'base']\n",
    "cmap = get_colormap_from_list('frappe', Rosewaters)\n",
    "\n",
    "n = 10\n",
    "m = n+4\n",
    "colors = []\n",
    "for i in range(m):\n",
    "    j = i/(m-1)\n",
    "    rgba = cmap(j)\n",
    "    colors.append(rgba)\n",
    "colors = colors[3:-1]\n",
    "colors = sns.blend_palette(colors, n_colors=n)\n",
    "colors"
   ]
  },
  {
   "cell_type": "code",
   "execution_count": 176,
   "id": "d0cbaf7a-03e6-4a87-95cf-54ebef577744",
   "metadata": {},
   "outputs": [
    {
     "data": {
      "text/html": [
       "<svg  width=\"550\" height=\"55\"><rect x=\"0\" y=\"0\" width=\"55\" height=\"55\" style=\"fill:#cac7cb;stroke-width:2;stroke:rgb(255,255,255)\"/><rect x=\"55\" y=\"0\" width=\"55\" height=\"55\" style=\"fill:#dbcdb5;stroke-width:2;stroke:rgb(255,255,255)\"/><rect x=\"110\" y=\"0\" width=\"55\" height=\"55\" style=\"fill:#eed49f;stroke-width:2;stroke:rgb(255,255,255)\"/><rect x=\"165\" y=\"0\" width=\"55\" height=\"55\" style=\"fill:#f0c694;stroke-width:2;stroke:rgb(255,255,255)\"/><rect x=\"220\" y=\"0\" width=\"55\" height=\"55\" style=\"fill:#f3b88a;stroke-width:2;stroke:rgb(255,255,255)\"/><rect x=\"275\" y=\"0\" width=\"55\" height=\"55\" style=\"fill:#f5a97f;stroke-width:2;stroke:rgb(255,255,255)\"/><rect x=\"330\" y=\"0\" width=\"55\" height=\"55\" style=\"fill:#f29e87;stroke-width:2;stroke:rgb(255,255,255)\"/><rect x=\"385\" y=\"0\" width=\"55\" height=\"55\" style=\"fill:#f0928e;stroke-width:2;stroke:rgb(255,255,255)\"/><rect x=\"440\" y=\"0\" width=\"55\" height=\"55\" style=\"fill:#ea8695;stroke-width:2;stroke:rgb(255,255,255)\"/><rect x=\"495\" y=\"0\" width=\"55\" height=\"55\" style=\"fill:#b57385;stroke-width:2;stroke:rgb(255,255,255)\"/></svg>"
      ],
      "text/plain": [
       "[(0.7913264129181085, 0.7787773933102653, 0.7944636678200692),\n",
       " (0.8602635185562114, 0.8043096546577109, 0.7114838184408712),\n",
       " (0.9317384716285592, 0.8300972024334533, 0.6250951444014745),\n",
       " (0.9424836601307189, 0.7751633986928105, 0.5816993464052288),\n",
       " (0.9514199516023248, 0.7202690367958026, 0.5408477282493159),\n",
       " (0.9604166723206007, 0.6611826220684353, 0.49909618472533185),\n",
       " (0.9502037677816225, 0.6177777777777778, 0.5284582852748942),\n",
       " (0.9394451907637333, 0.5727474953072347, 0.5588230770970442),\n",
       " (0.9193530090236786, 0.5258543998914444, 0.5851686003120972),\n",
       " (0.7099884659746252, 0.45181084198385235, 0.5213379469434833)]"
      ]
     },
     "execution_count": 176,
     "metadata": {},
     "output_type": "execute_result"
    }
   ],
   "source": [
    "YlOrRd = ['subtext1', 'yellow', 'peach', 'red', 'surface1']\n",
    "cmap = get_colormap_from_list('macchiato', YlOrRd)\n",
    "\n",
    "n = 10\n",
    "m = n+3\n",
    "colors = []\n",
    "for i in range(m):\n",
    "    j = i/(m-1)\n",
    "    rgba = cmap(j)\n",
    "    colors.append(rgba)\n",
    "colors = colors[1:-2]\n",
    "colors = sns.blend_palette(colors, n_colors=n)\n",
    "colors"
   ]
  },
  {
   "cell_type": "code",
   "execution_count": 150,
   "id": "f1bdb292-1431-48b4-98c8-4c1e324ce796",
   "metadata": {},
   "outputs": [
    {
     "data": {
      "image/png": "[encoded data removed]",
      "text/html": [
       "<div style=\"vertical-align: middle;\"><strong>frappe</strong> </div><div class=\"cmap\"><img alt=\"frappe colormap\" title=\"frappe\" style=\"border: 1px solid #555;\" src=\"data:image/png;base64,iVBORw0KGgoAAAANSUhEUgAAAgAAAABACAYAAABsv8+/AAAAFXRFWHRUaXRsZQBmcmFwcGUgY29sb3JtYXCWZzdLAAAAG3RFWHREZXNjcmlwdGlvbgBmcmFwcGUgY29sb3JtYXDf8C+vAAAAMHRFWHRBdXRob3IATWF0cGxvdGxpYiB2My42LjIsIGh0dHBzOi8vbWF0cGxvdGxpYi5vcmdxzlVfAAAAMnRFWHRTb2Z0d2FyZQBNYXRwbG90bGliIHYzLjYuMiwgaHR0cHM6Ly9tYXRwbG90bGliLm9yZ19oyngAAAH6SURBVHic7dZBTsNAEEXBHu5/HdbchXsQsyABuZ2OCWL3qzaRZ5xxG5B46/XtfauqqrpUVdWqrX1+rdewvtb2eL/6/v574371/fvfO+xP8w/fi3+/7/N3t1VtfX3b7a++Ptx3sw7r7bqds87mGOY9zNVuP75Hn2OY7/ZzG+d6PO86maM/b36Px/M+P1+fa7ped9d/Hn9/fzxn+PU8e05/nbN5+/XW5jmbt9vO7jtc7+c6zP/kOf3PYnrOdM7lev2x+y9QdbkO9rO+Dff/bf37+vqc23N/vX47t6b1/fW0/n/vt5/32fX5vdt7/PP6SwEAcQQAAAQSAAAQSAAAQCABAACBBAAABBIAABBIAABAIAEAAIEEAAAEEgAAEEgAAEAgAQAAgQQAAAQSAAAQSAAAQCABAACBBAAABBIAABBIAABAIAEAAIEEAAAEEgAAEEgAAEAgAQAAgQQAAAQSAAAQSAAAQCABAACBBAAABBIAABBIAABAIAEAAIEEAAAEEgAAEEgAAEAgAQAAgQQAAAQSAAAQSAAAQCABAACBBAAABBIAABBIAABAIAEAAIEEAAAEEgAAEEgAAEAgAQAAgQQAAAQSAAAQSAAAQCABAACBBAAABBIAABBIAABAIAEAAIEEAAAEEgAAEEgAAEAgAQAAgQQAAAQSAAAQ6BOmFyijL5/3NgAAAABJRU5ErkJggg==\"></div><div style=\"vertical-align: middle; max-width: 514px; display: flex; justify-content: space-between;\"><div style=\"float: left;\"><div title=\"#b5bfe2ff\" style=\"display: inline-block; width: 1em; height: 1em; margin: 0; vertical-align: middle; border: 1px solid #555; background-color: #b5bfe2ff;\"></div> under</div><div style=\"margin: 0 auto; display: inline-block;\">bad <div title=\"#00000000\" style=\"display: inline-block; width: 1em; height: 1em; margin: 0; vertical-align: middle; border: 1px solid #555; background-color: #00000000;\"></div></div><div style=\"float: right;\">over <div title=\"#51576dff\" style=\"display: inline-block; width: 1em; height: 1em; margin: 0; vertical-align: middle; border: 1px solid #555; background-color: #51576dff;\"></div></div>"
      ],
      "text/plain": [
       "<matplotlib.colors.LinearSegmentedColormap at 0x7f6958708d90>"
      ]
     },
     "execution_count": 150,
     "metadata": {},
     "output_type": "execute_result"
    }
   ],
   "source": [
    "cmap"
   ]
  },
  {
   "cell_type": "code",
   "execution_count": 186,
   "id": "9298e0cd-e0fc-4046-909e-a36da82cbfb3",
   "metadata": {},
   "outputs": [
    {
     "data": {
      "text/html": [
       "<svg  width=\"550\" height=\"55\"><rect x=\"0\" y=\"0\" width=\"55\" height=\"55\" style=\"fill:#cac7cb;stroke-width:2;stroke:rgb(255,255,255)\"/><rect x=\"55\" y=\"0\" width=\"55\" height=\"55\" style=\"fill:#dbcdb5;stroke-width:2;stroke:rgb(255,255,255)\"/><rect x=\"110\" y=\"0\" width=\"55\" height=\"55\" style=\"fill:#eed49f;stroke-width:2;stroke:rgb(255,255,255)\"/><rect x=\"165\" y=\"0\" width=\"55\" height=\"55\" style=\"fill:#f0c694;stroke-width:2;stroke:rgb(255,255,255)\"/><rect x=\"220\" y=\"0\" width=\"55\" height=\"55\" style=\"fill:#f3b88a;stroke-width:2;stroke:rgb(255,255,255)\"/><rect x=\"275\" y=\"0\" width=\"55\" height=\"55\" style=\"fill:#f5a97f;stroke-width:2;stroke:rgb(255,255,255)\"/><rect x=\"330\" y=\"0\" width=\"55\" height=\"55\" style=\"fill:#f29e87;stroke-width:2;stroke:rgb(255,255,255)\"/><rect x=\"385\" y=\"0\" width=\"55\" height=\"55\" style=\"fill:#f0928e;stroke-width:2;stroke:rgb(255,255,255)\"/><rect x=\"440\" y=\"0\" width=\"55\" height=\"55\" style=\"fill:#ea8595;stroke-width:2;stroke:rgb(255,255,255)\"/><rect x=\"495\" y=\"0\" width=\"55\" height=\"55\" style=\"fill:#a86677;stroke-width:2;stroke:rgb(255,255,255)\"/></svg>"
      ],
      "text/plain": [
       "[(0.7913264129181085, 0.7787773933102653, 0.7944636678200692),\n",
       " (0.8602635185562114, 0.8043096546577109, 0.7114838184408712),\n",
       " (0.9317384716285592, 0.8300972024334533, 0.6250951444014745),\n",
       " (0.9424836601307189, 0.7751633986928105, 0.5816993464052288),\n",
       " (0.9514199516023248, 0.7202690367958026, 0.5408477282493159),\n",
       " (0.9604166723206007, 0.6611826220684353, 0.49909618472533185),\n",
       " (0.9502037677816225, 0.6177777777777778, 0.5284582852748942),\n",
       " (0.9394050252165457, 0.5727062442047176, 0.5587774837732095),\n",
       " (0.9170836556075718, 0.5235237125992265, 0.5825925775154353),\n",
       " (0.6604844290657439, 0.40096885813148786, 0.4651441753171857)]"
      ]
     },
     "execution_count": 186,
     "metadata": {},
     "output_type": "execute_result"
    }
   ],
   "source": [
    "YlOrRd = ['subtext1', 'yellow', 'peach', 'red', 'base']\n",
    "cmap = get_colormap_from_list('macchiato', YlOrRd)\n",
    "\n",
    "n = 10\n",
    "m = n+3\n",
    "colors = []\n",
    "for i in range(m):\n",
    "    j = i/(m-1)\n",
    "    rgba = cmap(j)\n",
    "    colors.append(rgba)\n",
    "colors = colors[1:-2]\n",
    "colors = sns.blend_palette(colors, n_colors=n)\n",
    "colors"
   ]
  },
  {
   "cell_type": "code",
   "execution_count": 193,
   "id": "8c1e2464-31f4-45b1-9883-dd8b79728ad1",
   "metadata": {},
   "outputs": [
    {
     "data": {
      "text/html": [
       "<svg  width=\"550\" height=\"55\"><rect x=\"0\" y=\"0\" width=\"55\" height=\"55\" style=\"fill:#cbc3bd;stroke-width:2;stroke:rgb(255,255,255)\"/><rect x=\"55\" y=\"0\" width=\"55\" height=\"55\" style=\"fill:#e0c798;stroke-width:2;stroke:rgb(255,255,255)\"/><rect x=\"110\" y=\"0\" width=\"55\" height=\"55\" style=\"fill:#cfcb8e;stroke-width:2;stroke:rgb(255,255,255)\"/><rect x=\"165\" y=\"0\" width=\"55\" height=\"55\" style=\"fill:#b1cf8a;stroke-width:2;stroke:rgb(255,255,255)\"/><rect x=\"220\" y=\"0\" width=\"55\" height=\"55\" style=\"fill:#9ccf97;stroke-width:2;stroke:rgb(255,255,255)\"/><rect x=\"275\" y=\"0\" width=\"55\" height=\"55\" style=\"fill:#8bcab0;stroke-width:2;stroke:rgb(255,255,255)\"/><rect x=\"330\" y=\"0\" width=\"55\" height=\"55\" style=\"fill:#83c3c6;stroke-width:2;stroke:rgb(255,255,255)\"/><rect x=\"385\" y=\"0\" width=\"55\" height=\"55\" style=\"fill:#88b4dd;stroke-width:2;stroke:rgb(255,255,255)\"/><rect x=\"440\" y=\"0\" width=\"55\" height=\"55\" style=\"fill:#829edd;stroke-width:2;stroke:rgb(255,255,255)\"/><rect x=\"495\" y=\"0\" width=\"55\" height=\"55\" style=\"fill:#596992;stroke-width:2;stroke:rgb(255,255,255)\"/></svg>"
      ],
      "text/plain": [
       "[(0.7946943483275664, 0.7649365628604383, 0.7412533640907343),\n",
       " (0.8785860641834589, 0.7806662595834182, 0.5979383495035845),\n",
       " (0.8124594612931678, 0.7963959563063979, 0.5559870637989913),\n",
       " (0.6945790080738178, 0.8133794694348327, 0.5420991926182237),\n",
       " (0.6121310808060249, 0.8099599701472284, 0.5936956374245199),\n",
       " (0.5453341474998304, 0.7936440735463736, 0.6891050953253273),\n",
       " (0.5134948096885813, 0.7635524798154556, 0.778316032295271),\n",
       " (0.533320668521157, 0.7061446954791144, 0.8669407693873397),\n",
       " (0.5117344007960739, 0.6188443358889114, 0.8652473030734785),\n",
       " (0.3509419454056132, 0.41261053440984236, 0.5716262975778547)]"
      ]
     },
     "execution_count": 193,
     "metadata": {},
     "output_type": "execute_result"
    }
   ],
   "source": [
    "YlGnBu = ['subtext1', 'yellow', 'green', 'teal', 'blue', 'base']\n",
    "cmap = get_colormap_from_list('frappe', YlGnBu)\n",
    "\n",
    "n = 10\n",
    "m = n+2\n",
    "colors = []\n",
    "for i in range(m):\n",
    "    j = i/(m-1)\n",
    "    rgba = cmap(j)\n",
    "    colors.append(rgba)\n",
    "colors = colors[1:-1]\n",
    "colors = sns.blend_palette(colors, n_colors=n)\n",
    "colors"
   ]
  },
  {
   "cell_type": "code",
   "execution_count": 197,
   "id": "9d4322e5-5703-45f5-84c2-dfcd24262d00",
   "metadata": {},
   "outputs": [
    {
     "data": {
      "text/html": [
       "<svg  width=\"550\" height=\"55\"><rect x=\"0\" y=\"0\" width=\"55\" height=\"55\" style=\"fill:#c2c1cc;stroke-width:2;stroke:rgb(255,255,255)\"/><rect x=\"55\" y=\"0\" width=\"55\" height=\"55\" style=\"fill:#cfc4b6;stroke-width:2;stroke:rgb(255,255,255)\"/><rect x=\"110\" y=\"0\" width=\"55\" height=\"55\" style=\"fill:#dcc6a0;stroke-width:2;stroke:rgb(255,255,255)\"/><rect x=\"165\" y=\"0\" width=\"55\" height=\"55\" style=\"fill:#dfc98f;stroke-width:2;stroke:rgb(255,255,255)\"/><rect x=\"220\" y=\"0\" width=\"55\" height=\"55\" style=\"fill:#cecb8d;stroke-width:2;stroke:rgb(255,255,255)\"/><rect x=\"275\" y=\"0\" width=\"55\" height=\"55\" style=\"fill:#bdce8c;stroke-width:2;stroke:rgb(255,255,255)\"/><rect x=\"330\" y=\"0\" width=\"55\" height=\"55\" style=\"fill:#acd08a;stroke-width:2;stroke:rgb(255,255,255)\"/><rect x=\"385\" y=\"0\" width=\"55\" height=\"55\" style=\"fill:#8fb27c;stroke-width:2;stroke:rgb(255,255,255)\"/><rect x=\"440\" y=\"0\" width=\"55\" height=\"55\" style=\"fill:#6f886a;stroke-width:2;stroke:rgb(255,255,255)\"/><rect x=\"495\" y=\"0\" width=\"55\" height=\"55\" style=\"fill:#505e58;stroke-width:2;stroke:rgb(255,255,255)\"/></svg>"
      ],
      "text/plain": [
       "[(0.7607381776239908, 0.7585697808535179, 0.7992618223760092),\n",
       " (0.8110732071375264, 0.7680075988873059, 0.7132728136237193),\n",
       " (0.8614082366510618, 0.7774454169210937, 0.6272838048714295),\n",
       " (0.8747866205305652, 0.7876355247981546, 0.5621222606689734),\n",
       " (0.8087218942940498, 0.7970733428319425, 0.5547817355315828),\n",
       " (0.7402977135490876, 0.8068482257955084, 0.5471790487821426),\n",
       " (0.6742329873125721, 0.8162860438292964, 0.539838523644752),\n",
       " (0.5609292353619648, 0.6997940158762466, 0.48612416039079986),\n",
       " (0.43718895447452333, 0.5351565235090575, 0.4158648483614899),\n",
       " (0.3134486735870819, 0.37051903114186846, 0.34560553633217994)]"
      ]
     },
     "execution_count": 197,
     "metadata": {},
     "output_type": "execute_result"
    }
   ],
   "source": [
    "YlGn = ['subtext1', 'yellow', 'green', 'base']\n",
    "cmap = get_colormap_from_list('frappe', YlGn)\n",
    "\n",
    "n = 10\n",
    "m = n+2\n",
    "colors = []\n",
    "for i in range(m):\n",
    "    j = i/(m-1)\n",
    "    rgba = cmap(j)\n",
    "    colors.append(rgba)\n",
    "colors = colors[1:-1]\n",
    "colors = sns.blend_palette(colors, n_colors=n)\n",
    "colors"
   ]
  },
  {
   "cell_type": "raw",
   "id": "8861515c-f1b5-4bc7-86a8-456d3b03ba34",
   "metadata": {},
   "source": [
    "YlGn = ['base', 'peach', 'green', 'text']\n",
    "cmap = get_colormap_from_list('latte', YlGn)\n",
    "\n",
    "n = 10\n",
    "m = n+2\n",
    "colors = []\n",
    "for i in range(m):\n",
    "    j = i/(m-1)\n",
    "    rgba = cmap(j)\n",
    "    colors.append(rgba)\n",
    "colors = colors[1:-1]\n",
    "colors = sns.blend_palette(colors, n_colors=n)\n",
    "colors"
   ]
  },
  {
   "cell_type": "code",
   "execution_count": null,
   "id": "3ddb18f7-6804-45d4-833d-18a478543922",
   "metadata": {},
   "outputs": [],
   "source": []
  },
  {
   "cell_type": "code",
   "execution_count": 119,
   "id": "6ce7aa68-c769-4e00-931a-6276defbabe0",
   "metadata": {},
   "outputs": [
    {
     "data": {
      "text/html": [
       "<svg  width=\"550\" height=\"55\"><rect x=\"0\" y=\"0\" width=\"55\" height=\"55\" style=\"fill:#d2d1eb;stroke-width:2;stroke:rgb(255,255,255)\"/><rect x=\"55\" y=\"0\" width=\"55\" height=\"55\" style=\"fill:#ded3e1;stroke-width:2;stroke:rgb(255,255,255)\"/><rect x=\"110\" y=\"0\" width=\"55\" height=\"55\" style=\"fill:#e9d4d6;stroke-width:2;stroke:rgb(255,255,255)\"/><rect x=\"165\" y=\"0\" width=\"55\" height=\"55\" style=\"fill:#f1cdc8;stroke-width:2;stroke:rgb(255,255,255)\"/><rect x=\"220\" y=\"0\" width=\"55\" height=\"55\" style=\"fill:#eeb7b4;stroke-width:2;stroke:rgb(255,255,255)\"/><rect x=\"275\" y=\"0\" width=\"55\" height=\"55\" style=\"fill:#eba09f;stroke-width:2;stroke:rgb(255,255,255)\"/><rect x=\"330\" y=\"0\" width=\"55\" height=\"55\" style=\"fill:#e88a8b;stroke-width:2;stroke:rgb(255,255,255)\"/><rect x=\"385\" y=\"0\" width=\"55\" height=\"55\" style=\"fill:#c37378;stroke-width:2;stroke:rgb(255,255,255)\"/><rect x=\"440\" y=\"0\" width=\"55\" height=\"55\" style=\"fill:#925e67;stroke-width:2;stroke:rgb(255,255,255)\"/><rect x=\"495\" y=\"0\" width=\"55\" height=\"55\" style=\"fill:#624957;stroke-width:2;stroke:rgb(255,255,255)\"/></svg>"
      ],
      "text/plain": [
       "[(0.8231603229527105, 0.8209919261822376, 0.9204613610149942),\n",
       " (0.8693007666734515, 0.8262351584232309, 0.8806127959834453),\n",
       " (0.9154412103941922, 0.8314783906642241, 0.8407642309518963),\n",
       " (0.944959630911188, 0.8046597462514418, 0.784083044982699),\n",
       " (0.9334245199810027, 0.7176220910509532, 0.7054345613677997),\n",
       " (0.921477440803311, 0.6274759481647331, 0.6239772033380827),\n",
       " (0.9099423298731257, 0.5404382929642445, 0.5453287197231834),\n",
       " (0.7662267453694279, 0.4502785806364067, 0.4703320442363797),\n",
       " (0.5743244453490739, 0.3684841576769115, 0.405315964448063),\n",
       " (0.38242214532871976, 0.2866897347174164, 0.34029988465974625)]"
      ]
     },
     "execution_count": 119,
     "metadata": {},
     "output_type": "execute_result"
    }
   ],
   "source": []
  },
  {
   "cell_type": "code",
   "execution_count": 208,
   "id": "2dd842c4-f0d0-493a-b5ba-02636f460e2d",
   "metadata": {},
   "outputs": [
    {
     "data": {
      "image/png": "[encoded data removed]",
      "text/html": [
       "<div style=\"vertical-align: middle;\"><strong>OrRd</strong> </div><div class=\"cmap\"><img alt=\"OrRd colormap\" title=\"OrRd\" style=\"border: 1px solid #555;\" src=\"data:image/png;base64,iVBORw0KGgoAAAANSUhEUgAAAgAAAABACAYAAABsv8+/AAAAE3RFWHRUaXRsZQBPclJkIGNvbG9ybWFwfIXUNgAAABl0RVh0RGVzY3JpcHRpb24AT3JSZCBjb2xvcm1hcPc3RK4AAAAwdEVYdEF1dGhvcgBNYXRwbG90bGliIHYzLjYuMiwgaHR0cHM6Ly9tYXRwbG90bGliLm9yZ3HOVV8AAAAydEVYdFNvZnR3YXJlAE1hdHBsb3RsaWIgdjMuNi4yLCBodHRwczovL21hdHBsb3RsaWIub3JnX2jKeAAAAahJREFUeJzt1ktKxEAUQNHS/S/MpbgKy4HSaj6EBNOTe86k7fC6eCkQ7svH+9scY4w55/gy/3z8+uP76+L7v83vPL99j2e933L+4jl33fPte9x0r3fd8978s+/57PzJcx//94+1t8+Zy+c783P1fHu/9dz2uav9lu+zN3e01+45J/cay/lze/38/Oh+D+Yu3+9i7uL9rvYb23Pu9977PXyPxe9fBwCQIwAAIEgAAECQAACAIAEAAEECAACCBAAABAkAAAgSAAAQJAAAIEgAAECQAACAIAEAAEECAACCBAAABAkAAAgSAAAQJAAAIEgAAECQAACAIAEAAEECAACCBAAABAkAAAgSAAAQJAAAIEgAAECQAACAIAEAAEECAACCBAAABAkAAAgSAAAQJAAAIEgAAECQAACAIAEAAEECAACCBAAABAkAAAgSAAAQJAAAIEgAAECQAACAIAEAAEECAACCBAAABAkAAAgSAAAQJAAAIEgAAECQAACAIAEAAEECAACCBAAABAkAAAgSAAAQJAAAIEgAAECQAACAIAEAAEECAACCBAAABH0Cw35Q7kmhXJcAAAAASUVORK5CYII=\"></div><div style=\"vertical-align: middle; max-width: 514px; display: flex; justify-content: space-between;\"><div style=\"float: left;\"><div title=\"#fee8c8ff\" style=\"display: inline-block; width: 1em; height: 1em; margin: 0; vertical-align: middle; border: 1px solid #555; background-color: #fee8c8ff;\"></div> under</div><div style=\"margin: 0 auto; display: inline-block;\">bad <div title=\"#00000000\" style=\"display: inline-block; width: 1em; height: 1em; margin: 0; vertical-align: middle; border: 1px solid #555; background-color: #00000000;\"></div></div><div style=\"float: right;\">over <div title=\"#e34a33ff\" style=\"display: inline-block; width: 1em; height: 1em; margin: 0; vertical-align: middle; border: 1px solid #555; background-color: #e34a33ff;\"></div></div>"
      ],
      "text/plain": [
       "<matplotlib.colors.LinearSegmentedColormap at 0x7f6958683670>"
      ]
     },
     "execution_count": 208,
     "metadata": {},
     "output_type": "execute_result"
    }
   ],
   "source": [
    "from matplotlib.colors import LinearSegmentedColormap\n",
    "from mplcatppuccin.palette import load_color\n",
    "colors = ['#fee8c8', '#fdbb84', '#e34a33']\n",
    "OrRd_palette = LinearSegmentedColormap.from_list('OrRd', colors)\n",
    "OrRd_palette"
   ]
  },
  {
   "cell_type": "code",
   "execution_count": 209,
   "id": "07c80c70-3390-4ad0-9ca6-94eddc379cca",
   "metadata": {},
   "outputs": [
    {
     "data": {
      "image/png": "[encoded data removed]",
      "text/html": [
       "<div style=\"vertical-align: middle;\"><strong>OrRd</strong> </div><div class=\"cmap\"><img alt=\"OrRd colormap\" title=\"OrRd\" style=\"border: 1px solid #555;\" src=\"data:image/png;base64,iVBORw0KGgoAAAANSUhEUgAAAgAAAABACAYAAABsv8+/AAAAE3RFWHRUaXRsZQBPclJkIGNvbG9ybWFwfIXUNgAAABl0RVh0RGVzY3JpcHRpb24AT3JSZCBjb2xvcm1hcPc3RK4AAAAwdEVYdEF1dGhvcgBNYXRwbG90bGliIHYzLjYuMiwgaHR0cHM6Ly9tYXRwbG90bGliLm9yZ3HOVV8AAAAydEVYdFNvZnR3YXJlAE1hdHBsb3RsaWIgdjMuNi4yLCBodHRwczovL21hdHBsb3RsaWIub3JnX2jKeAAAAahJREFUeJzt1ktKxEAUQNHS/S/MpbgKy4HSaj6EBNOTe86k7fC6eCkQ7svH+9scY4w55/gy/3z8+uP76+L7v83vPL99j2e933L+4jl33fPte9x0r3fd8978s+/57PzJcx//94+1t8+Zy+c783P1fHu/9dz2uav9lu+zN3e01+45J/cay/lze/38/Oh+D+Yu3+9i7uL9rvYb23Pu9977PXyPxe9fBwCQIwAAIEgAAECQAACAIAEAAEECAACCBAAABAkAAAgSAAAQJAAAIEgAAECQAACAIAEAAEECAACCBAAABAkAAAgSAAAQJAAAIEgAAECQAACAIAEAAEECAACCBAAABAkAAAgSAAAQJAAAIEgAAECQAACAIAEAAEECAACCBAAABAkAAAgSAAAQJAAAIEgAAECQAACAIAEAAEECAACCBAAABAkAAAgSAAAQJAAAIEgAAECQAACAIAEAAEECAACCBAAABAkAAAgSAAAQJAAAIEgAAECQAACAIAEAAEECAACCBAAABAkAAAgSAAAQJAAAIEgAAECQAACAIAEAAEECAACCBAAABH0Cw35Q7kmhXJcAAAAASUVORK5CYII=\"></div><div style=\"vertical-align: middle; max-width: 514px; display: flex; justify-content: space-between;\"><div style=\"float: left;\"><div title=\"#fee8c8ff\" style=\"display: inline-block; width: 1em; height: 1em; margin: 0; vertical-align: middle; border: 1px solid #555; background-color: #fee8c8ff;\"></div> under</div><div style=\"margin: 0 auto; display: inline-block;\">bad <div title=\"#00000000\" style=\"display: inline-block; width: 1em; height: 1em; margin: 0; vertical-align: middle; border: 1px solid #555; background-color: #00000000;\"></div></div><div style=\"float: right;\">over <div title=\"#e34a33ff\" style=\"display: inline-block; width: 1em; height: 1em; margin: 0; vertical-align: middle; border: 1px solid #555; background-color: #e34a33ff;\"></div></div>"
      ],
      "text/plain": [
       "<matplotlib.colors.LinearSegmentedColormap at 0x7f6958683cd0>"
      ]
     },
     "execution_count": 209,
     "metadata": {},
     "output_type": "execute_result"
    }
   ],
   "source": [
    "LinearSegmentedColormap.from_list('OrRd', colors)"
   ]
  },
  {
   "cell_type": "code",
   "execution_count": 215,
   "id": "0db6c7e7-e758-4a8f-b14d-3bf32233619b",
   "metadata": {},
   "outputs": [
    {
     "data": {
      "text/html": [
       "<svg  width=\"550\" height=\"55\"><rect x=\"0\" y=\"0\" width=\"55\" height=\"55\" style=\"fill:#f1c8c4;stroke-width:2;stroke:rgb(255,255,255)\"/><rect x=\"55\" y=\"0\" width=\"55\" height=\"55\" style=\"fill:#f0bbb9;stroke-width:2;stroke:rgb(255,255,255)\"/><rect x=\"110\" y=\"0\" width=\"55\" height=\"55\" style=\"fill:#efaeae;stroke-width:2;stroke:rgb(255,255,255)\"/><rect x=\"165\" y=\"0\" width=\"55\" height=\"55\" style=\"fill:#eea0a2;stroke-width:2;stroke:rgb(255,255,255)\"/><rect x=\"220\" y=\"0\" width=\"55\" height=\"55\" style=\"fill:#ed9497;stroke-width:2;stroke:rgb(255,255,255)\"/><rect x=\"275\" y=\"0\" width=\"55\" height=\"55\" style=\"fill:#eb868b;stroke-width:2;stroke:rgb(255,255,255)\"/><rect x=\"330\" y=\"0\" width=\"55\" height=\"55\" style=\"fill:#ea7a80;stroke-width:2;stroke:rgb(255,255,255)\"/><rect x=\"385\" y=\"0\" width=\"55\" height=\"55\" style=\"fill:#e96c74;stroke-width:2;stroke:rgb(255,255,255)\"/><rect x=\"440\" y=\"0\" width=\"55\" height=\"55\" style=\"fill:#e85f69;stroke-width:2;stroke:rgb(255,255,255)\"/><rect x=\"495\" y=\"0\" width=\"55\" height=\"55\" style=\"fill:#e7525e;stroke-width:2;stroke:rgb(255,255,255)\"/></svg>"
      ],
      "text/plain": [
       "[(0.9447750865051903, 0.7843598615916956, 0.7679046520569012),\n",
       " (0.9405805007123956, 0.7340248320781599, 0.72456059886469),\n",
       " (0.936385914919601, 0.6836898025646245, 0.6812165456724789),\n",
       " (0.9318569780853517, 0.6293425605536332, 0.6344175317185698),\n",
       " (0.9276623922925571, 0.5790075310400977, 0.5910734785263587),\n",
       " (0.9233179998643056, 0.5268748219010788, 0.5461814234344258),\n",
       " (0.919123414071511, 0.4765397923875433, 0.5028373702422145),\n",
       " (0.9145944772372617, 0.42219255037655207, 0.4560383562883054),\n",
       " (0.9103998914444671, 0.37185752086301654, 0.41269430309609423),\n",
       " (0.9062053056516725, 0.32152249134948097, 0.36935024990388315)]"
      ]
     },
     "execution_count": 215,
     "metadata": {},
     "output_type": "execute_result"
    }
   ],
   "source": [
    "\n",
    "colors = [load_color('frappe', 'rosewater'), load_color('latte', 'maroon')]\n",
    "cmap = LinearSegmentedColormap.from_list('', colors)\n",
    "\n",
    "n = 10\n",
    "m = n+2\n",
    "colors = []\n",
    "for i in range(m):\n",
    "    j = i/(m-1)\n",
    "    rgba = cmap(j)\n",
    "    colors.append(rgba)\n",
    "colors = colors[1:-1]\n",
    "colors = sns.blend_palette(colors, n_colors=n)\n",
    "colors"
   ]
  },
  {
   "cell_type": "code",
   "execution_count": null,
   "id": "944e6a80-281d-4926-aa18-53297fd062b5",
   "metadata": {},
   "outputs": [],
   "source": []
  }
 ],
 "metadata": {
  "kernelspec": {
   "display_name": "Python 3 (ipykernel)",
   "language": "python",
   "name": "python3"
  },
  "language_info": {
   "codemirror_mode": {
    "name": "ipython",
    "version": 3
   },
   "file_extension": ".py",
   "mimetype": "text/x-python",
   "name": "python",
   "nbconvert_exporter": "python",
   "pygments_lexer": "ipython3",
   "version": "3.9.15"
  }
 },
 "nbformat": 4,
 "nbformat_minor": 5
}
