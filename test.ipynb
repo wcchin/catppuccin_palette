{
 "cells": [
  {
   "cell_type": "code",
   "execution_count": 1,
   "id": "3068f9d7-9f7a-43e0-a81a-0332826856af",
   "metadata": {},
   "outputs": [],
   "source": [
    "from catppuccin_palette import catppuccin as cpc"
   ]
  },
  {
   "cell_type": "markdown",
   "id": "2fa5ba28-05d1-4615-8b01-b3f45ebdb0db",
   "metadata": {},
   "source": [
    "for colors"
   ]
  },
  {
   "cell_type": "code",
   "execution_count": 2,
   "id": "a614494a-c0a4-46e2-bde4-507b7f93009a",
   "metadata": {},
   "outputs": [
    {
     "data": {
      "text/html": [
       "<svg  width=\"550\" height=\"55\"><rect x=\"0\" y=\"0\" width=\"55\" height=\"55\" style=\"fill:#1e66f5;stroke-width:2;stroke:rgb(255,255,255)\"/><rect x=\"55\" y=\"0\" width=\"55\" height=\"55\" style=\"fill:#fb640e;stroke-width:2;stroke:rgb(255,255,255)\"/><rect x=\"110\" y=\"0\" width=\"55\" height=\"55\" style=\"fill:#449f2a;stroke-width:2;stroke:rgb(255,255,255)\"/><rect x=\"165\" y=\"0\" width=\"55\" height=\"55\" style=\"fill:#d20f39;stroke-width:2;stroke:rgb(255,255,255)\"/><rect x=\"220\" y=\"0\" width=\"55\" height=\"55\" style=\"fill:#8939ed;stroke-width:2;stroke:rgb(255,255,255)\"/><rect x=\"275\" y=\"0\" width=\"55\" height=\"55\" style=\"fill:#dd7879;stroke-width:2;stroke:rgb(255,255,255)\"/><rect x=\"330\" y=\"0\" width=\"55\" height=\"55\" style=\"fill:#ea76cb;stroke-width:2;stroke:rgb(255,255,255)\"/><rect x=\"385\" y=\"0\" width=\"55\" height=\"55\" style=\"fill:#6f7083;stroke-width:2;stroke:rgb(255,255,255)\"/><rect x=\"440\" y=\"0\" width=\"55\" height=\"55\" style=\"fill:#dd8e1f;stroke-width:2;stroke:rgb(255,255,255)\"/><rect x=\"495\" y=\"0\" width=\"55\" height=\"55\" style=\"fill:#209fb5;stroke-width:2;stroke:rgb(255,255,255)\"/></svg>"
      ],
      "text/plain": [
       "[(0.11764705882352941, 0.4, 0.9607843137254902),\n",
       " (0.9857439446366782, 0.3922491349480969, 0.053933102652825804),\n",
       " (0.2685121107266435, 0.6219146482122261, 0.16567474048442907),\n",
       " (0.8235294117647058, 0.05882352941176472, 0.2235294117647059),\n",
       " (0.5367474048442906, 0.22159169550173013, 0.9288581314878894),\n",
       " (0.8672664359861592, 0.4704959630911188, 0.47441753171856954),\n",
       " (0.9176470588235294, 0.4627450980392157, 0.796078431372549),\n",
       " (0.4341407151095735, 0.43815455594002317, 0.5119723183391001),\n",
       " (0.8656978085351785, 0.5576470588235295, 0.12073817762399097),\n",
       " (0.12549019607843137, 0.6235294117647059, 0.7098039215686275)]"
      ]
     },
     "execution_count": 2,
     "metadata": {},
     "output_type": "execute_result"
    }
   ],
   "source": [
    "cpc.color_palette(cat='latte')"
   ]
  },
  {
   "cell_type": "code",
   "execution_count": 3,
   "id": "808a6300-94b3-4dd9-9d6b-b1afad030aba",
   "metadata": {},
   "outputs": [
    {
     "data": {
      "text/html": [
       "<svg  width=\"550\" height=\"55\"><rect x=\"0\" y=\"0\" width=\"55\" height=\"55\" style=\"fill:#8caaee;stroke-width:2;stroke:rgb(255,255,255)\"/><rect x=\"55\" y=\"0\" width=\"55\" height=\"55\" style=\"fill:#ee9f77;stroke-width:2;stroke:rgb(255,255,255)\"/><rect x=\"110\" y=\"0\" width=\"55\" height=\"55\" style=\"fill:#a8d089;stroke-width:2;stroke:rgb(255,255,255)\"/><rect x=\"165\" y=\"0\" width=\"55\" height=\"55\" style=\"fill:#e78284;stroke-width:2;stroke:rgb(255,255,255)\"/><rect x=\"220\" y=\"0\" width=\"55\" height=\"55\" style=\"fill:#ca9ee5;stroke-width:2;stroke:rgb(255,255,255)\"/><rect x=\"275\" y=\"0\" width=\"55\" height=\"55\" style=\"fill:#eebebe;stroke-width:2;stroke:rgb(255,255,255)\"/><rect x=\"330\" y=\"0\" width=\"55\" height=\"55\" style=\"fill:#f4b8e4;stroke-width:2;stroke:rgb(255,255,255)\"/><rect x=\"385\" y=\"0\" width=\"55\" height=\"55\" style=\"fill:#a7aecd;stroke-width:2;stroke:rgb(255,255,255)\"/><rect x=\"440\" y=\"0\" width=\"55\" height=\"55\" style=\"fill:#e4c891;stroke-width:2;stroke:rgb(255,255,255)\"/><rect x=\"495\" y=\"0\" width=\"55\" height=\"55\" style=\"fill:#85c1dc;stroke-width:2;stroke:rgb(255,255,255)\"/></svg>"
      ],
      "text/plain": [
       "[(0.5490196078431373, 0.6666666666666666, 0.9333333333333333),\n",
       " (0.9326874279123414, 0.6240369088811996, 0.4682814302191465),\n",
       " (0.6577162629757786, 0.8149942329873126, 0.5355017301038062),\n",
       " (0.9058823529411765, 0.5098039215686274, 0.5176470588235295),\n",
       " (0.7934948096885812, 0.6183160322952711, 0.8974394463667821),\n",
       " (0.9336101499423298, 0.7448212226066898, 0.7468512110726643),\n",
       " (0.9568627450980393, 0.7215686274509804, 0.8941176470588236),\n",
       " (0.6529642445213382, 0.6809227220299886, 0.8021222606689733),\n",
       " (0.8936101499423298, 0.7839907727797001, 0.5682122260668975),\n",
       " (0.5215686274509804, 0.7568627450980392, 0.8627450980392157)]"
      ]
     },
     "execution_count": 3,
     "metadata": {},
     "output_type": "execute_result"
    }
   ],
   "source": [
    "cpc.color_palette(cat='frappe')"
   ]
  },
  {
   "cell_type": "code",
   "execution_count": 4,
   "id": "4f2d9467-0645-4045-96ab-a0b32f5ab9f2",
   "metadata": {},
   "outputs": [
    {
     "data": {
      "text/html": [
       "<svg  width=\"550\" height=\"55\"><rect x=\"0\" y=\"0\" width=\"55\" height=\"55\" style=\"fill:#8aadf4;stroke-width:2;stroke:rgb(255,255,255)\"/><rect x=\"55\" y=\"0\" width=\"55\" height=\"55\" style=\"fill:#f4a980;stroke-width:2;stroke:rgb(255,255,255)\"/><rect x=\"110\" y=\"0\" width=\"55\" height=\"55\" style=\"fill:#a8d994;stroke-width:2;stroke:rgb(255,255,255)\"/><rect x=\"165\" y=\"0\" width=\"55\" height=\"55\" style=\"fill:#ed8796;stroke-width:2;stroke:rgb(255,255,255)\"/><rect x=\"220\" y=\"0\" width=\"55\" height=\"55\" style=\"fill:#c6a0f5;stroke-width:2;stroke:rgb(255,255,255)\"/><rect x=\"275\" y=\"0\" width=\"55\" height=\"55\" style=\"fill:#f0c6c6;stroke-width:2;stroke:rgb(255,255,255)\"/><rect x=\"330\" y=\"0\" width=\"55\" height=\"55\" style=\"fill:#f5bde6;stroke-width:2;stroke:rgb(255,255,255)\"/><rect x=\"385\" y=\"0\" width=\"55\" height=\"55\" style=\"fill:#a7aeca;stroke-width:2;stroke:rgb(255,255,255)\"/><rect x=\"440\" y=\"0\" width=\"55\" height=\"55\" style=\"fill:#edd4a0;stroke-width:2;stroke:rgb(255,255,255)\"/><rect x=\"495\" y=\"0\" width=\"55\" height=\"55\" style=\"fill:#7dc4e4;stroke-width:2;stroke:rgb(255,255,255)\"/></svg>"
      ],
      "text/plain": [
       "[(0.5411764705882353, 0.6784313725490196, 0.9568627450980393),\n",
       " (0.955847750865052, 0.6629296424452134, 0.503437139561707),\n",
       " (0.6582698961937716, 0.8503806228373703, 0.5822837370242215),\n",
       " (0.9294117647058824, 0.5294117647058824, 0.5882352941176471),\n",
       " (0.7782698961937716, 0.6262975778546713, 0.9602768166089966),\n",
       " (0.9414071510957324, 0.7760553633217994, 0.7779469434832756),\n",
       " (0.9607843137254902, 0.7411764705882353, 0.9019607843137255),\n",
       " (0.6537946943483278, 0.6820299884659747, 0.7920184544405996),\n",
       " (0.9281199538638983, 0.8306343713956171, 0.6267128027681662),\n",
       " (0.49019607843137253, 0.7686274509803922, 0.8941176470588236)]"
      ]
     },
     "execution_count": 4,
     "metadata": {},
     "output_type": "execute_result"
    }
   ],
   "source": [
    "cpc.color_palette(cat='macchiato')"
   ]
  },
  {
   "cell_type": "code",
   "execution_count": 5,
   "id": "0b5307a4-a6be-47da-9eb7-80b06ff5f759",
   "metadata": {},
   "outputs": [
    {
     "data": {
      "text/html": [
       "<svg  width=\"550\" height=\"55\"><rect x=\"0\" y=\"0\" width=\"55\" height=\"55\" style=\"fill:#89b4fa;stroke-width:2;stroke:rgb(255,255,255)\"/><rect x=\"55\" y=\"0\" width=\"55\" height=\"55\" style=\"fill:#f9b388;stroke-width:2;stroke:rgb(255,255,255)\"/><rect x=\"110\" y=\"0\" width=\"55\" height=\"55\" style=\"fill:#a8e2a0;stroke-width:2;stroke:rgb(255,255,255)\"/><rect x=\"165\" y=\"0\" width=\"55\" height=\"55\" style=\"fill:#f38ba8;stroke-width:2;stroke:rgb(255,255,255)\"/><rect x=\"220\" y=\"0\" width=\"55\" height=\"55\" style=\"fill:#cba6f6;stroke-width:2;stroke:rgb(255,255,255)\"/><rect x=\"275\" y=\"0\" width=\"55\" height=\"55\" style=\"fill:#f2cdcd;stroke-width:2;stroke:rgb(255,255,255)\"/><rect x=\"330\" y=\"0\" width=\"55\" height=\"55\" style=\"fill:#f5c2e7;stroke-width:2;stroke:rgb(255,255,255)\"/><rect x=\"385\" y=\"0\" width=\"55\" height=\"55\" style=\"fill:#a8aec7;stroke-width:2;stroke:rgb(255,255,255)\"/><rect x=\"440\" y=\"0\" width=\"55\" height=\"55\" style=\"fill:#f7e2b0;stroke-width:2;stroke:rgb(255,255,255)\"/><rect x=\"495\" y=\"0\" width=\"55\" height=\"55\" style=\"fill:#74c7ec;stroke-width:2;stroke:rgb(255,255,255)\"/></svg>"
      ],
      "text/plain": [
       "[(0.5372549019607843, 0.7058823529411765, 0.9803921568627451),\n",
       " (0.9751787773933103, 0.7020069204152248, 0.534717416378316),\n",
       " (0.6587312572087658, 0.8857670126874279, 0.6289734717416378),\n",
       " (0.9529411764705882, 0.5450980392156862, 0.6588235294117647),\n",
       " (0.7979238754325259, 0.6497347174163783, 0.9649826989619378),\n",
       " (0.9491580161476355, 0.8034140715109573, 0.8051211072664359),\n",
       " (0.9607843137254902, 0.7607843137254902, 0.9058823529411765),\n",
       " (0.6586389850057672, 0.6833217993079587, 0.7820069204152248),\n",
       " (0.9703344867358706, 0.8850288350634371, 0.6890888119953865),\n",
       " (0.4549019607843137, 0.7803921568627451, 0.9254901960784314)]"
      ]
     },
     "execution_count": 5,
     "metadata": {},
     "output_type": "execute_result"
    }
   ],
   "source": [
    "cpc.color_palette(cat='mocha', n=10)  # default"
   ]
  },
  {
   "cell_type": "markdown",
   "id": "6a8e684d-ac8a-430d-96f0-ecda1aedb3ad",
   "metadata": {},
   "source": [
    "for not 10 colors (not default): result not good"
   ]
  },
  {
   "cell_type": "code",
   "execution_count": 6,
   "id": "afcd9292-5b0c-4f90-8965-445bd337a7b4",
   "metadata": {},
   "outputs": [
    {
     "data": {
      "text/html": [
       "<svg  width=\"660\" height=\"55\"><rect x=\"0\" y=\"0\" width=\"55\" height=\"55\" style=\"fill:#89b4fa;stroke-width:2;stroke:rgb(255,255,255)\"/><rect x=\"55\" y=\"0\" width=\"55\" height=\"55\" style=\"fill:#e4b39d;stroke-width:2;stroke:rgb(255,255,255)\"/><rect x=\"110\" y=\"0\" width=\"55\" height=\"55\" style=\"fill:#c6d097;stroke-width:2;stroke:rgb(255,255,255)\"/><rect x=\"165\" y=\"0\" width=\"55\" height=\"55\" style=\"fill:#c7bda4;stroke-width:2;stroke:rgb(255,255,255)\"/><rect x=\"220\" y=\"0\" width=\"55\" height=\"55\" style=\"fill:#e793bf;stroke-width:2;stroke:rgb(255,255,255)\"/><rect x=\"275\" y=\"0\" width=\"55\" height=\"55\" style=\"fill:#cfaaf3;stroke-width:2;stroke:rgb(255,255,255)\"/><rect x=\"330\" y=\"0\" width=\"55\" height=\"55\" style=\"fill:#eec9d1;stroke-width:2;stroke:rgb(255,255,255)\"/><rect x=\"385\" y=\"0\" width=\"55\" height=\"55\" style=\"fill:#f4c5df;stroke-width:2;stroke:rgb(255,255,255)\"/><rect x=\"440\" y=\"0\" width=\"55\" height=\"55\" style=\"fill:#c8b6d5;stroke-width:2;stroke:rgb(255,255,255)\"/><rect x=\"495\" y=\"0\" width=\"55\" height=\"55\" style=\"fill:#c6c1bf;stroke-width:2;stroke:rgb(255,255,255)\"/><rect x=\"550\" y=\"0\" width=\"55\" height=\"55\" style=\"fill:#dfddbb;stroke-width:2;stroke:rgb(255,255,255)\"/><rect x=\"605\" y=\"0\" width=\"55\" height=\"55\" style=\"fill:#74c7ec;stroke-width:2;stroke:rgb(255,255,255)\"/></svg>"
      ],
      "text/plain": [
       "[(0.5372549019607843, 0.7058823529411765, 0.9803921568627451),\n",
       " (0.8941567270506818, 0.7027239297102924, 0.6171734853110795),\n",
       " (0.7769077051812651, 0.8175015039464458, 0.5933216636135423),\n",
       " (0.7822473709206865, 0.7418440871158151, 0.6421374584435849),\n",
       " (0.9074954881606622, 0.5760575344324581, 0.7487308501255173),\n",
       " (0.8109597666056041, 0.6658617273899179, 0.9526013976524866),\n",
       " (0.934138272610082, 0.7890402333943958, 0.8199476219553566),\n",
       " (0.9571938394735057, 0.7731591017029649, 0.8764149535246624),\n",
       " (0.7855463735667276, 0.7152767487617885, 0.8351182576836963),\n",
       " (0.77516140850804, 0.7583984440373612, 0.747152271750684),\n",
       " (0.8749722504918925, 0.8656695840966144, 0.7328263789945043),\n",
       " (0.4549019607843137, 0.7803921568627451, 0.9254901960784314)]"
      ]
     },
     "execution_count": 6,
     "metadata": {},
     "output_type": "execute_result"
    }
   ],
   "source": [
    "cpc.color_palette(cat='mocha', n=12)  # "
   ]
  },
  {
   "cell_type": "code",
   "execution_count": null,
   "id": "e1776718-4886-4a89-9d95-c2e74cc147ab",
   "metadata": {},
   "outputs": [],
   "source": []
  },
  {
   "cell_type": "code",
   "execution_count": null,
   "id": "70206221-510f-4614-bddb-d25ea500deaa",
   "metadata": {},
   "outputs": [],
   "source": []
  },
  {
   "cell_type": "markdown",
   "id": "e37847a9-f014-46f5-8b6a-7f39bb70eb50",
   "metadata": {},
   "source": [
    "for gray scale, n=5"
   ]
  },
  {
   "cell_type": "code",
   "execution_count": 7,
   "id": "d4a96c32-cdc8-4649-9d9f-684f71d434d7",
   "metadata": {},
   "outputs": [
    {
     "data": {
      "text/html": [
       "<svg  width=\"275\" height=\"55\"><rect x=\"0\" y=\"0\" width=\"55\" height=\"55\" style=\"fill:#4c4f69;stroke-width:2;stroke:rgb(255,255,255)\"/><rect x=\"55\" y=\"0\" width=\"55\" height=\"55\" style=\"fill:#75788c;stroke-width:2;stroke:rgb(255,255,255)\"/><rect x=\"110\" y=\"0\" width=\"55\" height=\"55\" style=\"fill:#9ea1b0;stroke-width:2;stroke:rgb(255,255,255)\"/><rect x=\"165\" y=\"0\" width=\"55\" height=\"55\" style=\"fill:#c7c9d3;stroke-width:2;stroke:rgb(255,255,255)\"/><rect x=\"220\" y=\"0\" width=\"55\" height=\"55\" style=\"fill:#eff1f5;stroke-width:2;stroke:rgb(255,255,255)\"/></svg>"
      ],
      "text/plain": [
       "[(0.2980392156862745, 0.30980392156862746, 0.4117647058823529),\n",
       " (0.45909895892228475, 0.46987556822036775, 0.5500982276801532),\n",
       " (0.620158702158295, 0.629947214872108, 0.6884317494779534),\n",
       " (0.7811889544745233, 0.7899895515299544, 0.8267399416514011),\n",
       " (0.9372549019607843, 0.9450980392156862, 0.9607843137254902)]"
      ]
     },
     "execution_count": 7,
     "metadata": {},
     "output_type": "execute_result"
    }
   ],
   "source": [
    "cpc.gray_palette(cat='latte', n=5)"
   ]
  },
  {
   "cell_type": "code",
   "execution_count": 8,
   "id": "14f4f1e0-0ce5-4571-aefe-bee7b4201e81",
   "metadata": {},
   "outputs": [
    {
     "data": {
      "text/html": [
       "<svg  width=\"275\" height=\"55\"><rect x=\"0\" y=\"0\" width=\"55\" height=\"55\" style=\"fill:#c6d0f5;stroke-width:2;stroke:rgb(255,255,255)\"/><rect x=\"55\" y=\"0\" width=\"55\" height=\"55\" style=\"fill:#a0a9c9;stroke-width:2;stroke:rgb(255,255,255)\"/><rect x=\"110\" y=\"0\" width=\"55\" height=\"55\" style=\"fill:#7a819d;stroke-width:2;stroke:rgb(255,255,255)\"/><rect x=\"165\" y=\"0\" width=\"55\" height=\"55\" style=\"fill:#555a71;stroke-width:2;stroke:rgb(255,255,255)\"/><rect x=\"220\" y=\"0\" width=\"55\" height=\"55\" style=\"fill:#303446;stroke-width:2;stroke:rgb(255,255,255)\"/></svg>"
      ],
      "text/plain": [
       "[(0.7764705882352941, 0.8156862745098039, 0.9607843137254902),\n",
       " (0.6282561005947939, 0.6615432073636837, 0.7878674114782399),\n",
       " (0.4800416129542936, 0.5074001402175634, 0.6149505092309896),\n",
       " (0.3318542641970283, 0.3532852975100074, 0.44206526901418014),\n",
       " (0.18823529411764706, 0.20392156862745098, 0.27450980392156865)]"
      ]
     },
     "execution_count": 8,
     "metadata": {},
     "output_type": "execute_result"
    }
   ],
   "source": [
    "cpc.gray_palette(cat='frappe', n=5)"
   ]
  },
  {
   "cell_type": "code",
   "execution_count": 9,
   "id": "712143ba-c112-446c-99ad-7da3b061cbe1",
   "metadata": {},
   "outputs": [
    {
     "data": {
      "text/html": [
       "<svg  width=\"275\" height=\"55\"><rect x=\"0\" y=\"0\" width=\"55\" height=\"55\" style=\"fill:#cad3f5;stroke-width:2;stroke:rgb(255,255,255)\"/><rect x=\"55\" y=\"0\" width=\"55\" height=\"55\" style=\"fill:#a0a8c6;stroke-width:2;stroke:rgb(255,255,255)\"/><rect x=\"110\" y=\"0\" width=\"55\" height=\"55\" style=\"fill:#767c97;stroke-width:2;stroke:rgb(255,255,255)\"/><rect x=\"165\" y=\"0\" width=\"55\" height=\"55\" style=\"fill:#4d5168;stroke-width:2;stroke:rgb(255,255,255)\"/><rect x=\"220\" y=\"0\" width=\"55\" height=\"55\" style=\"fill:#24273a;stroke-width:2;stroke:rgb(255,255,255)\"/></svg>"
      ],
      "text/plain": [
       "[(0.792156862745098, 0.8274509803921568, 0.9607843137254902),\n",
       " (0.6281328297562777, 0.6574983678977165, 0.776010252467),\n",
       " (0.4641087967674575, 0.4875457554032762, 0.5912361912085095),\n",
       " (0.30011479747608394, 0.31762426216161205, 0.40649596309111874),\n",
       " (0.1411764705882353, 0.15294117647058825, 0.22745098039215686)]"
      ]
     },
     "execution_count": 9,
     "metadata": {},
     "output_type": "execute_result"
    }
   ],
   "source": [
    "cpc.gray_palette(cat='macchiato', n=5)"
   ]
  },
  {
   "cell_type": "code",
   "execution_count": 10,
   "id": "8c21ce28-bc43-4b9c-aa25-408882e98267",
   "metadata": {},
   "outputs": [
    {
     "data": {
      "text/html": [
       "<svg  width=\"275\" height=\"55\"><rect x=\"0\" y=\"0\" width=\"55\" height=\"55\" style=\"fill:#cdd6f4;stroke-width:2;stroke:rgb(255,255,255)\"/><rect x=\"55\" y=\"0\" width=\"55\" height=\"55\" style=\"fill:#a1a8c2;stroke-width:2;stroke:rgb(255,255,255)\"/><rect x=\"110\" y=\"0\" width=\"55\" height=\"55\" style=\"fill:#757990;stroke-width:2;stroke:rgb(255,255,255)\"/><rect x=\"165\" y=\"0\" width=\"55\" height=\"55\" style=\"fill:#494b5e;stroke-width:2;stroke:rgb(255,255,255)\"/><rect x=\"220\" y=\"0\" width=\"55\" height=\"55\" style=\"fill:#1e1e2e;stroke-width:2;stroke:rgb(255,255,255)\"/></svg>"
      ],
      "text/plain": [
       "[(0.803921568627451, 0.8392156862745098, 0.9568627450980393),\n",
       " (0.6310046663802008, 0.6574059147688295, 0.7612196214125789),\n",
       " (0.4580877641329504, 0.47559614326314914, 0.5655764977271186),\n",
       " (0.2852025239161409, 0.29381966212090377, 0.3699691973675283),\n",
       " (0.11764705882352941, 0.11764705882352941, 0.1803921568627451)]"
      ]
     },
     "execution_count": 10,
     "metadata": {},
     "output_type": "execute_result"
    }
   ],
   "source": [
    "cpc.gray_palette(cat='mocha', n=5)"
   ]
  },
  {
   "cell_type": "code",
   "execution_count": 11,
   "id": "368ef249-9948-473d-9056-192761fd242a",
   "metadata": {},
   "outputs": [
    {
     "data": {
      "text/html": [
       "<svg  width=\"110\" height=\"55\"><rect x=\"0\" y=\"0\" width=\"55\" height=\"55\" style=\"fill:#cdd6f4;stroke-width:2;stroke:rgb(255,255,255)\"/><rect x=\"55\" y=\"0\" width=\"55\" height=\"55\" style=\"fill:#1e1e2e;stroke-width:2;stroke:rgb(255,255,255)\"/></svg>"
      ],
      "text/plain": [
       "[(0.803921568627451, 0.8392156862745098, 0.9568627450980393),\n",
       " (0.11764705882352941, 0.11764705882352941, 0.1803921568627451)]"
      ]
     },
     "execution_count": 11,
     "metadata": {},
     "output_type": "execute_result"
    }
   ],
   "source": [
    "cpc.gray_palette(cat='mocha', n=2)  # default"
   ]
  },
  {
   "cell_type": "code",
   "execution_count": null,
   "id": "1cc43eeb-7921-4351-9a87-6db960a56f0a",
   "metadata": {},
   "outputs": [],
   "source": []
  },
  {
   "cell_type": "code",
   "execution_count": null,
   "id": "0363900f-120a-4786-94d7-632b72f504af",
   "metadata": {},
   "outputs": [],
   "source": []
  },
  {
   "cell_type": "code",
   "execution_count": null,
   "id": "3364047d-f83d-4076-bc1f-20b0e28bcd18",
   "metadata": {},
   "outputs": [],
   "source": []
  },
  {
   "cell_type": "markdown",
   "id": "c63c9b54-1f01-4e4a-a148-51f89cfcaaeb",
   "metadata": {},
   "source": []
  },
  {
   "cell_type": "code",
   "execution_count": 13,
   "id": "bd17e643-75f5-425b-8c5f-b8c315a41120",
   "metadata": {},
   "outputs": [
    {
     "data": {
      "text/html": [
       "<svg  width=\"385\" height=\"55\"><rect x=\"0\" y=\"0\" width=\"55\" height=\"55\" style=\"fill:#1e66f5;stroke-width:2;stroke:rgb(255,255,255)\"/><rect x=\"55\" y=\"0\" width=\"55\" height=\"55\" style=\"fill:#6293f5;stroke-width:2;stroke:rgb(255,255,255)\"/><rect x=\"110\" y=\"0\" width=\"55\" height=\"55\" style=\"fill:#a9c3f5;stroke-width:2;stroke:rgb(255,255,255)\"/><rect x=\"165\" y=\"0\" width=\"55\" height=\"55\" style=\"fill:#efeff4;stroke-width:2;stroke:rgb(255,255,255)\"/><rect x=\"220\" y=\"0\" width=\"55\" height=\"55\" style=\"fill:#e5a6b6;stroke-width:2;stroke:rgb(255,255,255)\"/><rect x=\"275\" y=\"0\" width=\"55\" height=\"55\" style=\"fill:#db5976;stroke-width:2;stroke:rgb(255,255,255)\"/><rect x=\"330\" y=\"0\" width=\"55\" height=\"55\" style=\"fill:#d20f39;stroke-width:2;stroke:rgb(255,255,255)\"/></svg>"
      ],
      "text/plain": [
       "[(0.11764705882352941, 0.4, 0.9607843137254902),\n",
       " (0.38445918990433536, 0.5774492163647467, 0.9607843137254902),\n",
       " (0.6640522875816993, 0.7633986928104575, 0.9607843137254902),\n",
       " (0.9363681841825542, 0.9381877558405138, 0.9550359364045503),\n",
       " (0.8993464052287582, 0.6496732026143791, 0.7150326797385621),\n",
       " (0.860551190718502, 0.3473380826378992, 0.4635326684306939),\n",
       " (0.8235294117647058, 0.058823529411764705, 0.2235294117647059)]"
      ]
     },
     "execution_count": 13,
     "metadata": {},
     "output_type": "execute_result"
    }
   ],
   "source": [
    "cpc.diverging_palette(cat='latte', n=7)"
   ]
  },
  {
   "cell_type": "code",
   "execution_count": 16,
   "id": "80bbb5a1-9cda-445a-a5b6-4bdcc95b1ab4",
   "metadata": {},
   "outputs": [
    {
     "data": {
      "text/html": [
       "<svg  width=\"385\" height=\"55\"><rect x=\"0\" y=\"0\" width=\"55\" height=\"55\" style=\"fill:#1e66f5;stroke-width:2;stroke:rgb(255,255,255)\"/><rect x=\"55\" y=\"0\" width=\"55\" height=\"55\" style=\"fill:#6293f5;stroke-width:2;stroke:rgb(255,255,255)\"/><rect x=\"110\" y=\"0\" width=\"55\" height=\"55\" style=\"fill:#a9c3f5;stroke-width:2;stroke:rgb(255,255,255)\"/><rect x=\"165\" y=\"0\" width=\"55\" height=\"55\" style=\"fill:#efeff4;stroke-width:2;stroke:rgb(255,255,255)\"/><rect x=\"220\" y=\"0\" width=\"55\" height=\"55\" style=\"fill:#e5a6b6;stroke-width:2;stroke:rgb(255,255,255)\"/><rect x=\"275\" y=\"0\" width=\"55\" height=\"55\" style=\"fill:#db5976;stroke-width:2;stroke:rgb(255,255,255)\"/><rect x=\"330\" y=\"0\" width=\"55\" height=\"55\" style=\"fill:#d20f39;stroke-width:2;stroke:rgb(255,255,255)\"/></svg>"
      ],
      "text/plain": [
       "[(0.11764705882352941, 0.4, 0.9607843137254902),\n",
       " (0.38445918990433536, 0.5774492163647467, 0.9607843137254902),\n",
       " (0.6640522875816993, 0.7633986928104575, 0.9607843137254902),\n",
       " (0.9363681841825542, 0.9381877558405138, 0.9550359364045503),\n",
       " (0.8993464052287582, 0.6496732026143791, 0.7150326797385621),\n",
       " (0.860551190718502, 0.3473380826378992, 0.4635326684306939),\n",
       " (0.8235294117647058, 0.058823529411764705, 0.2235294117647059)]"
      ]
     },
     "execution_count": 16,
     "metadata": {},
     "output_type": "execute_result"
    }
   ],
   "source": [
    "cpc.diverging_palette(cat='latte', n=7, clr_set=21)"
   ]
  },
  {
   "cell_type": "code",
   "execution_count": 17,
   "id": "9db657c0-84d7-4786-847f-88fd2c5fe46a",
   "metadata": {},
   "outputs": [
    {
     "data": {
      "text/html": [
       "<svg  width=\"385\" height=\"55\"><rect x=\"0\" y=\"0\" width=\"55\" height=\"55\" style=\"fill:#209fb5;stroke-width:2;stroke:rgb(255,255,255)\"/><rect x=\"55\" y=\"0\" width=\"55\" height=\"55\" style=\"fill:#63baca;stroke-width:2;stroke:rgb(255,255,255)\"/><rect x=\"110\" y=\"0\" width=\"55\" height=\"55\" style=\"fill:#aad6e0;stroke-width:2;stroke:rgb(255,255,255)\"/><rect x=\"165\" y=\"0\" width=\"55\" height=\"55\" style=\"fill:#eff0f3;stroke-width:2;stroke:rgb(255,255,255)\"/><rect x=\"220\" y=\"0\" width=\"55\" height=\"55\" style=\"fill:#f4c2a7;stroke-width:2;stroke:rgb(255,255,255)\"/><rect x=\"275\" y=\"0\" width=\"55\" height=\"55\" style=\"fill:#f99257;stroke-width:2;stroke:rgb(255,255,255)\"/><rect x=\"330\" y=\"0\" width=\"55\" height=\"55\" style=\"fill:#fe640b;stroke-width:2;stroke:rgb(255,255,255)\"/></svg>"
      ],
      "text/plain": [
       "[(0.12549019607843137, 0.6235294117647059, 0.7098039215686275),\n",
       " (0.38974910102449284, 0.7282116832892327, 0.7915071578804532),\n",
       " (0.6666666666666666, 0.837908496732026, 0.8771241830065359),\n",
       " (0.937713549087455, 0.9407867562249813, 0.9536294185494267),\n",
       " (0.9568627450980393, 0.7607843137254902, 0.6549019607843137),\n",
       " (0.976929235361965, 0.572159305244589, 0.3418647126670736),\n",
       " (0.996078431372549, 0.39215686274509803, 0.043137254901960784)]"
      ]
     },
     "execution_count": 17,
     "metadata": {},
     "output_type": "execute_result"
    }
   ],
   "source": [
    "cpc.diverging_palette(cat='latte', n=7, clr_set=2)"
   ]
  },
  {
   "cell_type": "code",
   "execution_count": 18,
   "id": "9e844b24-fde5-4b39-8218-2989a71e1584",
   "metadata": {},
   "outputs": [
    {
     "data": {
      "text/html": [
       "<svg  width=\"385\" height=\"55\"><rect x=\"0\" y=\"0\" width=\"55\" height=\"55\" style=\"fill:#89b4fa;stroke-width:2;stroke:rgb(255,255,255)\"/><rect x=\"55\" y=\"0\" width=\"55\" height=\"55\" style=\"fill:#9fbff8;stroke-width:2;stroke:rgb(255,255,255)\"/><rect x=\"110\" y=\"0\" width=\"55\" height=\"55\" style=\"fill:#b6cbf6;stroke-width:2;stroke:rgb(255,255,255)\"/><rect x=\"165\" y=\"0\" width=\"55\" height=\"55\" style=\"fill:#cdd5f3;stroke-width:2;stroke:rgb(255,255,255)\"/><rect x=\"220\" y=\"0\" width=\"55\" height=\"55\" style=\"fill:#dabddb;stroke-width:2;stroke:rgb(255,255,255)\"/><rect x=\"275\" y=\"0\" width=\"55\" height=\"55\" style=\"fill:#e7a3c1;stroke-width:2;stroke:rgb(255,255,255)\"/><rect x=\"330\" y=\"0\" width=\"55\" height=\"55\" style=\"fill:#f38ba8;stroke-width:2;stroke:rgb(255,255,255)\"/></svg>"
      ],
      "text/plain": [
       "[(0.5372549019607843, 0.7058823529411765, 0.9803921568627451),\n",
       " (0.6240645905420992, 0.749287197231834, 0.9727324784585115),\n",
       " (0.7150326797385621, 0.7947712418300654, 0.9647058823529412),\n",
       " (0.8050834746816836, 0.8369224506411561, 0.9545389329895743),\n",
       " (0.85359477124183, 0.7411764705882353, 0.8575163398692811),\n",
       " (0.9044298799104417, 0.640844019268607, 0.7558461225320577),\n",
       " (0.9529411764705882, 0.5450980392156862, 0.6588235294117647)]"
      ]
     },
     "execution_count": 18,
     "metadata": {},
     "output_type": "execute_result"
    }
   ],
   "source": [
    "cpc.diverging_palette(cat='mocha', n=7, clr_set=1)"
   ]
  },
  {
   "cell_type": "code",
   "execution_count": 19,
   "id": "addcebbe-a256-4529-bc42-5f204c3e0f8e",
   "metadata": {},
   "outputs": [
    {
     "data": {
      "text/html": [
       "<svg  width=\"385\" height=\"55\"><rect x=\"0\" y=\"0\" width=\"55\" height=\"55\" style=\"fill:#74c7ec;stroke-width:2;stroke:rgb(255,255,255)\"/><rect x=\"55\" y=\"0\" width=\"55\" height=\"55\" style=\"fill:#91ccef;stroke-width:2;stroke:rgb(255,255,255)\"/><rect x=\"110\" y=\"0\" width=\"55\" height=\"55\" style=\"fill:#afd1f1;stroke-width:2;stroke:rgb(255,255,255)\"/><rect x=\"165\" y=\"0\" width=\"55\" height=\"55\" style=\"fill:#cdd6f3;stroke-width:2;stroke:rgb(255,255,255)\"/><rect x=\"220\" y=\"0\" width=\"55\" height=\"55\" style=\"fill:#dccad0;stroke-width:2;stroke:rgb(255,255,255)\"/><rect x=\"275\" y=\"0\" width=\"55\" height=\"55\" style=\"fill:#ebbeaa;stroke-width:2;stroke:rgb(255,255,255)\"/><rect x=\"330\" y=\"0\" width=\"55\" height=\"55\" style=\"fill:#fab387;stroke-width:2;stroke:rgb(255,255,255)\"/></svg>"
      ],
      "text/plain": [
       "[(0.4549019607843137, 0.7803921568627451, 0.9254901960784314),\n",
       " (0.5685205237804464, 0.7995413528733293, 0.9357031006174096),\n",
       " (0.6875816993464052, 0.8196078431372549, 0.94640522875817),\n",
       " (0.8052975100074632, 0.8381455096456115, 0.9535299093108985),\n",
       " (0.8627450980392157, 0.7934640522875817, 0.8143790849673203),\n",
       " (0.9229445688309926, 0.7466422416717551, 0.6685625890494606),\n",
       " (0.9803921568627451, 0.7019607843137254, 0.5294117647058824)]"
      ]
     },
     "execution_count": 19,
     "metadata": {},
     "output_type": "execute_result"
    }
   ],
   "source": [
    "cpc.diverging_palette(cat='mocha', n=7, clr_set=2)"
   ]
  },
  {
   "cell_type": "code",
   "execution_count": 20,
   "id": "17326526-7117-4d52-be22-98035f9fa21a",
   "metadata": {},
   "outputs": [
    {
     "data": {
      "text/html": [
       "<svg  width=\"385\" height=\"55\"><rect x=\"0\" y=\"0\" width=\"55\" height=\"55\" style=\"fill:#fab387;stroke-width:2;stroke:rgb(255,255,255)\"/><rect x=\"55\" y=\"0\" width=\"55\" height=\"55\" style=\"fill:#ae7e64;stroke-width:2;stroke:rgb(255,255,255)\"/><rect x=\"110\" y=\"0\" width=\"55\" height=\"55\" style=\"fill:#5f473f;stroke-width:2;stroke:rgb(255,255,255)\"/><rect x=\"165\" y=\"0\" width=\"55\" height=\"55\" style=\"fill:#12131d;stroke-width:2;stroke:rgb(255,255,255)\"/><rect x=\"220\" y=\"0\" width=\"55\" height=\"55\" style=\"fill:#395560;stroke-width:2;stroke:rgb(255,255,255)\"/><rect x=\"275\" y=\"0\" width=\"55\" height=\"55\" style=\"fill:#629aa7;stroke-width:2;stroke:rgb(255,255,255)\"/><rect x=\"330\" y=\"0\" width=\"55\" height=\"55\" style=\"fill:#89dceb;stroke-width:2;stroke:rgb(255,255,255)\"/></svg>"
      ],
      "text/plain": [
       "[(0.9803921568627451, 0.7019607843137254, 0.5294117647058824),\n",
       " (0.6829413121650043, 0.49514946739941645, 0.3915375534296764),\n",
       " (0.3712418300653595, 0.2784313725490196, 0.24705882352941178),\n",
       " (0.07033584368003257, 0.07287369111427731, 0.11224225976434403),\n",
       " (0.22352941176470587, 0.33202614379084966, 0.37777777777777777),\n",
       " (0.384061333876111, 0.6035926453626435, 0.6560331094375468),\n",
       " (0.5372549019607843, 0.8627450980392157, 0.9215686274509803)]"
      ]
     },
     "execution_count": 20,
     "metadata": {},
     "output_type": "execute_result"
    }
   ],
   "source": [
    "cpc.diverging_palette(cat='mocha', n=7, clr1='peach', clr2='crust', clr3='sky')"
   ]
  },
  {
   "cell_type": "code",
   "execution_count": 21,
   "id": "56914bcd-224f-41cf-9497-1c2082fa7f2b",
   "metadata": {},
   "outputs": [
    {
     "data": {
      "text/html": [
       "<svg  width=\"385\" height=\"55\"><rect x=\"0\" y=\"0\" width=\"55\" height=\"55\" style=\"fill:#fe640b;stroke-width:2;stroke:rgb(255,255,255)\"/><rect x=\"55\" y=\"0\" width=\"55\" height=\"55\" style=\"fill:#f38c53;stroke-width:2;stroke:rgb(255,255,255)\"/><rect x=\"110\" y=\"0\" width=\"55\" height=\"55\" style=\"fill:#e7b79e;stroke-width:2;stroke:rgb(255,255,255)\"/><rect x=\"165\" y=\"0\" width=\"55\" height=\"55\" style=\"fill:#dae0e8;stroke-width:2;stroke:rgb(255,255,255)\"/><rect x=\"220\" y=\"0\" width=\"55\" height=\"55\" style=\"fill:#94cce7;stroke-width:2;stroke:rgb(255,255,255)\"/><rect x=\"275\" y=\"0\" width=\"55\" height=\"55\" style=\"fill:#4ab8e6;stroke-width:2;stroke:rgb(255,255,255)\"/><rect x=\"330\" y=\"0\" width=\"55\" height=\"55\" style=\"fill:#04a5e5;stroke-width:2;stroke:rgb(255,255,255)\"/></svg>"
      ],
      "text/plain": [
       "[(0.996078431372549, 0.39215686274509803, 0.043137254901960784),\n",
       " (0.9526735870818915, 0.5504568830992604, 0.3252687427912342),\n",
       " (0.9071895424836601, 0.7163398692810456, 0.6209150326797385),\n",
       " (0.8561405794151571, 0.876627360517448, 0.9097121921432934),\n",
       " (0.5803921568627451, 0.8013071895424837, 0.9058823529411765),\n",
       " (0.29143469706221575, 0.7223789945043761, 0.9018690548883914),\n",
       " (0.01568627450980392, 0.6470588235294118, 0.8980392156862745)]"
      ]
     },
     "execution_count": 21,
     "metadata": {},
     "output_type": "execute_result"
    }
   ],
   "source": [
    "cpc.diverging_palette(cat='latte', n=7, clr1='peach', clr2='crust', clr3='sky')"
   ]
  },
  {
   "cell_type": "code",
   "execution_count": 23,
   "id": "2b4878a1-534c-4fa7-90c3-e349a3536344",
   "metadata": {},
   "outputs": [
    {
     "data": {
      "text/html": [
       "<svg  width=\"385\" height=\"55\"><rect x=\"0\" y=\"0\" width=\"55\" height=\"55\" style=\"fill:#fab387;stroke-width:2;stroke:rgb(255,255,255)\"/><rect x=\"55\" y=\"0\" width=\"55\" height=\"55\" style=\"fill:#b2826a;stroke-width:2;stroke:rgb(255,255,255)\"/><rect x=\"110\" y=\"0\" width=\"55\" height=\"55\" style=\"fill:#67504c;stroke-width:2;stroke:rgb(255,255,255)\"/><rect x=\"165\" y=\"0\" width=\"55\" height=\"55\" style=\"fill:#1f1f2f;stroke-width:2;stroke:rgb(255,255,255)\"/><rect x=\"220\" y=\"0\" width=\"55\" height=\"55\" style=\"fill:#3b566d;stroke-width:2;stroke:rgb(255,255,255)\"/><rect x=\"275\" y=\"0\" width=\"55\" height=\"55\" style=\"fill:#5890ae;stroke-width:2;stroke:rgb(255,255,255)\"/><rect x=\"330\" y=\"0\" width=\"55\" height=\"55\" style=\"fill:#74c7ec;stroke-width:2;stroke:rgb(255,255,255)\"/></svg>"
      ],
      "text/plain": [
       "[(0.9803921568627451, 0.7019607843137254, 0.5294117647058824),\n",
       " (0.6995372820408441, 0.5117454372752561, 0.41579320170974965),\n",
       " (0.40522875816993464, 0.31241830065359477, 0.2967320261437909),\n",
       " (0.1202766356831083, 0.12281448311735306, 0.18620168713390778),\n",
       " (0.2300653594771242, 0.338562091503268, 0.42875816993464055),\n",
       " (0.34511323699029794, 0.5646445484768303, 0.6829337132776988),\n",
       " (0.4549019607843137, 0.7803921568627451, 0.9254901960784314)]"
      ]
     },
     "execution_count": 23,
     "metadata": {},
     "output_type": "execute_result"
    }
   ],
   "source": [
    "cpc.diverging_palette(cat='mocha', n=7, clr1='peach', clr2='base', clr3='sapphire')"
   ]
  },
  {
   "cell_type": "code",
   "execution_count": null,
   "id": "54a5555e-9477-4317-9c99-9930c4f543cf",
   "metadata": {},
   "outputs": [],
   "source": []
  },
  {
   "cell_type": "code",
   "execution_count": null,
   "id": "c9cbcf8a-5b51-4edc-8569-2a02009ad6ac",
   "metadata": {},
   "outputs": [],
   "source": []
  },
  {
   "cell_type": "code",
   "execution_count": null,
   "id": "cee109bc-c711-443a-a7fd-5f053140ec23",
   "metadata": {},
   "outputs": [],
   "source": []
  },
  {
   "cell_type": "code",
   "execution_count": null,
   "id": "9fc7bbae-e890-46c7-8e13-a0ea5a80e4ea",
   "metadata": {},
   "outputs": [],
   "source": []
  },
  {
   "cell_type": "code",
   "execution_count": null,
   "id": "c260efca-8c74-4775-9284-bbd8ab504502",
   "metadata": {},
   "outputs": [],
   "source": []
  },
  {
   "cell_type": "markdown",
   "id": "4c7aa85f-749b-4a76-90e4-2a070b6850a4",
   "metadata": {},
   "source": [
    "testing and writing diverging area"
   ]
  },
  {
   "cell_type": "code",
   "execution_count": 7,
   "id": "331c020c-96f1-44bf-8e4b-163f3b4006b5",
   "metadata": {},
   "outputs": [],
   "source": [
    "import seaborn as sns\n",
    "import mplcatppuccin\n",
    "from mplcatppuccin.palette import load_color\n",
    "from mplcatppuccin.colormaps import get_colormap_from_list"
   ]
  },
  {
   "cell_type": "code",
   "execution_count": 4,
   "id": "6230d90d-19a5-4132-8744-d7b377594443",
   "metadata": {},
   "outputs": [
    {
     "data": {
      "image/png": "[encoded data removed]",
      "text/html": [
       "<div style=\"vertical-align: middle;\"><strong>latte</strong> </div><div class=\"cmap\"><img alt=\"latte colormap\" title=\"latte\" style=\"border: 1px solid #555;\" src=\"data:image/png;base64,iVBORw0KGgoAAAANSUhEUgAAAgAAAABACAYAAABsv8+/AAAAFHRFWHRUaXRsZQBsYXR0ZSBjb2xvcm1hcBll4+wAAAAadEVYdERlc2NyaXB0aW9uAGxhdHRlIGNvbG9ybWFw5zpKCgAAADB0RVh0QXV0aG9yAE1hdHBsb3RsaWIgdjMuNi4yLCBodHRwczovL21hdHBsb3RsaWIub3Jncc5VXwAAADJ0RVh0U29mdHdhcmUATWF0cGxvdGxpYiB2My42LjIsIGh0dHBzOi8vbWF0cGxvdGxpYi5vcmdfaMp4AAABh0lEQVR4nO3WQU4CQRBA0RoO4vG8/8Yt7cJxIQmGkHGi/vc2naFJdWgC+dvL69uamdm2mZmZy77ePj/9+uVvz733fnOfPO+Xzr173j+fO7M+lut1X78+r/X9/ufzWrf7R805dv+4OY99rsf3f/ac4+73nHOOur+zvsejfgen3e9+zv53AQCUCAAACBIAABAkAAAgSAAAQJAAAIAgAQAAQQIAAIIEAAAECQAACBIAABAkAAAgSAAAQJAAAIAgAQAAQQIAAIIEAAAECQAACBIAABAkAAAgSAAAQJAAAIAgAQAAQQIAAIIEAAAECQAACBIAABAkAAAgSAAAQJAAAIAgAQAAQQIAAIIEAAAECQAACBIAABAkAAAgSAAAQJAAAIAgAQAAQQIAAIIEAAAECQAACBIAABAkAAAgSAAAQJAAAIAgAQAAQQIAAIIEAAAECQAACBIAABAkAAAgSAAAQJAAAIAgAQAAQQIAAIIEAAAECQAACBIAABAkAAAgSAAAQJAAAIAgAQAAQe+UWB2oOzcQAgAAAABJRU5ErkJggg==\"></div><div style=\"vertical-align: middle; max-width: 514px; display: flex; justify-content: space-between;\"><div style=\"float: left;\"><div title=\"#1e66f5ff\" style=\"display: inline-block; width: 1em; height: 1em; margin: 0; vertical-align: middle; border: 1px solid #555; background-color: #1e66f5ff;\"></div> under</div><div style=\"margin: 0 auto; display: inline-block;\">bad <div title=\"#00000000\" style=\"display: inline-block; width: 1em; height: 1em; margin: 0; vertical-align: middle; border: 1px solid #555; background-color: #00000000;\"></div></div><div style=\"float: right;\">over <div title=\"#d20f39ff\" style=\"display: inline-block; width: 1em; height: 1em; margin: 0; vertical-align: middle; border: 1px solid #555; background-color: #d20f39ff;\"></div></div>"
      ],
      "text/plain": [
       "<matplotlib.colors.LinearSegmentedColormap at 0x7f3cacfd6040>"
      ]
     },
     "execution_count": 4,
     "metadata": {},
     "output_type": "execute_result"
    }
   ],
   "source": [
    "cmap = get_colormap_from_list('latte', ['blue', 'base', 'red'])\n",
    "cmap"
   ]
  },
  {
   "cell_type": "code",
   "execution_count": 75,
   "id": "ef884dbc-345f-4bf1-bba6-d28c044b9ece",
   "metadata": {},
   "outputs": [],
   "source": [
    "\n",
    "def catppuccin_diverging(cat, clr_set=None, clr1=None, clr2=None, clr3=None):\n",
    "    if not(clr_set is None) or (clr1 is None) or (clr2 is None) or (clr3 is None):\n",
    "        if clr_set==1:\n",
    "            clr1 = 'blue'\n",
    "            clr3 = 'red'\n",
    "            if cat=='latte':\n",
    "                clr2 = 'base'\n",
    "            else:\n",
    "                clr2 = 'text'\n",
    "        elif clr_set==2:\n",
    "            clr1 = 'sapphire'\n",
    "            clr3 = 'peach'\n",
    "            if cat=='latte':\n",
    "                clr2 = 'base'\n",
    "            else:\n",
    "                clr2 = 'text'\n",
    "        else:\n",
    "            clr1 = 'blue'\n",
    "            clr3 = 'red'\n",
    "            if cat=='latte':\n",
    "                clr2 = 'base'\n",
    "            else:\n",
    "                clr2 = 'text'\n",
    "        return [clr1, clr2, clr3]\n",
    "    else:\n",
    "        return [clr1, clr2, clr3]\n",
    "\n",
    "\n",
    "def catppuccin_cmap_diverging(cat=\"mocha\", clr_set=None, clr1=None, clr2=None, clr3=None):\n",
    "    if not(clr_set is None):\n",
    "        cmap = get_colormap_from_list(cat, catppuccin_diverging(cat, clr_set=clr_set))\n",
    "    elif (clr1 is not None) and (clr2 is not None) and (clr3 is not None):\n",
    "        cmap = get_colormap_from_list(cat, catppuccin_diverging(cat, clr_set=None, clr1=clr1, clr2=clr2, clr3=clr3))\n",
    "    else:\n",
    "        clr_set = 1\n",
    "        cmap = get_colormap_from_list(cat, catppuccin_diverging(cat, clr_set=clr_set))\n",
    "    return cmap\n",
    "\n",
    "\n",
    "def diverging_palette(cat=\"mocha\", n=None, clr_set=None, clr1=None, clr2=None, clr3=None):\n",
    "    if n is None or n==3:\n",
    "        cat_colors = catppuccin_diverging(cat, clr_set=clr_set, clr1=clr1, clr2=clr2, clr3=clr3)\n",
    "        clrs = [load_color(cat, cl) for cl in cat_colors]\n",
    "        colors = sns.blend_palette(clrs, n_colors=len(cat_colors))\n",
    "    else:\n",
    "        cmap = catppuccin_cmap_diverging(cat=cat, clr_set=clr_set, clr1=clr1, clr2=clr2, clr3=clr3)\n",
    "        colors = []\n",
    "        for i in range(n):\n",
    "            j = i/(n-1)\n",
    "            rgba = cmap(j)\n",
    "            colors.append(rgba)\n",
    "        colors = sns.blend_palette(colors, n_colors=n)\n",
    "    return colors\n"
   ]
  },
  {
   "cell_type": "raw",
   "id": "2b760544-e7f6-48a1-8d9b-940053ebff87",
   "metadata": {},
   "source": [
    "diverging_palette(cat='mocha', n=7, clr1='blue', clr2='base', clr3='peach')"
   ]
  },
  {
   "cell_type": "code",
   "execution_count": 76,
   "id": "5d2e1075-2342-4b25-b542-0ac83130d880",
   "metadata": {},
   "outputs": [
    {
     "data": {
      "text/html": [
       "<svg  width=\"385\" height=\"55\"><rect x=\"0\" y=\"0\" width=\"55\" height=\"55\" style=\"fill:#1e66f5;stroke-width:2;stroke:rgb(255,255,255)\"/><rect x=\"55\" y=\"0\" width=\"55\" height=\"55\" style=\"fill:#6293f5;stroke-width:2;stroke:rgb(255,255,255)\"/><rect x=\"110\" y=\"0\" width=\"55\" height=\"55\" style=\"fill:#a9c3f5;stroke-width:2;stroke:rgb(255,255,255)\"/><rect x=\"165\" y=\"0\" width=\"55\" height=\"55\" style=\"fill:#efeff4;stroke-width:2;stroke:rgb(255,255,255)\"/><rect x=\"220\" y=\"0\" width=\"55\" height=\"55\" style=\"fill:#e5a6b6;stroke-width:2;stroke:rgb(255,255,255)\"/><rect x=\"275\" y=\"0\" width=\"55\" height=\"55\" style=\"fill:#db5976;stroke-width:2;stroke:rgb(255,255,255)\"/><rect x=\"330\" y=\"0\" width=\"55\" height=\"55\" style=\"fill:#d20f39;stroke-width:2;stroke:rgb(255,255,255)\"/></svg>"
      ],
      "text/plain": [
       "[(0.11764705882352941, 0.4, 0.9607843137254902),\n",
       " (0.38445918990433536, 0.5774492163647467, 0.9607843137254902),\n",
       " (0.6640522875816993, 0.7633986928104575, 0.9607843137254902),\n",
       " (0.9363681841825542, 0.9381877558405138, 0.9550359364045503),\n",
       " (0.8993464052287582, 0.6496732026143791, 0.7150326797385621),\n",
       " (0.860551190718502, 0.3473380826378992, 0.4635326684306939),\n",
       " (0.8235294117647058, 0.058823529411764705, 0.2235294117647059)]"
      ]
     },
     "execution_count": 76,
     "metadata": {},
     "output_type": "execute_result"
    }
   ],
   "source": [
    "diverging_palette(cat='latte', n=7)"
   ]
  },
  {
   "cell_type": "code",
   "execution_count": 77,
   "id": "0eb5201b-70b8-40e4-a63b-29b4e74a36e2",
   "metadata": {},
   "outputs": [
    {
     "data": {
      "text/html": [
       "<svg  width=\"385\" height=\"55\"><rect x=\"0\" y=\"0\" width=\"55\" height=\"55\" style=\"fill:#209fb5;stroke-width:2;stroke:rgb(255,255,255)\"/><rect x=\"55\" y=\"0\" width=\"55\" height=\"55\" style=\"fill:#63baca;stroke-width:2;stroke:rgb(255,255,255)\"/><rect x=\"110\" y=\"0\" width=\"55\" height=\"55\" style=\"fill:#aad6e0;stroke-width:2;stroke:rgb(255,255,255)\"/><rect x=\"165\" y=\"0\" width=\"55\" height=\"55\" style=\"fill:#eff0f3;stroke-width:2;stroke:rgb(255,255,255)\"/><rect x=\"220\" y=\"0\" width=\"55\" height=\"55\" style=\"fill:#f4c2a7;stroke-width:2;stroke:rgb(255,255,255)\"/><rect x=\"275\" y=\"0\" width=\"55\" height=\"55\" style=\"fill:#f99257;stroke-width:2;stroke:rgb(255,255,255)\"/><rect x=\"330\" y=\"0\" width=\"55\" height=\"55\" style=\"fill:#fe640b;stroke-width:2;stroke:rgb(255,255,255)\"/></svg>"
      ],
      "text/plain": [
       "[(0.12549019607843137, 0.6235294117647059, 0.7098039215686275),\n",
       " (0.38974910102449284, 0.7282116832892327, 0.7915071578804532),\n",
       " (0.6666666666666666, 0.837908496732026, 0.8771241830065359),\n",
       " (0.937713549087455, 0.9407867562249813, 0.9536294185494267),\n",
       " (0.9568627450980393, 0.7607843137254902, 0.6549019607843137),\n",
       " (0.976929235361965, 0.572159305244589, 0.3418647126670736),\n",
       " (0.996078431372549, 0.39215686274509803, 0.043137254901960784)]"
      ]
     },
     "execution_count": 77,
     "metadata": {},
     "output_type": "execute_result"
    }
   ],
   "source": [
    "diverging_palette(cat='latte', n=7, clr_set=2)"
   ]
  },
  {
   "cell_type": "code",
   "execution_count": 78,
   "id": "18e3fde7-a5b6-4f01-b460-5738fc06aec9",
   "metadata": {},
   "outputs": [
    {
     "data": {
      "text/html": [
       "<svg  width=\"385\" height=\"55\"><rect x=\"0\" y=\"0\" width=\"55\" height=\"55\" style=\"fill:#89b4fa;stroke-width:2;stroke:rgb(255,255,255)\"/><rect x=\"55\" y=\"0\" width=\"55\" height=\"55\" style=\"fill:#9fbff8;stroke-width:2;stroke:rgb(255,255,255)\"/><rect x=\"110\" y=\"0\" width=\"55\" height=\"55\" style=\"fill:#b6cbf6;stroke-width:2;stroke:rgb(255,255,255)\"/><rect x=\"165\" y=\"0\" width=\"55\" height=\"55\" style=\"fill:#cdd5f3;stroke-width:2;stroke:rgb(255,255,255)\"/><rect x=\"220\" y=\"0\" width=\"55\" height=\"55\" style=\"fill:#dabddb;stroke-width:2;stroke:rgb(255,255,255)\"/><rect x=\"275\" y=\"0\" width=\"55\" height=\"55\" style=\"fill:#e7a3c1;stroke-width:2;stroke:rgb(255,255,255)\"/><rect x=\"330\" y=\"0\" width=\"55\" height=\"55\" style=\"fill:#f38ba8;stroke-width:2;stroke:rgb(255,255,255)\"/></svg>"
      ],
      "text/plain": [
       "[(0.5372549019607843, 0.7058823529411765, 0.9803921568627451),\n",
       " (0.6240645905420992, 0.749287197231834, 0.9727324784585115),\n",
       " (0.7150326797385621, 0.7947712418300654, 0.9647058823529412),\n",
       " (0.8050834746816836, 0.8369224506411561, 0.9545389329895743),\n",
       " (0.85359477124183, 0.7411764705882353, 0.8575163398692811),\n",
       " (0.9044298799104417, 0.640844019268607, 0.7558461225320577),\n",
       " (0.9529411764705882, 0.5450980392156862, 0.6588235294117647)]"
      ]
     },
     "execution_count": 78,
     "metadata": {},
     "output_type": "execute_result"
    }
   ],
   "source": [
    "diverging_palette(cat='mocha', n=7, clr_set=1)"
   ]
  },
  {
   "cell_type": "code",
   "execution_count": 79,
   "id": "b6ab9d05-d39f-4a8c-83ab-c497e1b182db",
   "metadata": {},
   "outputs": [
    {
     "data": {
      "text/html": [
       "<svg  width=\"385\" height=\"55\"><rect x=\"0\" y=\"0\" width=\"55\" height=\"55\" style=\"fill:#74c7ec;stroke-width:2;stroke:rgb(255,255,255)\"/><rect x=\"55\" y=\"0\" width=\"55\" height=\"55\" style=\"fill:#91ccef;stroke-width:2;stroke:rgb(255,255,255)\"/><rect x=\"110\" y=\"0\" width=\"55\" height=\"55\" style=\"fill:#afd1f1;stroke-width:2;stroke:rgb(255,255,255)\"/><rect x=\"165\" y=\"0\" width=\"55\" height=\"55\" style=\"fill:#cdd6f3;stroke-width:2;stroke:rgb(255,255,255)\"/><rect x=\"220\" y=\"0\" width=\"55\" height=\"55\" style=\"fill:#dccad0;stroke-width:2;stroke:rgb(255,255,255)\"/><rect x=\"275\" y=\"0\" width=\"55\" height=\"55\" style=\"fill:#ebbeaa;stroke-width:2;stroke:rgb(255,255,255)\"/><rect x=\"330\" y=\"0\" width=\"55\" height=\"55\" style=\"fill:#fab387;stroke-width:2;stroke:rgb(255,255,255)\"/></svg>"
      ],
      "text/plain": [
       "[(0.4549019607843137, 0.7803921568627451, 0.9254901960784314),\n",
       " (0.5685205237804464, 0.7995413528733293, 0.9357031006174096),\n",
       " (0.6875816993464052, 0.8196078431372549, 0.94640522875817),\n",
       " (0.8052975100074632, 0.8381455096456115, 0.9535299093108985),\n",
       " (0.8627450980392157, 0.7934640522875817, 0.8143790849673203),\n",
       " (0.9229445688309926, 0.7466422416717551, 0.6685625890494606),\n",
       " (0.9803921568627451, 0.7019607843137254, 0.5294117647058824)]"
      ]
     },
     "execution_count": 79,
     "metadata": {},
     "output_type": "execute_result"
    }
   ],
   "source": [
    "diverging_palette(cat='mocha', n=7, clr_set=2)"
   ]
  },
  {
   "cell_type": "code",
   "execution_count": 80,
   "id": "17f3547e-1f69-4404-871b-19af75d34e54",
   "metadata": {},
   "outputs": [
    {
     "data": {
      "text/html": [
       "<svg  width=\"385\" height=\"55\"><rect x=\"0\" y=\"0\" width=\"55\" height=\"55\" style=\"fill:#89b4fa;stroke-width:2;stroke:rgb(255,255,255)\"/><rect x=\"55\" y=\"0\" width=\"55\" height=\"55\" style=\"fill:#9fbff8;stroke-width:2;stroke:rgb(255,255,255)\"/><rect x=\"110\" y=\"0\" width=\"55\" height=\"55\" style=\"fill:#b6cbf6;stroke-width:2;stroke:rgb(255,255,255)\"/><rect x=\"165\" y=\"0\" width=\"55\" height=\"55\" style=\"fill:#cdd5f3;stroke-width:2;stroke:rgb(255,255,255)\"/><rect x=\"220\" y=\"0\" width=\"55\" height=\"55\" style=\"fill:#dabddb;stroke-width:2;stroke:rgb(255,255,255)\"/><rect x=\"275\" y=\"0\" width=\"55\" height=\"55\" style=\"fill:#e7a3c1;stroke-width:2;stroke:rgb(255,255,255)\"/><rect x=\"330\" y=\"0\" width=\"55\" height=\"55\" style=\"fill:#f38ba8;stroke-width:2;stroke:rgb(255,255,255)\"/></svg>"
      ],
      "text/plain": [
       "[(0.5372549019607843, 0.7058823529411765, 0.9803921568627451),\n",
       " (0.6240645905420992, 0.749287197231834, 0.9727324784585115),\n",
       " (0.7150326797385621, 0.7947712418300654, 0.9647058823529412),\n",
       " (0.8050834746816836, 0.8369224506411561, 0.9545389329895743),\n",
       " (0.85359477124183, 0.7411764705882353, 0.8575163398692811),\n",
       " (0.9044298799104417, 0.640844019268607, 0.7558461225320577),\n",
       " (0.9529411764705882, 0.5450980392156862, 0.6588235294117647)]"
      ]
     },
     "execution_count": 80,
     "metadata": {},
     "output_type": "execute_result"
    }
   ],
   "source": [
    "diverging_palette(cat='mocha', n=7)"
   ]
  },
  {
   "cell_type": "code",
   "execution_count": 85,
   "id": "8a81f7ca-653b-4daf-ac27-a6c496b7d1d6",
   "metadata": {},
   "outputs": [
    {
     "data": {
      "text/html": [
       "<svg  width=\"385\" height=\"55\"><rect x=\"0\" y=\"0\" width=\"55\" height=\"55\" style=\"fill:#fab387;stroke-width:2;stroke:rgb(255,255,255)\"/><rect x=\"55\" y=\"0\" width=\"55\" height=\"55\" style=\"fill:#ae7e64;stroke-width:2;stroke:rgb(255,255,255)\"/><rect x=\"110\" y=\"0\" width=\"55\" height=\"55\" style=\"fill:#5f473f;stroke-width:2;stroke:rgb(255,255,255)\"/><rect x=\"165\" y=\"0\" width=\"55\" height=\"55\" style=\"fill:#12131d;stroke-width:2;stroke:rgb(255,255,255)\"/><rect x=\"220\" y=\"0\" width=\"55\" height=\"55\" style=\"fill:#395560;stroke-width:2;stroke:rgb(255,255,255)\"/><rect x=\"275\" y=\"0\" width=\"55\" height=\"55\" style=\"fill:#629aa7;stroke-width:2;stroke:rgb(255,255,255)\"/><rect x=\"330\" y=\"0\" width=\"55\" height=\"55\" style=\"fill:#89dceb;stroke-width:2;stroke:rgb(255,255,255)\"/></svg>"
      ],
      "text/plain": [
       "[(0.9803921568627451, 0.7019607843137254, 0.5294117647058824),\n",
       " (0.6829413121650043, 0.49514946739941645, 0.3915375534296764),\n",
       " (0.3712418300653595, 0.2784313725490196, 0.24705882352941178),\n",
       " (0.07033584368003257, 0.07287369111427731, 0.11224225976434403),\n",
       " (0.22352941176470587, 0.33202614379084966, 0.37777777777777777),\n",
       " (0.384061333876111, 0.6035926453626435, 0.6560331094375468),\n",
       " (0.5372549019607843, 0.8627450980392157, 0.9215686274509803)]"
      ]
     },
     "execution_count": 85,
     "metadata": {},
     "output_type": "execute_result"
    }
   ],
   "source": [
    "diverging_palette(cat='mocha', n=7, clr1='peach', clr2='crust', clr3='sky')"
   ]
  },
  {
   "cell_type": "code",
   "execution_count": 86,
   "id": "4fcbf495-4450-4bf0-b839-79aeee96037c",
   "metadata": {},
   "outputs": [
    {
     "data": {
      "text/html": [
       "<svg  width=\"385\" height=\"55\"><rect x=\"0\" y=\"0\" width=\"55\" height=\"55\" style=\"fill:#fe640b;stroke-width:2;stroke:rgb(255,255,255)\"/><rect x=\"55\" y=\"0\" width=\"55\" height=\"55\" style=\"fill:#f38c53;stroke-width:2;stroke:rgb(255,255,255)\"/><rect x=\"110\" y=\"0\" width=\"55\" height=\"55\" style=\"fill:#e7b79e;stroke-width:2;stroke:rgb(255,255,255)\"/><rect x=\"165\" y=\"0\" width=\"55\" height=\"55\" style=\"fill:#dae0e8;stroke-width:2;stroke:rgb(255,255,255)\"/><rect x=\"220\" y=\"0\" width=\"55\" height=\"55\" style=\"fill:#94cce7;stroke-width:2;stroke:rgb(255,255,255)\"/><rect x=\"275\" y=\"0\" width=\"55\" height=\"55\" style=\"fill:#4ab8e6;stroke-width:2;stroke:rgb(255,255,255)\"/><rect x=\"330\" y=\"0\" width=\"55\" height=\"55\" style=\"fill:#04a5e5;stroke-width:2;stroke:rgb(255,255,255)\"/></svg>"
      ],
      "text/plain": [
       "[(0.996078431372549, 0.39215686274509803, 0.043137254901960784),\n",
       " (0.9526735870818915, 0.5504568830992604, 0.3252687427912342),\n",
       " (0.9071895424836601, 0.7163398692810456, 0.6209150326797385),\n",
       " (0.8561405794151571, 0.876627360517448, 0.9097121921432934),\n",
       " (0.5803921568627451, 0.8013071895424837, 0.9058823529411765),\n",
       " (0.29143469706221575, 0.7223789945043761, 0.9018690548883914),\n",
       " (0.01568627450980392, 0.6470588235294118, 0.8980392156862745)]"
      ]
     },
     "execution_count": 86,
     "metadata": {},
     "output_type": "execute_result"
    }
   ],
   "source": [
    "diverging_palette(cat='latte', n=7, clr1='peach', clr2='crust', clr3='sky')"
   ]
  },
  {
   "cell_type": "code",
   "execution_count": null,
   "id": "d83d0ec2-a882-4fb2-825e-35c0f98c38d8",
   "metadata": {},
   "outputs": [],
   "source": []
  }
 ],
 "metadata": {
  "kernelspec": {
   "display_name": "Python 3 (ipykernel)",
   "language": "python",
   "name": "python3"
  },
  "language_info": {
   "codemirror_mode": {
    "name": "ipython",
    "version": 3
   },
   "file_extension": ".py",
   "mimetype": "text/x-python",
   "name": "python",
   "nbconvert_exporter": "python",
   "pygments_lexer": "ipython3",
   "version": "3.9.15"
  }
 },
 "nbformat": 4,
 "nbformat_minor": 5
}
