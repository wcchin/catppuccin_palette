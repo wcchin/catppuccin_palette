{
 "cells": [
  {
   "cell_type": "code",
   "execution_count": 19,
   "id": "3068f9d7-9f7a-43e0-a81a-0332826856af",
   "metadata": {},
   "outputs": [],
   "source": [
    "from catppuccin_palette import catppuccin as cpc"
   ]
  },
  {
   "cell_type": "markdown",
   "id": "2fa5ba28-05d1-4615-8b01-b3f45ebdb0db",
   "metadata": {},
   "source": [
    "for colors"
   ]
  },
  {
   "cell_type": "code",
   "execution_count": 2,
   "id": "a614494a-c0a4-46e2-bde4-507b7f93009a",
   "metadata": {},
   "outputs": [
    {
     "data": {
      "text/html": [
       "<svg  width=\"550\" height=\"55\"><rect x=\"0\" y=\"0\" width=\"55\" height=\"55\" style=\"fill:#1e66f5;stroke-width:2;stroke:rgb(255,255,255)\"/><rect x=\"55\" y=\"0\" width=\"55\" height=\"55\" style=\"fill:#fb640e;stroke-width:2;stroke:rgb(255,255,255)\"/><rect x=\"110\" y=\"0\" width=\"55\" height=\"55\" style=\"fill:#449f2a;stroke-width:2;stroke:rgb(255,255,255)\"/><rect x=\"165\" y=\"0\" width=\"55\" height=\"55\" style=\"fill:#d20f39;stroke-width:2;stroke:rgb(255,255,255)\"/><rect x=\"220\" y=\"0\" width=\"55\" height=\"55\" style=\"fill:#8939ed;stroke-width:2;stroke:rgb(255,255,255)\"/><rect x=\"275\" y=\"0\" width=\"55\" height=\"55\" style=\"fill:#dd7879;stroke-width:2;stroke:rgb(255,255,255)\"/><rect x=\"330\" y=\"0\" width=\"55\" height=\"55\" style=\"fill:#ea76cb;stroke-width:2;stroke:rgb(255,255,255)\"/><rect x=\"385\" y=\"0\" width=\"55\" height=\"55\" style=\"fill:#6f7083;stroke-width:2;stroke:rgb(255,255,255)\"/><rect x=\"440\" y=\"0\" width=\"55\" height=\"55\" style=\"fill:#dd8e1f;stroke-width:2;stroke:rgb(255,255,255)\"/><rect x=\"495\" y=\"0\" width=\"55\" height=\"55\" style=\"fill:#209fb5;stroke-width:2;stroke:rgb(255,255,255)\"/></svg>"
      ],
      "text/plain": [
       "[(0.11764705882352941, 0.4, 0.9607843137254902),\n",
       " (0.9857439446366782, 0.3922491349480969, 0.053933102652825804),\n",
       " (0.2685121107266435, 0.6219146482122261, 0.16567474048442907),\n",
       " (0.8235294117647058, 0.05882352941176472, 0.2235294117647059),\n",
       " (0.5367474048442906, 0.22159169550173013, 0.9288581314878894),\n",
       " (0.8672664359861592, 0.4704959630911188, 0.47441753171856954),\n",
       " (0.9176470588235294, 0.4627450980392157, 0.796078431372549),\n",
       " (0.4341407151095735, 0.43815455594002317, 0.5119723183391001),\n",
       " (0.8656978085351785, 0.5576470588235295, 0.12073817762399097),\n",
       " (0.12549019607843137, 0.6235294117647059, 0.7098039215686275)]"
      ]
     },
     "execution_count": 2,
     "metadata": {},
     "output_type": "execute_result"
    }
   ],
   "source": [
    "cpc.color_palette(cat='latte')"
   ]
  },
  {
   "cell_type": "code",
   "execution_count": 3,
   "id": "808a6300-94b3-4dd9-9d6b-b1afad030aba",
   "metadata": {},
   "outputs": [
    {
     "data": {
      "text/html": [
       "<svg  width=\"550\" height=\"55\"><rect x=\"0\" y=\"0\" width=\"55\" height=\"55\" style=\"fill:#8caaee;stroke-width:2;stroke:rgb(255,255,255)\"/><rect x=\"55\" y=\"0\" width=\"55\" height=\"55\" style=\"fill:#ee9f77;stroke-width:2;stroke:rgb(255,255,255)\"/><rect x=\"110\" y=\"0\" width=\"55\" height=\"55\" style=\"fill:#a8d089;stroke-width:2;stroke:rgb(255,255,255)\"/><rect x=\"165\" y=\"0\" width=\"55\" height=\"55\" style=\"fill:#e78284;stroke-width:2;stroke:rgb(255,255,255)\"/><rect x=\"220\" y=\"0\" width=\"55\" height=\"55\" style=\"fill:#ca9ee5;stroke-width:2;stroke:rgb(255,255,255)\"/><rect x=\"275\" y=\"0\" width=\"55\" height=\"55\" style=\"fill:#eebebe;stroke-width:2;stroke:rgb(255,255,255)\"/><rect x=\"330\" y=\"0\" width=\"55\" height=\"55\" style=\"fill:#f4b8e4;stroke-width:2;stroke:rgb(255,255,255)\"/><rect x=\"385\" y=\"0\" width=\"55\" height=\"55\" style=\"fill:#a7aecd;stroke-width:2;stroke:rgb(255,255,255)\"/><rect x=\"440\" y=\"0\" width=\"55\" height=\"55\" style=\"fill:#e4c891;stroke-width:2;stroke:rgb(255,255,255)\"/><rect x=\"495\" y=\"0\" width=\"55\" height=\"55\" style=\"fill:#85c1dc;stroke-width:2;stroke:rgb(255,255,255)\"/></svg>"
      ],
      "text/plain": [
       "[(0.5490196078431373, 0.6666666666666666, 0.9333333333333333),\n",
       " (0.9326874279123414, 0.6240369088811996, 0.4682814302191465),\n",
       " (0.6577162629757786, 0.8149942329873126, 0.5355017301038062),\n",
       " (0.9058823529411765, 0.5098039215686274, 0.5176470588235295),\n",
       " (0.7934948096885812, 0.6183160322952711, 0.8974394463667821),\n",
       " (0.9336101499423298, 0.7448212226066898, 0.7468512110726643),\n",
       " (0.9568627450980393, 0.7215686274509804, 0.8941176470588236),\n",
       " (0.6529642445213382, 0.6809227220299886, 0.8021222606689733),\n",
       " (0.8936101499423298, 0.7839907727797001, 0.5682122260668975),\n",
       " (0.5215686274509804, 0.7568627450980392, 0.8627450980392157)]"
      ]
     },
     "execution_count": 3,
     "metadata": {},
     "output_type": "execute_result"
    }
   ],
   "source": [
    "cpc.color_palette(cat='frappe')"
   ]
  },
  {
   "cell_type": "code",
   "execution_count": 4,
   "id": "4f2d9467-0645-4045-96ab-a0b32f5ab9f2",
   "metadata": {},
   "outputs": [
    {
     "data": {
      "text/html": [
       "<svg  width=\"550\" height=\"55\"><rect x=\"0\" y=\"0\" width=\"55\" height=\"55\" style=\"fill:#8aadf4;stroke-width:2;stroke:rgb(255,255,255)\"/><rect x=\"55\" y=\"0\" width=\"55\" height=\"55\" style=\"fill:#f4a980;stroke-width:2;stroke:rgb(255,255,255)\"/><rect x=\"110\" y=\"0\" width=\"55\" height=\"55\" style=\"fill:#a8d994;stroke-width:2;stroke:rgb(255,255,255)\"/><rect x=\"165\" y=\"0\" width=\"55\" height=\"55\" style=\"fill:#ed8796;stroke-width:2;stroke:rgb(255,255,255)\"/><rect x=\"220\" y=\"0\" width=\"55\" height=\"55\" style=\"fill:#c6a0f5;stroke-width:2;stroke:rgb(255,255,255)\"/><rect x=\"275\" y=\"0\" width=\"55\" height=\"55\" style=\"fill:#f0c6c6;stroke-width:2;stroke:rgb(255,255,255)\"/><rect x=\"330\" y=\"0\" width=\"55\" height=\"55\" style=\"fill:#f5bde6;stroke-width:2;stroke:rgb(255,255,255)\"/><rect x=\"385\" y=\"0\" width=\"55\" height=\"55\" style=\"fill:#a7aeca;stroke-width:2;stroke:rgb(255,255,255)\"/><rect x=\"440\" y=\"0\" width=\"55\" height=\"55\" style=\"fill:#edd4a0;stroke-width:2;stroke:rgb(255,255,255)\"/><rect x=\"495\" y=\"0\" width=\"55\" height=\"55\" style=\"fill:#7dc4e4;stroke-width:2;stroke:rgb(255,255,255)\"/></svg>"
      ],
      "text/plain": [
       "[(0.5411764705882353, 0.6784313725490196, 0.9568627450980393),\n",
       " (0.955847750865052, 0.6629296424452134, 0.503437139561707),\n",
       " (0.6582698961937716, 0.8503806228373703, 0.5822837370242215),\n",
       " (0.9294117647058824, 0.5294117647058824, 0.5882352941176471),\n",
       " (0.7782698961937716, 0.6262975778546713, 0.9602768166089966),\n",
       " (0.9414071510957324, 0.7760553633217994, 0.7779469434832756),\n",
       " (0.9607843137254902, 0.7411764705882353, 0.9019607843137255),\n",
       " (0.6537946943483278, 0.6820299884659747, 0.7920184544405996),\n",
       " (0.9281199538638983, 0.8306343713956171, 0.6267128027681662),\n",
       " (0.49019607843137253, 0.7686274509803922, 0.8941176470588236)]"
      ]
     },
     "execution_count": 4,
     "metadata": {},
     "output_type": "execute_result"
    }
   ],
   "source": [
    "cpc.color_palette(cat='macchiato')"
   ]
  },
  {
   "cell_type": "code",
   "execution_count": 16,
   "id": "0b5307a4-a6be-47da-9eb7-80b06ff5f759",
   "metadata": {},
   "outputs": [
    {
     "data": {
      "text/html": [
       "<svg  width=\"550\" height=\"55\"><rect x=\"0\" y=\"0\" width=\"55\" height=\"55\" style=\"fill:#89b4fa;stroke-width:2;stroke:rgb(255,255,255)\"/><rect x=\"55\" y=\"0\" width=\"55\" height=\"55\" style=\"fill:#f9b388;stroke-width:2;stroke:rgb(255,255,255)\"/><rect x=\"110\" y=\"0\" width=\"55\" height=\"55\" style=\"fill:#a8e2a0;stroke-width:2;stroke:rgb(255,255,255)\"/><rect x=\"165\" y=\"0\" width=\"55\" height=\"55\" style=\"fill:#f38ba8;stroke-width:2;stroke:rgb(255,255,255)\"/><rect x=\"220\" y=\"0\" width=\"55\" height=\"55\" style=\"fill:#cba6f6;stroke-width:2;stroke:rgb(255,255,255)\"/><rect x=\"275\" y=\"0\" width=\"55\" height=\"55\" style=\"fill:#f2cdcd;stroke-width:2;stroke:rgb(255,255,255)\"/><rect x=\"330\" y=\"0\" width=\"55\" height=\"55\" style=\"fill:#f5c2e7;stroke-width:2;stroke:rgb(255,255,255)\"/><rect x=\"385\" y=\"0\" width=\"55\" height=\"55\" style=\"fill:#a8aec7;stroke-width:2;stroke:rgb(255,255,255)\"/><rect x=\"440\" y=\"0\" width=\"55\" height=\"55\" style=\"fill:#f7e2b0;stroke-width:2;stroke:rgb(255,255,255)\"/><rect x=\"495\" y=\"0\" width=\"55\" height=\"55\" style=\"fill:#74c7ec;stroke-width:2;stroke:rgb(255,255,255)\"/></svg>"
      ],
      "text/plain": [
       "[(0.5372549019607843, 0.7058823529411765, 0.9803921568627451),\n",
       " (0.9751787773933103, 0.7020069204152248, 0.534717416378316),\n",
       " (0.6587312572087658, 0.8857670126874279, 0.6289734717416378),\n",
       " (0.9529411764705882, 0.5450980392156862, 0.6588235294117647),\n",
       " (0.7979238754325259, 0.6497347174163783, 0.9649826989619378),\n",
       " (0.9491580161476355, 0.8034140715109573, 0.8051211072664359),\n",
       " (0.9607843137254902, 0.7607843137254902, 0.9058823529411765),\n",
       " (0.6586389850057672, 0.6833217993079587, 0.7820069204152248),\n",
       " (0.9703344867358706, 0.8850288350634371, 0.6890888119953865),\n",
       " (0.4549019607843137, 0.7803921568627451, 0.9254901960784314)]"
      ]
     },
     "execution_count": 16,
     "metadata": {},
     "output_type": "execute_result"
    }
   ],
   "source": [
    "cpc.color_palette(cat='mocha', n=10)  # default"
   ]
  },
  {
   "cell_type": "markdown",
   "id": "6a8e684d-ac8a-430d-96f0-ecda1aedb3ad",
   "metadata": {},
   "source": [
    "for not 10 colors (not default): result not good"
   ]
  },
  {
   "cell_type": "code",
   "execution_count": 18,
   "id": "afcd9292-5b0c-4f90-8965-445bd337a7b4",
   "metadata": {},
   "outputs": [
    {
     "data": {
      "text/html": [
       "<svg  width=\"660\" height=\"55\"><rect x=\"0\" y=\"0\" width=\"55\" height=\"55\" style=\"fill:#89b4fa;stroke-width:2;stroke:rgb(255,255,255)\"/><rect x=\"55\" y=\"0\" width=\"55\" height=\"55\" style=\"fill:#e4b39d;stroke-width:2;stroke:rgb(255,255,255)\"/><rect x=\"110\" y=\"0\" width=\"55\" height=\"55\" style=\"fill:#c6d097;stroke-width:2;stroke:rgb(255,255,255)\"/><rect x=\"165\" y=\"0\" width=\"55\" height=\"55\" style=\"fill:#c7bda4;stroke-width:2;stroke:rgb(255,255,255)\"/><rect x=\"220\" y=\"0\" width=\"55\" height=\"55\" style=\"fill:#e793bf;stroke-width:2;stroke:rgb(255,255,255)\"/><rect x=\"275\" y=\"0\" width=\"55\" height=\"55\" style=\"fill:#cfaaf3;stroke-width:2;stroke:rgb(255,255,255)\"/><rect x=\"330\" y=\"0\" width=\"55\" height=\"55\" style=\"fill:#eec9d1;stroke-width:2;stroke:rgb(255,255,255)\"/><rect x=\"385\" y=\"0\" width=\"55\" height=\"55\" style=\"fill:#f4c5df;stroke-width:2;stroke:rgb(255,255,255)\"/><rect x=\"440\" y=\"0\" width=\"55\" height=\"55\" style=\"fill:#c8b6d5;stroke-width:2;stroke:rgb(255,255,255)\"/><rect x=\"495\" y=\"0\" width=\"55\" height=\"55\" style=\"fill:#c6c1bf;stroke-width:2;stroke:rgb(255,255,255)\"/><rect x=\"550\" y=\"0\" width=\"55\" height=\"55\" style=\"fill:#dfddbb;stroke-width:2;stroke:rgb(255,255,255)\"/><rect x=\"605\" y=\"0\" width=\"55\" height=\"55\" style=\"fill:#74c7ec;stroke-width:2;stroke:rgb(255,255,255)\"/></svg>"
      ],
      "text/plain": [
       "[(0.5372549019607843, 0.7058823529411765, 0.9803921568627451),\n",
       " (0.8941567270506818, 0.7027239297102924, 0.6171734853110795),\n",
       " (0.7769077051812651, 0.8175015039464458, 0.5933216636135423),\n",
       " (0.7822473709206865, 0.7418440871158151, 0.6421374584435849),\n",
       " (0.9074954881606622, 0.5760575344324581, 0.7487308501255173),\n",
       " (0.8109597666056041, 0.6658617273899179, 0.9526013976524866),\n",
       " (0.934138272610082, 0.7890402333943958, 0.8199476219553566),\n",
       " (0.9571938394735057, 0.7731591017029649, 0.8764149535246624),\n",
       " (0.7855463735667276, 0.7152767487617885, 0.8351182576836963),\n",
       " (0.77516140850804, 0.7583984440373612, 0.747152271750684),\n",
       " (0.8749722504918925, 0.8656695840966144, 0.7328263789945043),\n",
       " (0.4549019607843137, 0.7803921568627451, 0.9254901960784314)]"
      ]
     },
     "execution_count": 18,
     "metadata": {},
     "output_type": "execute_result"
    }
   ],
   "source": [
    "cpc.color_palette(cat='mocha', n=12)  # "
   ]
  },
  {
   "cell_type": "code",
   "execution_count": null,
   "id": "e1776718-4886-4a89-9d95-c2e74cc147ab",
   "metadata": {},
   "outputs": [],
   "source": []
  },
  {
   "cell_type": "code",
   "execution_count": null,
   "id": "70206221-510f-4614-bddb-d25ea500deaa",
   "metadata": {},
   "outputs": [],
   "source": []
  },
  {
   "cell_type": "markdown",
   "id": "e37847a9-f014-46f5-8b6a-7f39bb70eb50",
   "metadata": {},
   "source": [
    "for gray scale, n=5"
   ]
  },
  {
   "cell_type": "code",
   "execution_count": 7,
   "id": "d4a96c32-cdc8-4649-9d9f-684f71d434d7",
   "metadata": {},
   "outputs": [
    {
     "data": {
      "text/html": [
       "<svg  width=\"275\" height=\"55\"><rect x=\"0\" y=\"0\" width=\"55\" height=\"55\" style=\"fill:#4c4f69;stroke-width:2;stroke:rgb(255,255,255)\"/><rect x=\"55\" y=\"0\" width=\"55\" height=\"55\" style=\"fill:#75788c;stroke-width:2;stroke:rgb(255,255,255)\"/><rect x=\"110\" y=\"0\" width=\"55\" height=\"55\" style=\"fill:#9ea1b0;stroke-width:2;stroke:rgb(255,255,255)\"/><rect x=\"165\" y=\"0\" width=\"55\" height=\"55\" style=\"fill:#c7c9d3;stroke-width:2;stroke:rgb(255,255,255)\"/><rect x=\"220\" y=\"0\" width=\"55\" height=\"55\" style=\"fill:#eff1f5;stroke-width:2;stroke:rgb(255,255,255)\"/></svg>"
      ],
      "text/plain": [
       "[(0.2980392156862745, 0.30980392156862746, 0.4117647058823529),\n",
       " (0.45909895892228475, 0.46987556822036775, 0.5500982276801532),\n",
       " (0.620158702158295, 0.629947214872108, 0.6884317494779534),\n",
       " (0.7811889544745233, 0.7899895515299544, 0.8267399416514011),\n",
       " (0.9372549019607843, 0.9450980392156862, 0.9607843137254902)]"
      ]
     },
     "execution_count": 7,
     "metadata": {},
     "output_type": "execute_result"
    }
   ],
   "source": [
    "cpc.gray_palette(cat='latte', n=5)"
   ]
  },
  {
   "cell_type": "code",
   "execution_count": 11,
   "id": "14f4f1e0-0ce5-4571-aefe-bee7b4201e81",
   "metadata": {},
   "outputs": [
    {
     "data": {
      "text/html": [
       "<svg  width=\"275\" height=\"55\"><rect x=\"0\" y=\"0\" width=\"55\" height=\"55\" style=\"fill:#c6d0f5;stroke-width:2;stroke:rgb(255,255,255)\"/><rect x=\"55\" y=\"0\" width=\"55\" height=\"55\" style=\"fill:#a0a9c9;stroke-width:2;stroke:rgb(255,255,255)\"/><rect x=\"110\" y=\"0\" width=\"55\" height=\"55\" style=\"fill:#7a819d;stroke-width:2;stroke:rgb(255,255,255)\"/><rect x=\"165\" y=\"0\" width=\"55\" height=\"55\" style=\"fill:#555a71;stroke-width:2;stroke:rgb(255,255,255)\"/><rect x=\"220\" y=\"0\" width=\"55\" height=\"55\" style=\"fill:#303446;stroke-width:2;stroke:rgb(255,255,255)\"/></svg>"
      ],
      "text/plain": [
       "[(0.7764705882352941, 0.8156862745098039, 0.9607843137254902),\n",
       " (0.6282561005947939, 0.6615432073636837, 0.7878674114782399),\n",
       " (0.4800416129542936, 0.5074001402175634, 0.6149505092309896),\n",
       " (0.3318542641970283, 0.3532852975100074, 0.44206526901418014),\n",
       " (0.18823529411764706, 0.20392156862745098, 0.27450980392156865)]"
      ]
     },
     "execution_count": 11,
     "metadata": {},
     "output_type": "execute_result"
    }
   ],
   "source": [
    "cpc.gray_palette(cat='frappe', n=5)"
   ]
  },
  {
   "cell_type": "code",
   "execution_count": 12,
   "id": "712143ba-c112-446c-99ad-7da3b061cbe1",
   "metadata": {},
   "outputs": [
    {
     "data": {
      "text/html": [
       "<svg  width=\"275\" height=\"55\"><rect x=\"0\" y=\"0\" width=\"55\" height=\"55\" style=\"fill:#cad3f5;stroke-width:2;stroke:rgb(255,255,255)\"/><rect x=\"55\" y=\"0\" width=\"55\" height=\"55\" style=\"fill:#a0a8c6;stroke-width:2;stroke:rgb(255,255,255)\"/><rect x=\"110\" y=\"0\" width=\"55\" height=\"55\" style=\"fill:#767c97;stroke-width:2;stroke:rgb(255,255,255)\"/><rect x=\"165\" y=\"0\" width=\"55\" height=\"55\" style=\"fill:#4d5168;stroke-width:2;stroke:rgb(255,255,255)\"/><rect x=\"220\" y=\"0\" width=\"55\" height=\"55\" style=\"fill:#24273a;stroke-width:2;stroke:rgb(255,255,255)\"/></svg>"
      ],
      "text/plain": [
       "[(0.792156862745098, 0.8274509803921568, 0.9607843137254902),\n",
       " (0.6281328297562777, 0.6574983678977165, 0.776010252467),\n",
       " (0.4641087967674575, 0.4875457554032762, 0.5912361912085095),\n",
       " (0.30011479747608394, 0.31762426216161205, 0.40649596309111874),\n",
       " (0.1411764705882353, 0.15294117647058825, 0.22745098039215686)]"
      ]
     },
     "execution_count": 12,
     "metadata": {},
     "output_type": "execute_result"
    }
   ],
   "source": [
    "cpc.gray_palette(cat='macchiato', n=5)"
   ]
  },
  {
   "cell_type": "code",
   "execution_count": 13,
   "id": "8c21ce28-bc43-4b9c-aa25-408882e98267",
   "metadata": {},
   "outputs": [
    {
     "data": {
      "text/html": [
       "<svg  width=\"275\" height=\"55\"><rect x=\"0\" y=\"0\" width=\"55\" height=\"55\" style=\"fill:#cdd6f4;stroke-width:2;stroke:rgb(255,255,255)\"/><rect x=\"55\" y=\"0\" width=\"55\" height=\"55\" style=\"fill:#a1a8c2;stroke-width:2;stroke:rgb(255,255,255)\"/><rect x=\"110\" y=\"0\" width=\"55\" height=\"55\" style=\"fill:#757990;stroke-width:2;stroke:rgb(255,255,255)\"/><rect x=\"165\" y=\"0\" width=\"55\" height=\"55\" style=\"fill:#494b5e;stroke-width:2;stroke:rgb(255,255,255)\"/><rect x=\"220\" y=\"0\" width=\"55\" height=\"55\" style=\"fill:#1e1e2e;stroke-width:2;stroke:rgb(255,255,255)\"/></svg>"
      ],
      "text/plain": [
       "[(0.803921568627451, 0.8392156862745098, 0.9568627450980393),\n",
       " (0.6310046663802008, 0.6574059147688295, 0.7612196214125789),\n",
       " (0.4580877641329504, 0.47559614326314914, 0.5655764977271186),\n",
       " (0.2852025239161409, 0.29381966212090377, 0.3699691973675283),\n",
       " (0.11764705882352941, 0.11764705882352941, 0.1803921568627451)]"
      ]
     },
     "execution_count": 13,
     "metadata": {},
     "output_type": "execute_result"
    }
   ],
   "source": [
    "cpc.gray_palette(cat='mocha', n=5)"
   ]
  },
  {
   "cell_type": "code",
   "execution_count": 14,
   "id": "368ef249-9948-473d-9056-192761fd242a",
   "metadata": {},
   "outputs": [
    {
     "data": {
      "text/html": [
       "<svg  width=\"110\" height=\"55\"><rect x=\"0\" y=\"0\" width=\"55\" height=\"55\" style=\"fill:#cdd6f4;stroke-width:2;stroke:rgb(255,255,255)\"/><rect x=\"55\" y=\"0\" width=\"55\" height=\"55\" style=\"fill:#1e1e2e;stroke-width:2;stroke:rgb(255,255,255)\"/></svg>"
      ],
      "text/plain": [
       "[(0.803921568627451, 0.8392156862745098, 0.9568627450980393),\n",
       " (0.11764705882352941, 0.11764705882352941, 0.1803921568627451)]"
      ]
     },
     "execution_count": 14,
     "metadata": {},
     "output_type": "execute_result"
    }
   ],
   "source": [
    "cpc.gray_palette(cat='mocha', n=2)  # default"
   ]
  },
  {
   "cell_type": "code",
   "execution_count": null,
   "id": "1cc43eeb-7921-4351-9a87-6db960a56f0a",
   "metadata": {},
   "outputs": [],
   "source": []
  }
 ],
 "metadata": {
  "kernelspec": {
   "display_name": "Python 3 (ipykernel)",
   "language": "python",
   "name": "python3"
  },
  "language_info": {
   "codemirror_mode": {
    "name": "ipython",
    "version": 3
   },
   "file_extension": ".py",
   "mimetype": "text/x-python",
   "name": "python",
   "nbconvert_exporter": "python",
   "pygments_lexer": "ipython3",
   "version": "3.9.15"
  }
 },
 "nbformat": 4,
 "nbformat_minor": 5
}
